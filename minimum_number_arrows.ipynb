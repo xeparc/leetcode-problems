{
 "cells": [
  {
   "cell_type": "markdown",
   "metadata": {},
   "source": [
    "Minimum Number of Arrows to Burst Ballonons\n",
    "===\n",
    "***\n",
    "Problem\n",
    "---\n",
    "\n",
    "https://leetcode.com/problems/minimum-number-of-arrows-to-burst-balloons/\n",
    "\n",
    "There are a number of spherical balloons spread in two-dimensional space. For each balloon, provided input is the start and end coordinates of the horizontal diameter. Since it's horizontal, y-coordinates don't matter and hence the x-coordinates of start and end of the diameter suffice. Start is always smaller than end. There will be at most 104 balloons.\n",
    "\n",
    "An arrow can be shot up exactly vertically from different points along the x-axis. A balloon with xstart and xend bursts by an arrow shot at x if xstart ≤ x ≤ xend. There is no limit to the number of arrows that can be shot. An arrow once shot keeps travelling up infinitely. The problem is to find the minimum number of arrows that must be shot to burst all balloons.\n",
    "\n",
    "Example:\n",
    "\n",
    "Input:\n",
    "[[10,16], [2,8], [1,6], [7,12]]\n",
    "\n",
    "Output:\n",
    "2\n",
    "\n",
    "Explanation:\n",
    "One way is to shoot one arrow for example at x = 6 (bursting the balloons [2,8] and [1,6]) and another arrow at x = 11 (bursting the other two balloons)."
   ]
  },
  {
   "cell_type": "code",
   "execution_count": 18,
   "metadata": {},
   "outputs": [],
   "source": [
    "from typing import List\n",
    "\n",
    "def min_arrows(balloons: List[List[int]]):\n",
    "    balloons.sort()\n",
    "    i, N = 0, len(balloons)\n",
    "    arrows = 0\n",
    "    while i < N:\n",
    "        shot = balloons[i][:]\n",
    "        j = i + 1\n",
    "        while j < N and shot[1] >= balloons[j][0]:\n",
    "            shot[0] = max(shot[0], balloons[j][0])\n",
    "            shot[1] = min(shot[1], balloons[j][1])\n",
    "            j += 1\n",
    "        arrows += 1\n",
    "        i = j\n",
    "    return arrows"
   ]
  },
  {
   "cell_type": "code",
   "execution_count": 19,
   "metadata": {},
   "outputs": [
    {
     "data": {
      "text/plain": [
       "2"
      ]
     },
     "execution_count": 19,
     "metadata": {},
     "output_type": "execute_result"
    }
   ],
   "source": [
    "min_arrows([[10,16], [2,8], [1,6], [7,12]])"
   ]
  },
  {
   "cell_type": "code",
   "execution_count": 20,
   "metadata": {},
   "outputs": [
    {
     "data": {
      "text/plain": [
       "2"
      ]
     },
     "execution_count": 20,
     "metadata": {},
     "output_type": "execute_result"
    }
   ],
   "source": [
    "min_arrows([[9,12],[1,10],[4,11],[8,12],[3,9],[6,9],[6,7]])"
   ]
  }
 ],
 "metadata": {
  "kernelspec": {
   "display_name": "Python 3",
   "language": "python",
   "name": "python3"
  },
  "language_info": {
   "codemirror_mode": {
    "name": "ipython",
    "version": 3
   },
   "file_extension": ".py",
   "mimetype": "text/x-python",
   "name": "python",
   "nbconvert_exporter": "python",
   "pygments_lexer": "ipython3",
   "version": "3.7.6"
  }
 },
 "nbformat": 4,
 "nbformat_minor": 4
}
