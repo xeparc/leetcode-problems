{
 "cells": [
  {
   "cell_type": "markdown",
   "metadata": {},
   "source": [
    "376 Wiggle Subsequence\n",
    "===\n",
    "***\n",
    "Problem\n",
    "---\n",
    "https://leetcode.com/problems/wiggle-subsequence/\n",
    "\n",
    "A sequence of numbers is called a wiggle sequence if the differences between successive numbers strictly alternate between positive and negative. The first difference (if one exists) may be either positive or negative. A sequence with fewer than two elements is trivially a wiggle sequence.\n",
    "\n",
    "For example, [1,7,4,9,2,5] is a wiggle sequence because the differences (6,-3,5,-7,3) are alternately positive and negative. In contrast, [1,4,7,2,5] and [1,7,4,5,5] are not wiggle sequences, the first because its first two differences are positive and the second because its last difference is zero.\n",
    "\n",
    "Given a sequence of integers, return the length of the longest subsequence that is a wiggle sequence. A subsequence is obtained by deleting some number of elements (eventually, also zero) from the original sequence, leaving the remaining elements in their original order.\n",
    "\n",
    "**Example 1:**  \n",
    "Input: [1,7,4,9,2,5]  \n",
    "Output: 6  \n",
    "Explanation: The entire sequence is a wiggle sequence.  \n",
    "\n",
    "**Example 2:**  \n",
    "Input: [1,17,5,10,13,15,10,5,16,8]  \n",
    "Output: 7  \n",
    "Explanation: There are several subsequences that achieve this length. One is [1,17,10,13,10,16,8].  \n",
    "\n",
    "**Example 3:**  \n",
    "Input: [1,2,3,4,5,6,7,8,9]  \n",
    "Output: 2  \n",
    "\n",
    "\n",
    "**Follow up:**  \n",
    "Can you do it in O(n) time?  "
   ]
  },
  {
   "cell_type": "code",
   "execution_count": 4,
   "metadata": {},
   "outputs": [],
   "source": [
    "import itertools\n",
    "import random"
   ]
  },
  {
   "cell_type": "markdown",
   "metadata": {},
   "source": [
    "**Iterative solution - \\$O(n)\\$**"
   ]
  },
  {
   "cell_type": "code",
   "execution_count": 5,
   "metadata": {},
   "outputs": [],
   "source": [
    "def wiggle_subsequence(nums):\n",
    "    def wiggle(nums, increasing):\n",
    "        length = 1\n",
    "        it = iter(nums)\n",
    "        last = next(it)\n",
    "        while True:\n",
    "            try:\n",
    "                current = next(it)\n",
    "            except StopIteration:\n",
    "                break\n",
    "            if increasing and current > last:\n",
    "                length += 1\n",
    "                last = current\n",
    "                increasing = not increasing\n",
    "            elif increasing and current < last:\n",
    "                last = current\n",
    "            elif not increasing and current < last:\n",
    "                length += 1\n",
    "                last = current\n",
    "                increasing = not increasing\n",
    "            elif not increasing and current > last:\n",
    "                last = current\n",
    "        return length\n",
    "\n",
    "    return max(wiggle(nums, True), wiggle(nums, False)) if nums else 0"
   ]
  },
  {
   "cell_type": "markdown",
   "metadata": {},
   "source": [
    "**Refactored code**"
   ]
  },
  {
   "cell_type": "code",
   "execution_count": 17,
   "metadata": {},
   "outputs": [],
   "source": [
    "def max_wiggle_subsequence(nums):\n",
    "    def wiggle(nums, increasing):\n",
    "        length = 1\n",
    "        last = nums[0]\n",
    "        for current in itertools.islice(nums, 1, None):\n",
    "            greater = current > last\n",
    "            smaller = current < last\n",
    "            if (increasing and greater) or (not increasing and smaller):\n",
    "                length += 1\n",
    "                increasing = not increasing\n",
    "            last = current\n",
    "        return length\n",
    "\n",
    "    return max(wiggle(nums, True), wiggle(nums, False)) if nums else 0"
   ]
  },
  {
   "cell_type": "markdown",
   "metadata": {},
   "source": [
    "**Tests**"
   ]
  },
  {
   "cell_type": "code",
   "execution_count": 20,
   "metadata": {},
   "outputs": [],
   "source": [
    "for _ in range(1000):\n",
    "    for n in (10, 100, 1000):\n",
    "        nums = [random.randint(0, 100) for _ in range(n)]\n",
    "        assert(max_wiggle_subsequence(nums) == wiggle_subsequence(nums))"
   ]
  },
  {
   "cell_type": "code",
   "execution_count": 21,
   "metadata": {},
   "outputs": [],
   "source": [
    "arr = [random.randint(0, 100) for _ in range(10000)]"
   ]
  },
  {
   "cell_type": "code",
   "execution_count": 22,
   "metadata": {},
   "outputs": [
    {
     "name": "stdout",
     "output_type": "stream",
     "text": [
      "3.13 ms ± 30.2 µs per loop (mean ± std. dev. of 7 runs, 100 loops each)\n"
     ]
    }
   ],
   "source": [
    "%timeit max_wiggle_subsequence(arr)"
   ]
  },
  {
   "cell_type": "code",
   "execution_count": 23,
   "metadata": {},
   "outputs": [
    {
     "name": "stdout",
     "output_type": "stream",
     "text": [
      "3.58 ms ± 28.6 µs per loop (mean ± std. dev. of 7 runs, 100 loops each)\n"
     ]
    }
   ],
   "source": [
    "%timeit wiggle_subsequence(arr)"
   ]
  },
  {
   "cell_type": "code",
   "execution_count": null,
   "metadata": {},
   "outputs": [],
   "source": []
  }
 ],
 "metadata": {
  "kernelspec": {
   "display_name": "Python 3",
   "language": "python",
   "name": "python3"
  },
  "language_info": {
   "codemirror_mode": {
    "name": "ipython",
    "version": 3
   },
   "file_extension": ".py",
   "mimetype": "text/x-python",
   "name": "python",
   "nbconvert_exporter": "python",
   "pygments_lexer": "ipython3",
   "version": "3.7.6"
  }
 },
 "nbformat": 4,
 "nbformat_minor": 4
}
