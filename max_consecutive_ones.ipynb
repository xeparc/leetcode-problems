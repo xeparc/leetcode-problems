{
 "cells": [
  {
   "cell_type": "code",
   "execution_count": 28,
   "metadata": {},
   "outputs": [
    {
     "data": {
      "text/plain": [
       "True"
      ]
     },
     "execution_count": 28,
     "metadata": {},
     "output_type": "execute_result"
    }
   ],
   "source": [
    "\"\"\"\n",
    "Problem\n",
    "\n",
    "Given a binary array find the maximum\n",
    "number of consecutive 1s in this array.\n",
    "\n",
    "Input: [1, 1, 0, 1, 1, 1]\n",
    "Output: 3\n",
    "\n",
    "\"\"\"\n",
    "import numpy as np\n",
    "\n",
    "\n",
    "def max_consecutive_ones(array):\n",
    "    \n",
    "    i, j = (0, 0)\n",
    "    max_ones = 0\n",
    "    while i < len(array):\n",
    "        if array[i] == 1:\n",
    "            j = i + 1\n",
    "            while j < len(array) and array[j] == 1:\n",
    "                j += 1\n",
    "            max_ones = max(max_ones, j - i)\n",
    "            i = j\n",
    "        else:\n",
    "            i += 1\n",
    "\n",
    "    return max_ones\n",
    "\n",
    "\n",
    "def _max_ones(array):\n",
    "    \"\"\"O(n^2) solution for validation.\"\"\"\n",
    "    \n",
    "    max_ones = 0\n",
    "    for i in range(len(array)):\n",
    "        for j in range(i + 1, len(array) + 1):\n",
    "            if array[i:j].all():\n",
    "                max_ones = max(max_ones, j - i)\n",
    "    \n",
    "    return max_ones\n",
    "\n",
    "\n",
    "def test_max_consecutive_ones():\n",
    "    lengths = np.full((10,), 2)\n",
    "    lengths = np.cumprod(lengths)\n",
    "    \n",
    "    for l in lengths:\n",
    "        a = np.random.randint(0, 2, l)\n",
    "        if _max_ones(a) != max_consecutive_ones(a):\n",
    "            return False\n",
    "    \n",
    "    return True\n",
    "\n",
    "\n",
    "max_consecutive_ones(np.array([1, 1, 0, 1, 1, 1]))\n",
    "_max_ones(np.array([1, 1, 0, 1, 1, 1]))\n",
    "\n",
    "\n",
    "test_max_consecutive_ones()\n"
   ]
  },
  {
   "cell_type": "code",
   "execution_count": null,
   "metadata": {},
   "outputs": [],
   "source": []
  }
 ],
 "metadata": {
  "kernelspec": {
   "display_name": "Python 3",
   "language": "python",
   "name": "python3"
  },
  "language_info": {
   "codemirror_mode": {
    "name": "ipython",
    "version": 3
   },
   "file_extension": ".py",
   "mimetype": "text/x-python",
   "name": "python",
   "nbconvert_exporter": "python",
   "pygments_lexer": "ipython3",
   "version": "3.6.5"
  }
 },
 "nbformat": 4,
 "nbformat_minor": 2
}
