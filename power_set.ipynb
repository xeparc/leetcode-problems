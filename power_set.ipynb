{
 "cells": [
  {
   "cell_type": "markdown",
   "metadata": {},
   "source": [
    "<h2><center>Power Set</center></h2>\n",
    "<h3>Problem:</h3>\n",
    "<p>\n",
    "    The input for this problem will be an array of numbers representing a set, which only contains unique numbers,<br>\n",
    "    and your goal is to print every possible set combination, otherwise known as the power set.\n",
    "</p>\n",
    "<p>\n",
    "    <strong>For example:</strong><br>\n",
    "    input set = [1, 2, 3]<br>\n",
    "    power set = [[], [1], [2], [3], [1, 2], [2, 3], [1, 3] [1, 2, 3]]<br>\n",
    "</p>\n",
    "<p>\n",
    "The power set contains every possible combination of numbers. It also includes the empty set which contains no numbers from the original set.\n",
    "</p>"
   ]
  },
  {
   "cell_type": "code",
   "execution_count": 33,
   "metadata": {},
   "outputs": [
    {
     "data": {
      "text/plain": [
       "[array([], dtype=int32),\n",
       " array([1]),\n",
       " array([2]),\n",
       " array([1, 2]),\n",
       " array([3]),\n",
       " array([1, 3]),\n",
       " array([2, 3]),\n",
       " array([1, 2, 3]),\n",
       " array([4]),\n",
       " array([1, 4]),\n",
       " array([2, 4]),\n",
       " array([1, 2, 4]),\n",
       " array([3, 4]),\n",
       " array([1, 3, 4]),\n",
       " array([2, 3, 4]),\n",
       " array([1, 2, 3, 4])]"
      ]
     },
     "execution_count": 33,
     "metadata": {},
     "output_type": "execute_result"
    }
   ],
   "source": [
    "import numpy as np\n",
    "import random\n",
    "\n",
    "\n",
    "def power_set(nums):\n",
    "    N = 2 ** len(nums)\n",
    "    result = []\n",
    "    \n",
    "    for i in range(N):\n",
    "        subset = []\n",
    "        for j in range(len(nums)):\n",
    "            if (1 << j) & i:\n",
    "                subset.append(nums[j])\n",
    "        result.append(subset)\n",
    "    return result\n",
    "\n",
    "\n",
    "def power_set_numpy(nums):\n",
    "    assert(nums.ndim == 1)\n",
    "    N = 2 ** nums.size\n",
    "    mask = np.zeros_like(nums, dtype=np.bool)\n",
    "    result = []\n",
    "    zero = np.array([False])\n",
    "    for i in range(N):\n",
    "        mask &= zero\n",
    "        for j in range(nums.size):\n",
    "            if 1 << j & i:\n",
    "                mask[j] = True\n",
    "        result.append(nums[mask])\n",
    "    return result\n",
    "\n",
    "\n",
    "power_set([1, 2, 3, 4])\n",
    "power_set_numpy(np.array([1, 2, 3, 4]))"
   ]
  },
  {
   "cell_type": "code",
   "execution_count": 31,
   "metadata": {},
   "outputs": [
    {
     "name": "stdout",
     "output_type": "stream",
     "text": [
      "1.96 ms ± 115 µs per loop (mean ± std. dev. of 7 runs, 1000 loops each)\n"
     ]
    }
   ],
   "source": [
    "%timeit power_set(list(range(10)))"
   ]
  },
  {
   "cell_type": "code",
   "execution_count": 34,
   "metadata": {},
   "outputs": [
    {
     "name": "stdout",
     "output_type": "stream",
     "text": [
      "3.67 ms ± 331 µs per loop (mean ± std. dev. of 7 runs, 100 loops each)\n"
     ]
    }
   ],
   "source": [
    "%timeit power_set_numpy(np.arange(10))"
   ]
  },
  {
   "cell_type": "code",
   "execution_count": null,
   "metadata": {},
   "outputs": [],
   "source": []
  }
 ],
 "metadata": {
  "kernelspec": {
   "display_name": "Python 3",
   "language": "python",
   "name": "python3"
  },
  "language_info": {
   "codemirror_mode": {
    "name": "ipython",
    "version": 3
   },
   "file_extension": ".py",
   "mimetype": "text/x-python",
   "name": "python",
   "nbconvert_exporter": "python",
   "pygments_lexer": "ipython3",
   "version": "3.7.4"
  }
 },
 "nbformat": 4,
 "nbformat_minor": 2
}
