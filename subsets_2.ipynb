{
 "cells": [
  {
   "cell_type": "markdown",
   "metadata": {},
   "source": [
    "Subsets II\n",
    "===\n",
    "\n",
    "***\n",
    "Problem\n",
    "---\n",
    "Given a collection of integers that might contain duplicates, return all possible subsets.\n",
    "Note: The solution must not contain duplicate subsets.\n",
    "\n",
    "For example, if nums = [1, 2, 2], a solution is:\n",
    "[[2], [1], [1, 2, 2], [2, 2], [1, 2], []]"
   ]
  },
  {
   "cell_type": "code",
   "execution_count": 44,
   "metadata": {},
   "outputs": [],
   "source": [
    "import itertools\n",
    "from collections.abc import Iterable"
   ]
  },
  {
   "cell_type": "markdown",
   "metadata": {},
   "source": [
    "**First solution**"
   ]
  },
  {
   "cell_type": "code",
   "execution_count": 27,
   "metadata": {},
   "outputs": [],
   "source": [
    "def decart(A, B):\n",
    "    if not A:\n",
    "        return B\n",
    "    if not B:\n",
    "        return A\n",
    "    return [x + y for x in A for y in B]\n",
    "\n",
    "def _subsets(collection):\n",
    "    it = iter(collection)\n",
    "    try:\n",
    "        first = next(it)\n",
    "    except StopIteration:\n",
    "        return [tuple()]\n",
    "    if isinstance(first, Iterable):\n",
    "        first = list(first)\n",
    "        first = [tuple(first[i:]) for i in range(len(first))]\n",
    "    else:\n",
    "        first = [(first,)]\n",
    "    without = _subsets(it)\n",
    "    first.append(tuple())\n",
    "    return decart(first, without)\n",
    "\n",
    "\n",
    "def subsets(collection):\n",
    "    \n",
    "    def subsets_unique(collection):\n",
    "        it = iter(collection)\n",
    "        try:\n",
    "            first = next(it)\n",
    "        except StopIteration:\n",
    "            return [tuple()]\n",
    "        without = subsets_unique(it)\n",
    "        return decart([(first,), tuple()], without)\n",
    "    \n",
    "    def subsets_duplicates(collection):\n",
    "        it = iter(collection)\n",
    "        try:\n",
    "            first = next(it)\n",
    "        except StopIteration:\n",
    "            return [tuple()]\n",
    "        first_subsets = [tuple(first[i:]) for i in range(len(first) + 1)]\n",
    "        rest = subsets_duplicates(it)\n",
    "        return decart(first_subsets, rest)\n",
    "\n",
    "    elements = sorted(collection)\n",
    "    duplicates = []\n",
    "    unique = []\n",
    "    i, N = 0, len(elements)\n",
    "    while i < N:\n",
    "        j = i + 1\n",
    "        while j < N and elements[j] is elements[i]:\n",
    "            j += 1\n",
    "        if j > i + 1:\n",
    "            duplicates.append(elements[i:j])\n",
    "        else:\n",
    "            unique.append(elements[i])\n",
    "        i = j\n",
    "    \n",
    "    return decart(subsets_unique(unique),\n",
    "                  subsets_duplicates(duplicates))\n",
    "            "
   ]
  },
  {
   "cell_type": "markdown",
   "metadata": {},
   "source": [
    "**Clean**"
   ]
  },
  {
   "cell_type": "code",
   "execution_count": 5,
   "metadata": {},
   "outputs": [],
   "source": [
    "def decart(A, B):\n",
    "    if not A:\n",
    "        return B\n",
    "    if not B:\n",
    "        return A\n",
    "    return [x + y for x in A for y in B]\n",
    "\n",
    "\n",
    "def group(collection):\n",
    "    it = iter(collection)\n",
    "    G = []\n",
    "    try:\n",
    "        lastseen = next(it)\n",
    "    except StopIteration:\n",
    "        pass\n",
    "    else:\n",
    "        while True:\n",
    "            G = [lastseen]\n",
    "            try:\n",
    "                current = next(it)\n",
    "            except StopIteration:\n",
    "                break\n",
    "            while current == lastseen:\n",
    "                G.append(current)\n",
    "                try:\n",
    "                    current = next(it)\n",
    "                except StopIteration:\n",
    "                    break\n",
    "            yield G\n",
    "            lastseen = current\n",
    "    yield G\n",
    "\n",
    "\n",
    "def subsets(collection):\n",
    "    def _subsets(collection):\n",
    "        if not collection:\n",
    "            return [tuple()]\n",
    "        first = collection[0]\n",
    "        s1 = [tuple(first[i:]) for i in range(len(first) + 1)]\n",
    "        s2 = _subsets(collection[1:])\n",
    "        return decart(s1, s2)\n",
    "    \n",
    "    return _subsets(list(group(sorted(collection))))\n"
   ]
  },
  {
   "cell_type": "markdown",
   "metadata": {},
   "source": [
    "**Pythonic**"
   ]
  },
  {
   "cell_type": "code",
   "execution_count": 57,
   "metadata": {},
   "outputs": [],
   "source": [
    "import itertools\n",
    "from operator import add\n",
    "from functools import reduce, partial\n",
    "\n",
    "def py_subsets(collection):\n",
    "    def subsets(elements):\n",
    "        if not elements:\n",
    "            return [tuple()]\n",
    "        first = elements[0]\n",
    "        s1 = [tuple(first[i:]) for i in range(len(first) + 1)]\n",
    "        s2 = subsets(elements[1:])\n",
    "        return list(map(partial(reduce, add), itertools.product(s1, s2)))\n",
    "    \n",
    "    s = list(map(lambda x: list(x[1]), itertools.groupby(sorted(collection))))\n",
    "    return subsets(s)\n"
   ]
  },
  {
   "cell_type": "code",
   "execution_count": 61,
   "metadata": {},
   "outputs": [
    {
     "data": {
      "text/plain": [
       "[(1, 2, 2), (1, 2), (1,), (2, 2), (2,), ()]"
      ]
     },
     "execution_count": 61,
     "metadata": {},
     "output_type": "execute_result"
    }
   ],
   "source": [
    "py_subsets([1, 2, 2])"
   ]
  }
 ],
 "metadata": {
  "kernelspec": {
   "display_name": "Python 3",
   "language": "python",
   "name": "python3"
  },
  "language_info": {
   "codemirror_mode": {
    "name": "ipython",
    "version": 3
   },
   "file_extension": ".py",
   "mimetype": "text/x-python",
   "name": "python",
   "nbconvert_exporter": "python",
   "pygments_lexer": "ipython3",
   "version": "3.7.6"
  }
 },
 "nbformat": 4,
 "nbformat_minor": 4
}
