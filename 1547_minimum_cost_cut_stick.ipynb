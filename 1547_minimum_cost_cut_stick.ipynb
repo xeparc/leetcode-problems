{
 "cells": [
  {
   "cell_type": "markdown",
   "metadata": {},
   "source": [
    "Minimum Cost to Cut a Stick\n",
    "===\n",
    "***\n",
    "Problem\n",
    "---\n",
    "https://leetcode.com/problems/minimum-cost-to-cut-a-stick/\n",
    "\n",
    "Given a wooden stick of length n units. The stick is labelled from 0 to n. For example, a stick of length 6 is labelled as follows:\n",
    "\n",
    "[0, 1, 2, 3, 4, 5, 6]\n",
    "\n",
    "\n",
    "Given an integer array cuts where cuts[i] denotes a position you should perform a cut at.\n",
    "You should perform the cuts in order, you can change the order of the cuts as you wish.\n",
    "The cost of one cut is the length of the stick to be cut, the total cost is the sum of costs of all cuts. When you cut a stick, it will be split into two smaller sticks (i.e. the sum of their lengths is the length of the stick before the cut). Please refer to the first example for a better explanation.\n",
    "\n",
    "Return the minimum total cost of the cuts.\n",
    "\n",
    "\n",
    "**Example 1:**  \n",
    "\n",
    "Input: n = 7, cuts = [1,3,4,5]  \n",
    "Output: 16  \n",
    "Explanation: Using cuts order = [1, 3, 4, 5] as in the input leads to the following scenario:  \n",
    "The first cut is done to a rod of length 7 so the cost is 7. The second cut is done to a rod of length 6 (i.e. the second part of the first cut), the third is done to a rod of length 4 and the last cut is to a rod of length 3. The total cost is 7 + 6 + 4 + 3 = 20.\n",
    "Rearranging the cuts to be [3, 5, 1, 4] for example will lead to a scenario with total cost = 16 (as shown in the example photo 7 + 4 + 3 + 2 = 16).\n",
    "\n",
    "\n",
    "**Example 2:**\n",
    "\n",
    "Input: n = 9, cuts = [5,6,1,4,2]  \n",
    "Output: 22  \n",
    "Explanation: If you try the given cuts ordering the cost will be 25.  \n",
    "There are much ordering with total cost <= 25, for example, the order [4, 6, 5, 2, 1] has total cost = 22 which is the minimum possible.\n",
    " \n",
    "\n",
    "**Constraints:**  \n",
    "\n",
    "2 <= n <= 10^6  \n",
    "1 <= cuts.length <= min(n - 1, 100)  \n",
    "1 <= cuts[i] <= n - 1  \n",
    "All the integers in cuts array are distinct.  "
   ]
  },
  {
   "cell_type": "code",
   "execution_count": null,
   "metadata": {},
   "outputs": [],
   "source": [
    "import functools\n",
    "import random"
   ]
  },
  {
   "cell_type": "markdown",
   "metadata": {},
   "source": [
    "**Brute force solution - \\$O(k!)\\$ where k is the number of cuts**"
   ]
  },
  {
   "cell_type": "code",
   "execution_count": 100,
   "metadata": {},
   "outputs": [],
   "source": [
    "@functools.lru_cache(10000)\n",
    "def min_cost_bf(n, cuts):\n",
    "    if not cuts:\n",
    "        return 0\n",
    "    mincost = None\n",
    "    for c in cuts:\n",
    "        l = tuple(x for x in cuts if x < c)\n",
    "        r = tuple(x - c for x in cuts if x > c)\n",
    "        this_cost = n + cost(c, l) + cost(n - c, r)\n",
    "        if mincost is None or this_cost < mincost:\n",
    "            mincost = this_cost\n",
    "    return mincost"
   ]
  },
  {
   "cell_type": "markdown",
   "metadata": {},
   "source": [
    "**Bottom-up dynamic programming - \\$O(k^3)\\$ where k is the number of cuts**"
   ]
  },
  {
   "cell_type": "code",
   "execution_count": 111,
   "metadata": {},
   "outputs": [],
   "source": [
    "def min_cost(n, cuts):\n",
    "    cuts.sort()\n",
    "    N = len(cuts) + 2\n",
    "    table = [[0] * N for _ in range(N)]\n",
    "\n",
    "    # Let `lenghts` be the array of all endpoints of the pieces\n",
    "    # resulting after stick of length == n is chopped w.r.t `cuts`.\n",
    "    # \n",
    "    # For each pair (i, i + j) in `lengths`, such that\n",
    "    # j > 1, calculate the cost of cutting the stick[i:i + j]\n",
    "    # The cost of cutting stick[i: i + j] is equal to:\n",
    "    #\n",
    "    #     j + min(stick[i:k] + stick[k:j] for k in [i + 1, j - 1])\n",
    "    #\n",
    "    # Note:\n",
    "    # The cost of stick[i:i + 1] == 0, since no possible cuts\n",
    "    # exists in lengths[i:i + 1]\n",
    "    #\n",
    "    # Finally return stick[0:n]\n",
    "    lengths = [0] + cuts + [n]\n",
    "    j = 2\n",
    "    while j < N:\n",
    "        for i in range(N - j):\n",
    "            c = table[i][i + 1] + table[i + 1][i + j]\n",
    "            for k in range(i + 1, i + j):\n",
    "                c = min(c, table[i][k] + table[k][i + j])\n",
    "            c += lengths[i + j] - lengths[i]\n",
    "            table[i][i + j] = c\n",
    "        j += 1\n",
    "    return table[0][-1]"
   ]
  },
  {
   "cell_type": "markdown",
   "metadata": {},
   "source": [
    "**Tests**"
   ]
  },
  {
   "cell_type": "code",
   "execution_count": 112,
   "metadata": {},
   "outputs": [],
   "source": [
    "assert(min_cost(0, []) == 0)\n",
    "assert(min_cost(10, []) == 0)\n",
    "assert(min_cost(2, [1]) == 2)\n",
    "assert(min_cost(3, [1]) == 3)\n",
    "assert(min_cost(3, [2]) == 3)\n",
    "assert(min_cost(3, [1, 2]) == 5)\n",
    "assert(min_cost(4, [1]) == 4)\n",
    "assert(min_cost(4, [1, 2]) == 6)\n",
    "assert(min_cost(4, [1, 3]) == 7)\n",
    "\n",
    "\n",
    "for _ in range(1000):\n",
    "    n = random.randint(2, 30)\n",
    "    cuts = list(set(random.randint(1, n - 1) for _ in range(n)))\n",
    "    assert(cost(n, tuple(cuts)) == min_cost(n, cuts))"
   ]
  },
  {
   "cell_type": "code",
   "execution_count": null,
   "metadata": {},
   "outputs": [],
   "source": []
  }
 ],
 "metadata": {
  "kernelspec": {
   "display_name": "Python 3",
   "language": "python",
   "name": "python3"
  },
  "language_info": {
   "codemirror_mode": {
    "name": "ipython",
    "version": 3
   },
   "file_extension": ".py",
   "mimetype": "text/x-python",
   "name": "python",
   "nbconvert_exporter": "python",
   "pygments_lexer": "ipython3",
   "version": "3.7.6"
  }
 },
 "nbformat": 4,
 "nbformat_minor": 4
}
