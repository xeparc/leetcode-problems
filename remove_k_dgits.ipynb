{
 "cells": [
  {
   "cell_type": "markdown",
   "metadata": {},
   "source": [
    "Remove K Digits\n",
    "===\n",
    "***\n",
    "Problem:\n",
    "---\n",
    "https://leetcode.com/problems/remove-k-digits/\n",
    "\n",
    "Given a non-negative integer num represented as a string, remove k digits from the number so that the new number is the smallest possible.\n",
    "\n",
    "Note:\n",
    "The length of num is less than 10002 and will be ≥ k.  \n",
    "The given num does not contain any leading zero.  \n",
    "\n",
    "\n",
    "Example 1:\n",
    "\n",
    "Input: num = \"1432219\", k = 3  \n",
    "Output: \"1219\"  \n",
    "Explanation: Remove the three digits 4, 3, and 2 to form the new number 1219 which is the smallest.  \n",
    "\n",
    "\n",
    "Example 2:  \n",
    "\n",
    "Input: num = \"10200\", k = 1  \n",
    "Output: \"200\"  \n",
    "Explanation: Remove the leading 1 and the number is 200. Note that the output must not contain leading zeroes.  \n",
    "\n",
    "\n",
    "Example 3:\n",
    "\n",
    "Input: num = \"10\", k = 2  \n",
    "Output: \"0\"  \n",
    "Explanation: Remove all the digits from the number and it is left with nothing which is 0.  "
   ]
  },
  {
   "cell_type": "code",
   "execution_count": 45,
   "metadata": {},
   "outputs": [],
   "source": [
    "import itertools\n",
    "import random"
   ]
  },
  {
   "cell_type": "markdown",
   "metadata": {},
   "source": [
    "**Brute force solution - \\$O \\left( {N\\choose k} \\right)\\$**"
   ]
  },
  {
   "cell_type": "code",
   "execution_count": 24,
   "metadata": {},
   "outputs": [],
   "source": [
    "def remove_k_digits_bf(digits, k):\n",
    "    best = int(digits)\n",
    "    for res in itertools.combinations(digits, len(digits) - k):\n",
    "        if int(''.join(res)) < best:\n",
    "            best = int(''.join(res))\n",
    "    return str(best)"
   ]
  },
  {
   "cell_type": "markdown",
   "metadata": {},
   "source": [
    "**Recursive solution - \\$O(n)\\$**"
   ]
  },
  {
   "cell_type": "code",
   "execution_count": 87,
   "metadata": {},
   "outputs": [],
   "source": [
    "# def smallest(sequence):\n",
    "#     \"\"\"Returns the smallest element and it's index in `sequence`.\"\"\"\n",
    "#     s, i = None, -1\n",
    "#     if not sequence:\n",
    "#         return s, i\n",
    "#     s, i = sequence[0], 0\n",
    "#     for j, elem in enumerate(itertools.islice(sequence, 1, None), 1):\n",
    "#         if elem < s:\n",
    "#             s = elem\n",
    "#             i = j\n",
    "#     return s, i\n",
    "\n",
    "\n",
    "def py_smallest(sequence):\n",
    "    return min(zip(sequence, itertools.count(0)))\n",
    "\n",
    "\n",
    "def remove_k_digits_r(digits, k):\n",
    "    \n",
    "    def k_digits(digits, k):\n",
    "        if k == 0:\n",
    "            return digits\n",
    "        if len(digits) <= k:\n",
    "            return ''\n",
    "        smallest, i = py_smallest(digits[:k + 1])\n",
    "        if smallest != digits[0]:\n",
    "            # Remove the first i digits\n",
    "            return digits[i] + k_digits(digits[i + 1:], k - i)\n",
    "        else:\n",
    "            return digits[0] + k_digits(digits[1:], k)\n",
    "    \n",
    "    res = k_digits(digits, k).lstrip('0')\n",
    "    return '0' if not res else res"
   ]
  },
  {
   "cell_type": "markdown",
   "metadata": {},
   "source": [
    "**Iterative solution - \\$O(n)\\$**"
   ]
  },
  {
   "cell_type": "code",
   "execution_count": 171,
   "metadata": {},
   "outputs": [],
   "source": [
    "def remove_k_digits(digits, k):\n",
    "    res = []\n",
    "    i, N = 0, len(digits)\n",
    "    while k != 0 and i + k < N:\n",
    "        _, j = py_smallest(digits[i:i + k + 1])\n",
    "        res.append(digits[i + j])\n",
    "        k -= j\n",
    "        i += j + 1\n",
    "    res.extend(digits[i:] if not k else '')\n",
    "    res = ''.join(res).lstrip('0')\n",
    "    return '0' if not res else res"
   ]
  },
  {
   "cell_type": "markdown",
   "metadata": {},
   "source": [
    "**Iterative solution - \\$O(n)\\$ (fastest)**"
   ]
  },
  {
   "cell_type": "code",
   "execution_count": 172,
   "metadata": {},
   "outputs": [],
   "source": [
    "def remove_k_digits(digits, k):\n",
    "    res = []\n",
    "    i, N = 0, len(digits)\n",
    "    while k and i < N:\n",
    "        d = digits[i]\n",
    "        while k and res and d < res[-1]:\n",
    "            res.pop()\n",
    "            k -= 1\n",
    "        res.append(d)\n",
    "        i += 1\n",
    "    res.extend(digits[i:])\n",
    "    while k:\n",
    "        res.pop()\n",
    "        k -= 1\n",
    "    res = ''.join(res).lstrip('0')\n",
    "    return res if res else '0'"
   ]
  },
  {
   "cell_type": "markdown",
   "metadata": {},
   "source": [
    "**Tests**"
   ]
  },
  {
   "cell_type": "code",
   "execution_count": 169,
   "metadata": {},
   "outputs": [],
   "source": [
    "assert(remove_k_digits('70', 1) == '0')\n",
    "assert(remove_k_digits('1432219', 3) == '1219')\n",
    "assert(remove_k_digits('10200', 1) == '200')\n",
    "assert(remove_k_digits('99491112', 3) == '41112')\n",
    "\n",
    "random.seed(121)\n",
    "for n in range(1, 15):\n",
    "    for digits in (''.join(random.choices('0123456789', k=n)) for _ in range(100)):\n",
    "        for k in range(1, n):\n",
    "            assert(remove_k_digits(digits, k) == remove_k_digits_bf(digits, k))"
   ]
  },
  {
   "cell_type": "code",
   "execution_count": null,
   "metadata": {},
   "outputs": [],
   "source": []
  }
 ],
 "metadata": {
  "kernelspec": {
   "display_name": "Python 3",
   "language": "python",
   "name": "python3"
  },
  "language_info": {
   "codemirror_mode": {
    "name": "ipython",
    "version": 3
   },
   "file_extension": ".py",
   "mimetype": "text/x-python",
   "name": "python",
   "nbconvert_exporter": "python",
   "pygments_lexer": "ipython3",
   "version": "3.7.6"
  }
 },
 "nbformat": 4,
 "nbformat_minor": 4
}
