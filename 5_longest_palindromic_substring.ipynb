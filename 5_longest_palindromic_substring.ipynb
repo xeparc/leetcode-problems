{
 "cells": [
  {
   "cell_type": "markdown",
   "metadata": {},
   "source": [
    "5 Longest Palindromic Substring\n",
    "===\n",
    "***\n",
    "Problem\n",
    "---\n",
    "https://leetcode.com/problems/longest-palindromic-substring/\n",
    "\n",
    "\n",
    "Given a string s, find the longest palindromic substring in s. You may assume that the maximum length of s is 1000.\n",
    "\n",
    "**Example 1:**\n",
    "Input: \"babad\"  \n",
    "Output: \"bab\"  \n",
    "Note: \"aba\" is also a valid answer.  \n",
    "\n",
    "\n",
    "**Example 2:**\n",
    "Input: \"cbbd\"  \n",
    "Output: \"bb\"  "
   ]
  },
  {
   "cell_type": "code",
   "execution_count": 1,
   "metadata": {},
   "outputs": [],
   "source": [
    "def longestPalindrome(s: str) -> str:\n",
    "    maxlen = lambda t: t[1] - t[0]\n",
    "    seq = (max(expand(s, i, i), expand(s, i, i + 1), key=maxlen)\n",
    "                for i in range(len(s)))\n",
    "    longest = max(seq, key=maxlen, default=(0, 0))\n",
    "    return s[slice(*longest)]\n",
    "\n",
    "\n",
    "def expand(s, i, j):\n",
    "    N = len(s)\n",
    "    while i >= 0 and j < N and s[i] == s[j]:\n",
    "        i -= 1\n",
    "        j += 1\n",
    "    return (i + 1, j)"
   ]
  },
  {
   "cell_type": "code",
   "execution_count": null,
   "metadata": {},
   "outputs": [],
   "source": []
  }
 ],
 "metadata": {
  "kernelspec": {
   "display_name": "Python 3",
   "language": "python",
   "name": "python3"
  },
  "language_info": {
   "codemirror_mode": {
    "name": "ipython",
    "version": 3
   },
   "file_extension": ".py",
   "mimetype": "text/x-python",
   "name": "python",
   "nbconvert_exporter": "python",
   "pygments_lexer": "ipython3",
   "version": "3.7.6"
  }
 },
 "nbformat": 4,
 "nbformat_minor": 4
}
