{
 "cells": [
  {
   "cell_type": "markdown",
   "metadata": {},
   "source": [
    "# Completely Different Strings\n",
    "## TopCoder\n",
    "\n",
    "[https://community.topcoder.com/stat?c=problem_statement&pm=15871&rd=17776]"
   ]
  },
  {
   "cell_type": "code",
   "execution_count": 10,
   "metadata": {},
   "outputs": [
    {
     "data": {
      "text/plain": [
       "90"
      ]
     },
     "execution_count": 10,
     "metadata": {},
     "output_type": "execute_result"
    }
   ],
   "source": [
    "import operator\n",
    "import functools\n",
    "# Definition\n",
    "\n",
    "# Class: CompletelyDifferentStrings\n",
    "# Method: count\n",
    "# Parameters: int, String[]\n",
    "# Returns: int\n",
    "# Method signature: int count(int S, String[] forbidden)\n",
    "# (be sure your method is public)\n",
    "\n",
    "# Constraints\n",
    "# - S will be between 1 and 26, inclusive.\n",
    "# - forbidden will contain between 1 and 30 elements, inclusive.\n",
    "# - All elements of forbidden will have the same length L.\n",
    "# - L will be between 1 and 6, inclusive.\n",
    "# - Each character in each element of forbidden will be one of the first S lowercase English letters.\n",
    "\n",
    "def completely_different_strings(N, forbidden) -> int:\n",
    "    letters = [chr(i) for i in range(ord('a'), ord('a') + N)]\n",
    "    L = len(forbidden[0])\n",
    "    allowed = [set(letters) for _ in range(L)]\n",
    "    for i in range(L):\n",
    "        allowed[i] -= set(w[i] for w in forbidden)\n",
    "    return functools.reduce(operator.mul, map(len, allowed))\n",
    "    \n",
    "\n",
    "completely_different_strings(7, [\"baba\", \"babe\", \"cage\", \"cafe\", \"feed\", \"deed\", \"deaf\", \"dead\"])"
   ]
  },
  {
   "cell_type": "code",
   "execution_count": null,
   "metadata": {},
   "outputs": [],
   "source": []
  }
 ],
 "metadata": {
  "kernelspec": {
   "display_name": "Python 3",
   "language": "python",
   "name": "python3"
  },
  "language_info": {
   "codemirror_mode": {
    "name": "ipython",
    "version": 3
   },
   "file_extension": ".py",
   "mimetype": "text/x-python",
   "name": "python",
   "nbconvert_exporter": "python",
   "pygments_lexer": "ipython3",
   "version": "3.7.4"
  }
 },
 "nbformat": 4,
 "nbformat_minor": 2
}
