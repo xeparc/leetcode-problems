{
 "cells": [
  {
   "cell_type": "markdown",
   "metadata": {},
   "source": [
    "Pascal's Triangle II\n",
    "===\n",
    "***\n",
    "Problem\n",
    "---\n",
    "https://leetcode.com/problems/pascals-triangle-ii/\n",
    "\n",
    "\n",
    "Given a non-negative index k where k ≤ 33, return the kth index row of the Pascal's triangle.\n",
    "Note that the row index starts from 0.\n",
    "\n",
    "**Example:**\n",
    "\n",
    "Input: 3  \n",
    "Output: [1,3,3,1]  \n",
    "\n",
    "**Follow up:**  \n",
    "\n",
    "Could you optimize your algorithm to use only O(k) extra space?"
   ]
  },
  {
   "cell_type": "code",
   "execution_count": 1,
   "metadata": {},
   "outputs": [],
   "source": [
    "def get_row(rowIndex):\n",
    "        return [C(rowIndex, k) for k in range(rowIndex + 1)]\n",
    "        \n",
    "        \n",
    "def C(n, k):\n",
    "    num, denom = 1, 1\n",
    "    while k:\n",
    "        num *= n\n",
    "        denom *= k\n",
    "        k -= 1\n",
    "        n -= 1\n",
    "    return num // denom"
   ]
  },
  {
   "cell_type": "code",
   "execution_count": null,
   "metadata": {},
   "outputs": [],
   "source": []
  }
 ],
 "metadata": {
  "kernelspec": {
   "display_name": "Python 3",
   "language": "python",
   "name": "python3"
  },
  "language_info": {
   "codemirror_mode": {
    "name": "ipython",
    "version": 3
   },
   "file_extension": ".py",
   "mimetype": "text/x-python",
   "name": "python",
   "nbconvert_exporter": "python",
   "pygments_lexer": "ipython3",
   "version": "3.7.6"
  }
 },
 "nbformat": 4,
 "nbformat_minor": 4
}
