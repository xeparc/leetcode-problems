{
 "cells": [
  {
   "cell_type": "markdown",
   "metadata": {},
   "source": [
    "Bitwise AND of Numbers Range\n",
    "==========================\n",
    "\n",
    "Given a range **[m, n]**, where 0 <= m <= n, return the bitwise AND of all numbers in this range, inclusive.<br>\n",
    "For example the bitwise AND of **[5, 7]** should return 4."
   ]
  },
  {
   "cell_type": "code",
   "execution_count": 8,
   "metadata": {},
   "outputs": [
    {
     "data": {
      "text/plain": [
       "True"
      ]
     },
     "execution_count": 8,
     "metadata": {},
     "output_type": "execute_result"
    }
   ],
   "source": [
    "import functools\n",
    "import operator\n",
    "import random\n",
    "\n",
    "\n",
    "def bitwise_and_range(m, n):\n",
    "    assert(m <= n)\n",
    "    # Find all multiples of powers of 2 in [m, n]\n",
    "    # and bitwise AND them to n\n",
    "    while n & (n - 1) > m:\n",
    "        n &= (n - 1)\n",
    "    return n & m\n",
    "\n",
    "\n",
    "def _bitwise_and_range(m, n):\n",
    "    \"\"\"Naive implementation for testing.\"\"\"\n",
    "    result = m\n",
    "    for i in range(m, n + 1):\n",
    "        result &= i\n",
    "    return result\n",
    "\n",
    "\n",
    "def test_bitwise_and():\n",
    "    for _ in range(10000):\n",
    "        m = random.randint(0, 128)\n",
    "        n = m + random.randint(0, 32)\n",
    "        if bitwise_and_range(m, n) != _bitwise_and_range(m, n):\n",
    "            return False\n",
    "    return True\n",
    "\n",
    "\n",
    "test_bitwise_and()"
   ]
  }
 ],
 "metadata": {
  "kernelspec": {
   "display_name": "Python 3",
   "language": "python",
   "name": "python3"
  },
  "language_info": {
   "codemirror_mode": {
    "name": "ipython",
    "version": 3
   },
   "file_extension": ".py",
   "mimetype": "text/x-python",
   "name": "python",
   "nbconvert_exporter": "python",
   "pygments_lexer": "ipython3",
   "version": "3.7.4"
  }
 },
 "nbformat": 4,
 "nbformat_minor": 2
}
