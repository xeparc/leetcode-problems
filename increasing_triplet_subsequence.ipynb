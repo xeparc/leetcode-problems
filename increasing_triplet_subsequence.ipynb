{
 "cells": [
  {
   "cell_type": "markdown",
   "metadata": {},
   "source": [
    "<h2><center>Increasing Triplet Subsequence</center></h2>\n",
    "<h3>Problem:</h3>\n",
    "<p>\n",
    "    Given an unsorted array return whether an increasing subsequence of length 3<br>\n",
    "    exists in the array.<br><br>\n",
    "    <strong>Formally the function should:</strong><br>\n",
    "    Return <strong>true</strong> if there $ \\exists $ i, j, k such that arr[i] < arr[j] < arr[k] given<br>\n",
    "    0 <= i < j < k < n else return <strong>false</strong>.\n",
    "</p>\n",
    "<p><i>\n",
    "    Your algoithm should run in $ O(n) $ time complexity and $ O(1) space complexity.\n",
    "</i></p>"
   ]
  },
  {
   "cell_type": "code",
   "execution_count": null,
   "metadata": {},
   "outputs": [],
   "source": [
    "import array\n",
    "import random\n",
    "\n",
    "# 5 6 1 2 3\n",
    "# 1 2 0 3 -> [1 ,2], [1, 2], [1, 2, 3]\n",
    "# 1 7 4 5 -> [1 7 4] 0 .2 .3\n",
    "# 5 6 7 4 5\n",
    "# 4 5 7 8 6\n",
    "# 1 4 .5 2 1 3\n",
    "\n",
    "# 0 1 2    -> True\n",
    "# 2 1 0  x ?\n",
    "# 2 0 1  x > 1 -> True\n",
    "# 1 0 2  x > 2 => True, \n",
    "# 1 2 0\n",
    "# 0 2 1\n",
    "\n",
    "def ince(arr):\n",
    "    N = len(arr)\n",
    "    for i in range(N):\n",
    "        for j in range(i + 1, N):\n",
    "            for k in range(j + 1, N):\n",
    "                if arr[i] < arr[j] < arr[k]:\n",
    "                    return True\n",
    "    return False\n",
    "\n",
    "\n",
    "def increasing_triplet_subsequence(arr) -> bool:\n",
    "    stack = array.array('i', [0, 0, 0])\n",
    "    stack_sz = 0\n",
    "    for x in arr:\n",
    "        if stack_sz == 1 and \n",
    "        if x < stack[stack_sz - 1] and x:\n",
    "            stack_sz -= 1\n",
    "        if x > stack[stack_sz - 1]:\n",
    "            stack[stack_sz] = x\n",
    "            stack_sz += 1\n",
    "        if stack_sz == 3:\n",
    "            return True\n",
    "    return False\n",
    "\n"
   ]
  }
 ],
 "metadata": {
  "kernelspec": {
   "display_name": "Python 3",
   "language": "python",
   "name": "python3"
  },
  "language_info": {
   "codemirror_mode": {
    "name": "ipython",
    "version": 3
   },
   "file_extension": ".py",
   "mimetype": "text/x-python",
   "name": "python",
   "nbconvert_exporter": "python",
   "pygments_lexer": "ipython3",
   "version": "3.6.5"
  }
 },
 "nbformat": 4,
 "nbformat_minor": 2
}
