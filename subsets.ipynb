{
 "cells": [
  {
   "cell_type": "code",
   "execution_count": 68,
   "metadata": {},
   "outputs": [
    {
     "data": {
      "text/plain": [
       "[(), (3,), (2,), (2, 3), (1,), (1, 3), (1, 2), (1, 2, 3)]"
      ]
     },
     "execution_count": 68,
     "metadata": {},
     "output_type": "execute_result"
    }
   ],
   "source": [
    "s = [1, 2, 3]\n",
    "\n",
    "def subsets(collection):\n",
    "    it = iter(collection)\n",
    "    try:\n",
    "        first = next(it)\n",
    "    except StopIteration:\n",
    "        return [tuple()]\n",
    "    without = subsets(it)\n",
    "    return without + [(first,) + s for s in without]\n",
    "\n",
    "subsets(s)"
   ]
  },
  {
   "cell_type": "code",
   "execution_count": 6,
   "metadata": {},
   "outputs": [
    {
     "data": {
      "text/plain": [
       "8"
      ]
     },
     "execution_count": 6,
     "metadata": {},
     "output_type": "execute_result"
    }
   ],
   "source": [
    "len(subsets(s))"
   ]
  },
  {
   "cell_type": "code",
   "execution_count": 7,
   "metadata": {},
   "outputs": [
    {
     "data": {
      "text/plain": [
       "{(),\n",
       " (0,),\n",
       " (0, 1),\n",
       " (0, 1, 2),\n",
       " (0, 1, 2, 3),\n",
       " (0, 1, 2, 3, 4),\n",
       " (0, 1, 2, 4),\n",
       " (0, 1, 3),\n",
       " (0, 1, 3, 4),\n",
       " (0, 1, 4),\n",
       " (0, 2),\n",
       " (0, 2, 3),\n",
       " (0, 2, 3, 4),\n",
       " (0, 2, 4),\n",
       " (0, 3),\n",
       " (0, 3, 4),\n",
       " (0, 4),\n",
       " (1,),\n",
       " (1, 2),\n",
       " (1, 2, 3),\n",
       " (1, 2, 3, 4),\n",
       " (1, 2, 4),\n",
       " (1, 3),\n",
       " (1, 3, 4),\n",
       " (1, 4),\n",
       " (2,),\n",
       " (2, 3),\n",
       " (2, 3, 4),\n",
       " (2, 4),\n",
       " (3,),\n",
       " (3, 4),\n",
       " (4,)}"
      ]
     },
     "execution_count": 7,
     "metadata": {},
     "output_type": "execute_result"
    }
   ],
   "source": [
    "set(subsets(range(5)))"
   ]
  },
  {
   "cell_type": "code",
   "execution_count": 8,
   "metadata": {},
   "outputs": [
    {
     "data": {
      "text/plain": [
       "32"
      ]
     },
     "execution_count": 8,
     "metadata": {},
     "output_type": "execute_result"
    }
   ],
   "source": [
    "len(_)"
   ]
  },
  {
   "cell_type": "code",
   "execution_count": 61,
   "metadata": {},
   "outputs": [],
   "source": [
    "def subsets_gen(collection):\n",
    "    it = iter(collection)\n",
    "    try:\n",
    "        first = next(it)\n",
    "    except StopIteration:\n",
    "        yield tuple()\n",
    "    else:\n",
    "        without = subsets(it)\n",
    "        for s in without:\n",
    "            yield (first,) + s\n",
    "            yield s"
   ]
  },
  {
   "cell_type": "code",
   "execution_count": 59,
   "metadata": {},
   "outputs": [],
   "source": [
    "g = subsets(range(5))"
   ]
  },
  {
   "cell_type": "code",
   "execution_count": 60,
   "metadata": {},
   "outputs": [
    {
     "data": {
      "text/plain": [
       "[(0, 1, 2, 3, 4),\n",
       " (1, 2, 3, 4),\n",
       " (0, 2, 3, 4),\n",
       " (2, 3, 4),\n",
       " (0, 1, 3, 4),\n",
       " (1, 3, 4),\n",
       " (0, 3, 4),\n",
       " (3, 4),\n",
       " (0, 1, 2, 4),\n",
       " (1, 2, 4),\n",
       " (0, 2, 4),\n",
       " (2, 4),\n",
       " (0, 1, 4),\n",
       " (1, 4),\n",
       " (0, 4),\n",
       " (4,),\n",
       " (0, 1, 2, 3),\n",
       " (1, 2, 3),\n",
       " (0, 2, 3),\n",
       " (2, 3),\n",
       " (0, 1, 3),\n",
       " (1, 3),\n",
       " (0, 3),\n",
       " (3,),\n",
       " (0, 1, 2),\n",
       " (1, 2),\n",
       " (0, 2),\n",
       " (2,),\n",
       " (0, 1),\n",
       " (1,),\n",
       " (0,),\n",
       " ()]"
      ]
     },
     "execution_count": 60,
     "metadata": {},
     "output_type": "execute_result"
    }
   ],
   "source": [
    "list(g)"
   ]
  },
  {
   "cell_type": "code",
   "execution_count": 69,
   "metadata": {},
   "outputs": [
    {
     "name": "stdout",
     "output_type": "stream",
     "text": [
      "4.49 ms ± 38.1 µs per loop (mean ± std. dev. of 7 runs, 100 loops each)\n"
     ]
    }
   ],
   "source": [
    "%timeit subsets(range(15))"
   ]
  },
  {
   "cell_type": "code",
   "execution_count": 70,
   "metadata": {},
   "outputs": [
    {
     "name": "stdout",
     "output_type": "stream",
     "text": [
      "5.76 ms ± 61.6 µs per loop (mean ± std. dev. of 7 runs, 100 loops each)\n"
     ]
    }
   ],
   "source": [
    "%timeit list(subsets_gen(range(15)))"
   ]
  },
  {
   "cell_type": "code",
   "execution_count": 92,
   "metadata": {},
   "outputs": [],
   "source": [
    "def subsets_dup(collection):\n",
    "    if not collection:\n",
    "        return (tuple(),)\n",
    "    first = collection[0]\n",
    "    without = subsets_dup(collection[1:])\n",
    "    first = [tuple(first[:i]) for i in range(1, len(first) + 1)]\n",
    "    res = []\n",
    "    for s1 in first:\n",
    "        for s2 in without:\n",
    "            res.append(s1 + s2)\n",
    "    res.extend(without)\n",
    "    return res"
   ]
  },
  {
   "cell_type": "code",
   "execution_count": 93,
   "metadata": {},
   "outputs": [
    {
     "data": {
      "text/plain": [
       "[(1, 2, 3),\n",
       " (1, 2),\n",
       " (1, 2, 2, 3),\n",
       " (1, 2, 2),\n",
       " (1, 2, 2, 2, 3),\n",
       " (1, 2, 2, 2),\n",
       " (1, 3),\n",
       " (1,),\n",
       " (1, 1, 2, 3),\n",
       " (1, 1, 2),\n",
       " (1, 1, 2, 2, 3),\n",
       " (1, 1, 2, 2),\n",
       " (1, 1, 2, 2, 2, 3),\n",
       " (1, 1, 2, 2, 2),\n",
       " (1, 1, 3),\n",
       " (1, 1),\n",
       " (2, 3),\n",
       " (2,),\n",
       " (2, 2, 3),\n",
       " (2, 2),\n",
       " (2, 2, 2, 3),\n",
       " (2, 2, 2),\n",
       " (3,),\n",
       " ()]"
      ]
     },
     "execution_count": 93,
     "metadata": {},
     "output_type": "execute_result"
    }
   ],
   "source": [
    "subsets_dup([[1, 1], [2, 2, 2], [3]])"
   ]
  },
  {
   "cell_type": "code",
   "execution_count": 80,
   "metadata": {},
   "outputs": [
    {
     "data": {
      "text/plain": [
       "24"
      ]
     },
     "execution_count": 80,
     "metadata": {},
     "output_type": "execute_result"
    }
   ],
   "source": [
    "len(_)"
   ]
  },
  {
   "cell_type": "code",
   "execution_count": 119,
   "metadata": {},
   "outputs": [],
   "source": [
    "def decart(A, B):\n",
    "    if not A:\n",
    "        return B\n",
    "    if not B:\n",
    "        return A\n",
    "    res = []\n",
    "    for x in A:\n",
    "        for y in B:\n",
    "            res.append(x + y)\n",
    "    return res\n",
    "\n",
    "\n",
    "def subsets_master(collection):\n",
    "    single = []\n",
    "    dup = []\n",
    "    counts = {}\n",
    "    for elem in collection:\n",
    "        counts[elem] = counts.setdefault(elem, 0) + 1\n",
    "    for k, v in counts.items():\n",
    "        if v > 1:\n",
    "            dup.append([k] * v)\n",
    "        else:\n",
    "            single.append(k)\n",
    "    s1 = subsets(single)\n",
    "    s2 = subsets_dup(dup)\n",
    "    return decart(s1, s2)"
   ]
  },
  {
   "cell_type": "code",
   "execution_count": 121,
   "metadata": {},
   "outputs": [
    {
     "data": {
      "text/plain": [
       "[(3,),\n",
       " (3, 3),\n",
       " (3, 3, 3),\n",
       " (),\n",
       " (2, 3),\n",
       " (2, 3, 3),\n",
       " (2, 3, 3, 3),\n",
       " (2,),\n",
       " (1, 3),\n",
       " (1, 3, 3),\n",
       " (1, 3, 3, 3),\n",
       " (1,),\n",
       " (1, 2, 3),\n",
       " (1, 2, 3, 3),\n",
       " (1, 2, 3, 3, 3),\n",
       " (1, 2)]"
      ]
     },
     "execution_count": 121,
     "metadata": {},
     "output_type": "execute_result"
    }
   ],
   "source": [
    "subsets_master([1, 2, 3, 3, 3])"
   ]
  },
  {
   "cell_type": "code",
   "execution_count": 101,
   "metadata": {},
   "outputs": [],
   "source": [
    "s1 = subsets_dup([[3, 3]])"
   ]
  },
  {
   "cell_type": "code",
   "execution_count": 102,
   "metadata": {},
   "outputs": [],
   "source": [
    "s2 = subsets([1, 2])"
   ]
  },
  {
   "cell_type": "code",
   "execution_count": 103,
   "metadata": {},
   "outputs": [
    {
     "data": {
      "text/plain": [
       "([(3,), (3, 3), ()], [(), (2,), (1,), (1, 2)])"
      ]
     },
     "execution_count": 103,
     "metadata": {},
     "output_type": "execute_result"
    }
   ],
   "source": [
    "s1, s2"
   ]
  },
  {
   "cell_type": "code",
   "execution_count": 104,
   "metadata": {},
   "outputs": [
    {
     "data": {
      "text/plain": [
       "[(3,),\n",
       " (3, 2),\n",
       " (3, 1),\n",
       " (3, 1, 2),\n",
       " (3, 3),\n",
       " (3, 3, 2),\n",
       " (3, 3, 1),\n",
       " (3, 3, 1, 2),\n",
       " (),\n",
       " (2,),\n",
       " (1,),\n",
       " (1, 2)]"
      ]
     },
     "execution_count": 104,
     "metadata": {},
     "output_type": "execute_result"
    }
   ],
   "source": [
    "decart(s1, s2)"
   ]
  },
  {
   "cell_type": "code",
   "execution_count": 109,
   "metadata": {},
   "outputs": [],
   "source": [
    "d = dict(zip((1, 3, 4), (1, 1, 1)))"
   ]
  },
  {
   "cell_type": "code",
   "execution_count": 115,
   "metadata": {},
   "outputs": [
    {
     "data": {
      "text/plain": [
       "1"
      ]
     },
     "execution_count": 115,
     "metadata": {},
     "output_type": "execute_result"
    }
   ],
   "source": [
    "d.setdefault(3, 5) "
   ]
  },
  {
   "cell_type": "code",
   "execution_count": 116,
   "metadata": {},
   "outputs": [
    {
     "data": {
      "text/plain": [
       "{1: 1, 3: 1, 4: 1, 5: 1, 2: 5}"
      ]
     },
     "execution_count": 116,
     "metadata": {},
     "output_type": "execute_result"
    }
   ],
   "source": [
    "d"
   ]
  },
  {
   "cell_type": "code",
   "execution_count": null,
   "metadata": {},
   "outputs": [],
   "source": []
  }
 ],
 "metadata": {
  "kernelspec": {
   "display_name": "Python 3",
   "language": "python",
   "name": "python3"
  },
  "language_info": {
   "codemirror_mode": {
    "name": "ipython",
    "version": 3
   },
   "file_extension": ".py",
   "mimetype": "text/x-python",
   "name": "python",
   "nbconvert_exporter": "python",
   "pygments_lexer": "ipython3",
   "version": "3.7.6"
  }
 },
 "nbformat": 4,
 "nbformat_minor": 4
}
