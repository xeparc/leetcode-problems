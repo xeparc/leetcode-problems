{
 "cells": [
  {
   "cell_type": "markdown",
   "metadata": {},
   "source": [
    "Find Kth Bit in Nth Binary String\n",
    "===\n",
    "***\n",
    "Problem\n",
    "---\n",
    "https://leetcode.com/problems/find-kth-bit-in-nth-binary-string/\n",
    "    \n",
    "Given two positive integers n and k, the binary string  Sn is formed as follows:\n",
    "\n",
    "S1 = \"0\"\n",
    "Si = Si-1 + \"1\" + reverse(invert(Si-1)) for i > 1\n",
    "Where + denotes the concatenation operation, reverse(x) returns the reversed string x, and invert(x) inverts all the bits in x (0 changes to 1 and 1 changes to 0).\n",
    "\n",
    "For example, the first 4 strings in the above sequence are:\n",
    "\n",
    "S1 = \"0\"  \n",
    "S2 = \"011\"  \n",
    "S3 = \"0111001\"  \n",
    "S4 = \"011100110110001\"  \n",
    "Return the kth bit in Sn. It is guaranteed that k is valid for the given n.\n",
    "\n",
    "\n",
    "**Example 1:**  \n",
    "\n",
    "Input: n = 3, k = 1  \n",
    "Output: \"0\"  \n",
    "Explanation: S3 is \"0111001\". The first bit is \"0\".  \n",
    "\n",
    "\n",
    "**Example 2:**\n",
    "\n",
    "Input: n = 4, k = 11  \n",
    "Output: \"1\"  \n",
    "Explanation: S4 is \"011100110110001\". The 11th bit is \"1\".  \n",
    "\n",
    "\n",
    "**Example 3:**\n",
    "\n",
    "Input: n = 1, k = 1  \n",
    "Output: \"0\"  \n",
    "\n",
    "\n",
    "**Example 4:**\n",
    "\n",
    "Input: n = 2, k = 3  \n",
    "Output: \"1\"  \n",
    " \n",
    "\n",
    "Constraints:\n",
    "\n",
    "1 <= n <= 20\n",
    "1 <= k <= 2n - 1"
   ]
  },
  {
   "cell_type": "code",
   "execution_count": 8,
   "metadata": {},
   "outputs": [],
   "source": [
    "def kth_bit(n, k):\n",
    "    s = '0'\n",
    "    while k >= len(s):\n",
    "        s = s + '1' + inverse(s)[::-1]\n",
    "    return s[k]\n",
    "\n",
    "def inverse(s):\n",
    "    return ''.join('1' if b == '0' else '0' for b in s)"
   ]
  },
  {
   "cell_type": "markdown",
   "metadata": {},
   "source": [
    "**Tests**"
   ]
  },
  {
   "cell_type": "code",
   "execution_count": 24,
   "metadata": {},
   "outputs": [],
   "source": [
    "assert(kth_bit(4, 0) == '0')\n",
    "assert(kth_bit(4, 1) == '1')\n",
    "assert(kth_bit(4, 2) == '1')\n",
    "assert(kth_bit(4, 3) == '1')\n",
    "assert(kth_bit(4, 4) == '0')\n",
    "assert(kth_bit(4, 5) == '0')\n",
    "assert(kth_bit(4, 6) == '1')\n",
    "assert(kth_bit(4, 7) == '1')\n",
    "\n",
    "def genS(n):\n",
    "    if n == 0:\n",
    "        return '0'\n",
    "    s = genS(n - 1)\n",
    "    return s + '1' + inverse(s)[::-1]\n",
    "\n",
    "for n in range(12):\n",
    "    S = genS(n)\n",
    "    for k in range(2 ** n):\n",
    "        assert(S[k] == kth_bit(n, k))"
   ]
  },
  {
   "cell_type": "code",
   "execution_count": null,
   "metadata": {},
   "outputs": [],
   "source": []
  }
 ],
 "metadata": {
  "kernelspec": {
   "display_name": "Python 3",
   "language": "python",
   "name": "python3"
  },
  "language_info": {
   "codemirror_mode": {
    "name": "ipython",
    "version": 3
   },
   "file_extension": ".py",
   "mimetype": "text/x-python",
   "name": "python",
   "nbconvert_exporter": "python",
   "pygments_lexer": "ipython3",
   "version": "3.7.6"
  }
 },
 "nbformat": 4,
 "nbformat_minor": 4
}
