{
 "cells": [
  {
   "cell_type": "markdown",
   "metadata": {},
   "source": [
    "967 Numbers With Same Consecutive Differences\n",
    "===\n",
    "***\n",
    "Problem\n",
    "---\n",
    "https://leetcode.com/problems/numbers-with-same-consecutive-differences/\n",
    "\n",
    "\n",
    "Return all non-negative integers of length N such that the absolute difference between every two consecutive digits is K.\n",
    "Note that every number in the answer must not have leading zeros except for the number 0 itself. For example, 01 has one leading zero and is invalid, but 0 is valid.\n",
    "\n",
    "You may return the answer in any order.\n",
    "\n",
    " \n",
    "\n",
    "**Example 1:**  \n",
    "Input: N = 3, K = 7  \n",
    "Output: [181,292,707,818,929]  \n",
    "Explanation: Note that 070 is not a valid number, because it has leading zeroes.  \n",
    "\n",
    "\n",
    "**Example 2:**  \n",
    "Input: N = 2, K = 1  \n",
    "Output: [10,12,21,23,32,34,43,45,54,56,65,67,76,78,87,89,98]  \n",
    " \n",
    "\n",
    "**Note:**\n",
    "1 <= N <= 9\n",
    "0 <= K <= 9"
   ]
  },
  {
   "cell_type": "code",
   "execution_count": 1,
   "metadata": {},
   "outputs": [],
   "source": [
    "from collections import deque\n",
    "\n",
    "\n",
    "def extend(nums, difference, results):\n",
    "    for num in nums:\n",
    "        last = num % 10\n",
    "        if difference == 0:\n",
    "            results.append(10 * num + last)\n",
    "            continue\n",
    "        if last + difference < 10:\n",
    "            results.append(10 * num + last + difference)\n",
    "        if last - difference >= 0:\n",
    "            results.append(10 * num + last - difference)\n",
    "    return\n",
    "\n",
    "\n",
    "def same_difference(N, K):\n",
    "    if N == 1:\n",
    "        return [i for i in range(10)]\n",
    "    i = 1\n",
    "    Q = [i for i in range(1, 10)]\n",
    "    while i < N:\n",
    "        newQ = []\n",
    "        extend(Q, K, newQ)\n",
    "        Q = newQ\n",
    "        i += 1\n",
    "    return Q"
   ]
  },
  {
   "cell_type": "code",
   "execution_count": null,
   "metadata": {},
   "outputs": [],
   "source": []
  }
 ],
 "metadata": {
  "kernelspec": {
   "display_name": "Python 3",
   "language": "python",
   "name": "python3"
  },
  "language_info": {
   "codemirror_mode": {
    "name": "ipython",
    "version": 3
   },
   "file_extension": ".py",
   "mimetype": "text/x-python",
   "name": "python",
   "nbconvert_exporter": "python",
   "pygments_lexer": "ipython3",
   "version": "3.7.6"
  }
 },
 "nbformat": 4,
 "nbformat_minor": 4
}
