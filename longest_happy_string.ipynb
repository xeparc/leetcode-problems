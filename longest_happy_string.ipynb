{
 "cells": [
  {
   "cell_type": "markdown",
   "metadata": {},
   "source": [
    "Longest Happy String\n",
    "===\n",
    "***\n",
    "Problem\n",
    "---\n",
    "https://leetcode.com/problems/longest-happy-string/\n",
    "\n",
    "A string is called happy if it does not have any of the strings 'aaa', 'bbb' or 'ccc' as a substring.  \n",
    "Given three integers a, b and c, return any string s, which satisfies following conditions:\n",
    "\n",
    "* s is happy and longest possible.\n",
    "* s contains at most a occurrences of the letter 'a', at most b occurrences of the letter 'b' and at most c occurrences of the letter 'c'.\n",
    "* s will only contain 'a', 'b' and 'c' letters.\n",
    "\n",
    "If there is no such string s return the empty string \"\".\n",
    "\n",
    "\n",
    "**Example 1:**  \n",
    "Input: a = 1, b = 1, c = 7  \n",
    "Output: \"ccaccbcc\"  \n",
    "Explanation: \"ccbccacc\" would also be a correct answer.  \n",
    "\n",
    "\n",
    "**Example 2:**  \n",
    "Input: a = 2, b = 2, c = 1  \n",
    "Output: \"aabbc\"  \n",
    "\n",
    "\n",
    "**Example 3:**  \n",
    "Input: a = 7, b = 1, c = 0  \n",
    "Output: \"aabaa\"  \n",
    "Explanation: It's the only correct answer in this case.  "
   ]
  },
  {
   "cell_type": "code",
   "execution_count": 123,
   "metadata": {},
   "outputs": [],
   "source": [
    "import itertools\n",
    "import numpy as np"
   ]
  },
  {
   "cell_type": "markdown",
   "metadata": {},
   "source": [
    "**Recursive implementation - \\$O(a + b + c)\\$**"
   ]
  },
  {
   "cell_type": "code",
   "execution_count": 115,
   "metadata": {},
   "outputs": [],
   "source": [
    "def longest_happy_string(a, b, c, res):\n",
    "\n",
    "    # Sort letters by allowed occurences\n",
    "    letters = sorted(zip((a, b, c), 'abc'))\n",
    "    m = min(a, b, c)\n",
    "    \n",
    "    # Try to append the 1st letter\n",
    "    count, L = letters.pop()\n",
    "    if count and res[-1][0] != L:\n",
    "        reps = min(2, max(1, count - m))\n",
    "        res.append(L * reps)\n",
    "        d = {'a': a, 'b': b, 'c': c}\n",
    "        d[L] = d[L] - reps\n",
    "        return longest_happy_string(d['a'], d['b'], d['c'], res)\n",
    "    \n",
    "    # Try to append 2nd letter\n",
    "    count, L = letters.pop()\n",
    "    if count and res[-1][0] != L:\n",
    "        res.append(L)\n",
    "        d = {'a': a, 'b': b, 'c': c}\n",
    "        d[L] = d[L] - 1\n",
    "        return longest_happy_string(d['a'], d['b'], d['c'], res)\n",
    "    \n",
    "    # ... 3rd letter\n",
    "    count, L = letters.pop()\n",
    "    if count and res[-1][0] != L:\n",
    "        res.append(L)\n",
    "        d = {'a': a, 'b': b, 'c': c}\n",
    "        d[L] = d[L] - 1\n",
    "        return longest_happy_string(d['a'], d['b'], d['c'], res)\n",
    "    \n",
    "    return ''.join(res[1:])"
   ]
  },
  {
   "cell_type": "markdown",
   "metadata": {},
   "source": [
    "**Iterative implementation - \\$O(a + b + c)\\$**"
   ]
  },
  {
   "cell_type": "code",
   "execution_count": 125,
   "metadata": {},
   "outputs": [],
   "source": [
    "def longest_happy_string_fast(a, b, c):\n",
    "    return happy_string(list(zip((a, b, c), 'abc')))\n",
    "\n",
    "\n",
    "def happy_string(counts):\n",
    "    res = ['x']\n",
    "\n",
    "    while counts:\n",
    "        m = 0 if len(counts) < 3 else min(c[0] for c in counts)\n",
    "        counts.sort(reverse=True)\n",
    "        \n",
    "        # Try to append the first letter\n",
    "        count, L = counts[0]\n",
    "        if count and res[-1][0] != L:\n",
    "            reps = min(2, max(1, count - m))\n",
    "            res.append(L * reps)\n",
    "            if count - reps == 0:\n",
    "                del counts[0]\n",
    "            else:\n",
    "                counts[0] = (count - reps, L)\n",
    "            continue\n",
    "        \n",
    "        if len(counts) < 2:\n",
    "            break\n",
    "        # Try to append the second letter\n",
    "        count, L = counts[1]\n",
    "        if count and res[-1][0] != L:\n",
    "            res.append(L)\n",
    "            if count - 1 == 0:\n",
    "                del counts[1]\n",
    "            else:\n",
    "                counts[1] = (count - 1, L)\n",
    "            continue\n",
    "        \n",
    "        if len(counts) < 3:\n",
    "            break\n",
    "        # Try to append the second letter\n",
    "        count, L = counts[2]\n",
    "        if count and res[-1][0] != L:\n",
    "            res.append(L)\n",
    "            if count - 1 == 0:\n",
    "                del counts[2]\n",
    "            else:\n",
    "                counts[2] = (count - 1, L)\n",
    "            continue\n",
    "            \n",
    "        # Cannot append any more letters\n",
    "        break\n",
    "\n",
    "    return ''.join(res[1:])\n"
   ]
  },
  {
   "cell_type": "code",
   "execution_count": 117,
   "metadata": {},
   "outputs": [
    {
     "name": "stdout",
     "output_type": "stream",
     "text": [
      "917 µs ± 2.75 µs per loop (mean ± std. dev. of 7 runs, 1000 loops each)\n"
     ]
    }
   ],
   "source": [
    "%timeit longest_happy_string_fast(140, 340, 101)"
   ]
  },
  {
   "cell_type": "code",
   "execution_count": 118,
   "metadata": {},
   "outputs": [
    {
     "name": "stdout",
     "output_type": "stream",
     "text": [
      "1.23 ms ± 42.3 µs per loop (mean ± std. dev. of 7 runs, 1000 loops each)\n"
     ]
    }
   ],
   "source": [
    "%timeit longest_happy_string(140, 340, 101, ['x'])"
   ]
  },
  {
   "cell_type": "markdown",
   "metadata": {},
   "source": [
    "**Tests**"
   ]
  },
  {
   "cell_type": "code",
   "execution_count": 124,
   "metadata": {},
   "outputs": [],
   "source": [
    "args = np.random.randint(1, 100, size=(1000, 3))\n",
    "args = itertools.product(range(20), range(20), range(20))\n",
    "for a, b, c in args:\n",
    "    res = longest_happy_string_fast(a, b, c)\n",
    "    assert('aaa' not in res)\n",
    "    assert('bbb' not in res)\n",
    "    assert('ccc' not in res)\n",
    "    assert(res.count('a') <= a)\n",
    "    assert(res.count('b') <= b)    \n",
    "    assert(res.count('c') <= c)    "
   ]
  },
  {
   "cell_type": "code",
   "execution_count": null,
   "metadata": {},
   "outputs": [],
   "source": []
  }
 ],
 "metadata": {
  "kernelspec": {
   "display_name": "Python 3",
   "language": "python",
   "name": "python3"
  },
  "language_info": {
   "codemirror_mode": {
    "name": "ipython",
    "version": 3
   },
   "file_extension": ".py",
   "mimetype": "text/x-python",
   "name": "python",
   "nbconvert_exporter": "python",
   "pygments_lexer": "ipython3",
   "version": "3.7.6"
  }
 },
 "nbformat": 4,
 "nbformat_minor": 4
}
