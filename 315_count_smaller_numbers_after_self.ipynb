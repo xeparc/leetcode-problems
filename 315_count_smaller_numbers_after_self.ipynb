{
 "cells": [
  {
   "cell_type": "markdown",
   "metadata": {},
   "source": [
    "Count of Smaller Numbers After Self\n",
    "===\n",
    "***\n",
    "Problem\n",
    "---\n",
    "https://leetcode.com/problems/count-of-smaller-numbers-after-self/\n",
    "\n",
    "\n",
    "You are given an integer array nums and you have to return a new counts array. The counts array has the property where counts[i] is the number of smaller elements to the right of nums[i].\n",
    "\n",
    "\n",
    "\n",
    "**Example 1:**  \n",
    "\n",
    "Input: nums = [5,2,6,1]  \n",
    "Output: [2,1,1,0]  \n",
    "\n",
    "Explanation:  \n",
    "To the right of 5 there are 2 smaller elements (2 and 1).  \n",
    "To the right of 2 there is only 1 smaller element (1).  \n",
    "To the right of 6 there is 1 smaller element (1).  \n",
    "To the right of 1 there is 0 smaller element.  \n",
    " \n",
    "\n",
    "**Constraints:**\n",
    "\n",
    "0 <= nums.length <= 10^5  \n",
    "-10^4 <= nums[i] <= 10^4  "
   ]
  },
  {
   "cell_type": "code",
   "execution_count": 1,
   "metadata": {},
   "outputs": [],
   "source": []
  },
  {
   "cell_type": "code",
   "execution_count": null,
   "metadata": {},
   "outputs": [],
   "source": []
  }
 ],
 "metadata": {
  "kernelspec": {
   "display_name": "Python 3",
   "language": "python",
   "name": "python3"
  },
  "language_info": {
   "codemirror_mode": {
    "name": "ipython",
    "version": 3
   },
   "file_extension": ".py",
   "mimetype": "text/x-python",
   "name": "python",
   "nbconvert_exporter": "python",
   "pygments_lexer": "ipython3",
   "version": "3.7.6"
  }
 },
 "nbformat": 4,
 "nbformat_minor": 4
}
