{
 "cells": [
  {
   "cell_type": "markdown",
   "metadata": {},
   "source": [
    "Iterator for Combination\n",
    "===\n",
    "***\n",
    "Problem\n",
    "---\n",
    "https://leetcode.com/problems/iterator-for-combination/\n",
    "\n",
    "\n",
    "Design an Iterator class, which has:\n",
    "\n",
    "A constructor that takes a string characters of sorted distinct lowercase English letters and a number combinationLength as arguments.  \n",
    "A function next() that returns the next combination of length combinationLength in lexicographical order.  \n",
    "A function hasNext() that returns True if and only if there exists a next combination.  \n",
    " \n",
    "\n",
    "**Example:**  \n",
    "\n",
    "CombinationIterator iterator = new CombinationIterator(\"abc\", 2); // creates the iterator.  \n",
    "\n",
    "iterator.next(); // returns \"ab\"  \n",
    "iterator.hasNext(); // returns true  \n",
    "iterator.next(); // returns \"ac\"  \n",
    "iterator.hasNext(); // returns true  \n",
    "iterator.next(); // returns \"bc\"  \n",
    "iterator.hasNext(); // returns false  \n",
    "\n",
    "\n",
    "**Constraints:**  \n",
    "\n",
    "1 <= combinationLength <= characters.length <= 15  \n",
    "There will be at most 10^4 function calls per test.  \n",
    "It's guaranteed that all calls of the function next are valid.  "
   ]
  },
  {
   "cell_type": "code",
   "execution_count": 158,
   "metadata": {},
   "outputs": [],
   "source": [
    "class CombinationIterator:\n",
    "\n",
    "    def __init__(self, characters: str, combinationLength: int):\n",
    "        self.sequence = characters[:]\n",
    "        self.N = len(characters)\n",
    "        self.k = combinationLength\n",
    "        self.indices = list(range(combinationLength))\n",
    "\n",
    "    def __iter__(self):\n",
    "        return self\n",
    "\n",
    "    def __next__(self) -> str:\n",
    "        if not self.hasNext():\n",
    "            raise StopIteration\n",
    "        indices = self.indices\n",
    "        res =  ''.join(self.sequence[i] for i in indices)\n",
    "        # Increment the last index in `indices` that can be\n",
    "        # incremented\n",
    "        n, k = self.N, self.k\n",
    "        maxincr = n - 1\n",
    "        j = k - 1\n",
    "        while indices[j] == maxincr:\n",
    "            j -= 1\n",
    "            maxincr -= 1\n",
    "        if j < 0:\n",
    "            indices[0] += 1\n",
    "        else:\n",
    "            s = indices[j] + 1\n",
    "            indices[j:] = list(range(s, s + k - j))\n",
    "            self.indices = indices\n",
    "        return res\n",
    "        \n",
    "\n",
    "    def hasNext(self) -> bool:\n",
    "        return self.indices[0] <= self.N - self.k"
   ]
  },
  {
   "cell_type": "code",
   "execution_count": 159,
   "metadata": {},
   "outputs": [
    {
     "data": {
      "text/plain": [
       "['abc', 'abd', 'abe', 'acd', 'ace', 'ade', 'bcd', 'bce', 'bde', 'cde']"
      ]
     },
     "execution_count": 159,
     "metadata": {},
     "output_type": "execute_result"
    }
   ],
   "source": [
    "list(CombinationIterator('abcde', 3))"
   ]
  },
  {
   "cell_type": "code",
   "execution_count": null,
   "metadata": {},
   "outputs": [],
   "source": []
  }
 ],
 "metadata": {
  "kernelspec": {
   "display_name": "Python 3",
   "language": "python",
   "name": "python3"
  }
 },
 "nbformat": 4,
 "nbformat_minor": 4
}
