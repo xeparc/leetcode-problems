{
 "metadata": {
  "language_info": {
   "codemirror_mode": {
    "name": "ipython",
    "version": 3
   },
   "file_extension": ".py",
   "mimetype": "text/x-python",
   "name": "python",
   "nbconvert_exporter": "python",
   "pygments_lexer": "ipython3",
   "version": "3.7.6-final"
  },
  "orig_nbformat": 2,
  "kernelspec": {
   "name": "python3",
   "display_name": "Python 3"
  }
 },
 "nbformat": 4,
 "nbformat_minor": 2,
 "cells": [
  {
   "cell_type": "markdown",
   "metadata": {},
   "source": [
    "290 Word Pattern\n",
    "===\n",
    "Problem\n",
    "---\n",
    "https://leetcode.com/problems/word-pattern/\n",
    "\n",
    "```\n",
    "Given a pattern and a string str, find if str follows the same pattern.\n",
    "Here follow means a full match, such that there is a bijection between a letter in pattern and a non-empty word in str.\n",
    "\n",
    "Example 1:\n",
    "\n",
    "Input: pattern = \"abba\", str = \"dog cat cat dog\"\n",
    "Output: true\n",
    "\n",
    "Example 2:\n",
    "\n",
    "Input: pattern = \"abba\", str = \"dog cat cat fish\"\n",
    "Output: false\n",
    "\n",
    "Example 3:\n",
    "\n",
    "Input: pattern = \"aaaa\", str = \"dog cat cat dog\"\n",
    "Output: false\n",
    "\n",
    "Example 4:\n",
    "\n",
    "Input: pattern = \"abba\", str = \"dog dog dog dog\"\n",
    "Output: false\n",
    "\n",
    "Notes:\n",
    "You may assume pattern contains only lowercase letters, and str contains lowercase letters that may be separated by a single space.\n",
    "```"
   ]
  },
  {
   "cell_type": "code",
   "execution_count": 1,
   "metadata": {},
   "outputs": [],
   "source": [
    "class Solution:\n",
    "    def wordPattern(self, pattern: str, str: str) -> bool:\n",
    "        words = str.split()\n",
    "        d = {}  # word -> pattern\n",
    "        e = {}  # pattern -> word\n",
    "        if len(words) != len(pattern):\n",
    "            return False\n",
    "        for p, w in zip(pattern, words):\n",
    "            x = d.get(w, '')\n",
    "            y = e.get(p, '')\n",
    "            if not x and not y:\n",
    "                d[w] = p\n",
    "                e[p] = w\n",
    "            elif x != p or y != w:\n",
    "                    return False\n",
    "        return True\n"
   ]
  },
  {
   "cell_type": "code",
   "execution_count": null,
   "metadata": {},
   "outputs": [],
   "source": []
  }
 ]
}