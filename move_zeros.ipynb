{
 "cells": [
  {
   "cell_type": "markdown",
   "metadata": {},
   "source": [
    "<h2><center>Move Zeros</center></h2>\n",
    "<h3>Problem:</h3>\n",
    "<p>\n",
    "    Given an array nums, write a function to move all 0's to the<br>\n",
    "    end of it while maintaining the relative order of non-zero elements.\n",
    "</p>\n",
    "<p>\n",
    "    For example, given nums = [0, 1, 0, 3, 12], after calling your\n",
    "    function, nums should be [1, 3, 12, 0, 0]\n",
    "</p>\n",
    "<p><i>\n",
    "    Note:<br>\n",
    "    <ul>\n",
    "        <li>You must do it in-place.</li>\n",
    "    </ul>\n",
    "</i></p>"
   ]
  },
  {
   "cell_type": "code",
   "execution_count": 11,
   "metadata": {},
   "outputs": [
    {
     "name": "stdout",
     "output_type": "stream",
     "text": [
      "Test passes!\n",
      "\n",
      ">>> l = [0, 1, 0, 3, 12]\n",
      "[0, 1, 0, 3, 12]\n",
      "\n",
      ">>> move_zeros(l)\n",
      "[1, 3, 12, 0, 0]\n"
     ]
    }
   ],
   "source": [
    "import random\n",
    "\n",
    "\n",
    "def move_zeros(nums):\n",
    "    N = len(nums)\n",
    "    j = 0\n",
    "    for i in range(N):\n",
    "        if nums[i] != 0:\n",
    "            nums[j] = nums[i]\n",
    "            j += 1\n",
    "    for k in range(j, N):\n",
    "        nums[k] = 0\n",
    "    return\n",
    "\n",
    "\n",
    "def _move_zeros(nums):\n",
    "    \"\"\"Implementation for verification.\"\"\"\n",
    "    num_zeros = nums.count(0)\n",
    "    for _ in range(num_zeros):\n",
    "        del nums[nums.index(0)]\n",
    "    nums += [0] * num_zeros\n",
    "\n",
    "\n",
    "def test_move_zeros():\n",
    "    for _ in range(1000):\n",
    "        total_len = random.randint(1, 100)\n",
    "        zeros = random.randint(0, total_len)\n",
    "        nums = list(range(1, total_len + 1))\n",
    "        random.shuffle(nums)\n",
    "        for _ in range(zeros):\n",
    "            zero_indices = random.sample(range(total_len), zeros)\n",
    "            for i in zero_indices:\n",
    "                nums[i] = 0\n",
    "        nums1 = nums\n",
    "        nums2 = list(nums)\n",
    "        move_zeros(nums1)\n",
    "        _move_zeros(nums2)\n",
    "        if nums1 != nums2:\n",
    "            return False\n",
    "    return True\n",
    "\n",
    "\n",
    "if test_move_zeros():\n",
    "    print('Test passes!\\n')\n",
    "else:\n",
    "    print('Test fails :(\\n')\n",
    "\n",
    "l = [0, 1, 0, 3, 12]\n",
    "print('>>> l = [0, 1, 0, 3, 12]')\n",
    "print(l)\n",
    "print()\n",
    "\n",
    "move_zeros(l)\n",
    "print('>>> move_zeros(l)')\n",
    "print(l)"
   ]
  },
  {
   "cell_type": "code",
   "execution_count": null,
   "metadata": {},
   "outputs": [],
   "source": []
  }
 ],
 "metadata": {
  "kernelspec": {
   "display_name": "Python 3",
   "language": "python",
   "name": "python3"
  },
  "language_info": {
   "codemirror_mode": {
    "name": "ipython",
    "version": 3
   },
   "file_extension": ".py",
   "mimetype": "text/x-python",
   "name": "python",
   "nbconvert_exporter": "python",
   "pygments_lexer": "ipython3",
   "version": "3.6.5"
  }
 },
 "nbformat": 4,
 "nbformat_minor": 2
}
