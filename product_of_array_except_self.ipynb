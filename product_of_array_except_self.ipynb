{
 "cells": [
  {
   "cell_type": "markdown",
   "metadata": {},
   "source": [
    "<h2><center>Product of Array Except Self</center></h2>\n",
    "<h3>Problem:</h3>\n",
    "<p>\n",
    "    Given an array <strong>nums</strong> of n integers where n > 1, return an array <strong>output</strong><br>\n",
    "    such that output[i] is equal to the product of all elements of nums<br>\n",
    "    except nums[i]. Solve it without division and in $ O(n) $.\n",
    "</p>\n",
    "<p>\n",
    "    <strong>Follow up:</strong><br>\n",
    "    <i>Can you solve it with constant space complexity?<br>\n",
    "       (Note: The output array does not count as extra space for the purpose\n",
    "        of space complexity analysis)\n",
    "    </i>\n",
    "</p>"
   ]
  },
  {
   "cell_type": "code",
   "execution_count": 26,
   "metadata": {},
   "outputs": [
    {
     "data": {
      "text/plain": [
       "True"
      ]
     },
     "execution_count": 26,
     "metadata": {},
     "output_type": "execute_result"
    }
   ],
   "source": [
    "import functools\n",
    "import numpy as np\n",
    "import operator\n",
    "import random\n",
    "\n",
    "\n",
    "def product_except_self(nums):\n",
    "    prod = 1\n",
    "    left_product = [1] * len(nums)\n",
    "    right_product = [1] * len(nums)\n",
    "    for i in range(1, len(nums)):\n",
    "        left_product[i] = left_product[i - 1] * nums[i - 1]\n",
    "    for i in range(len(nums) - 2, -1, -1):\n",
    "        right_product[i] = right_product[i + 1] * nums[i + 1]\n",
    "    return [x * y for x, y in zip(left_product, right_product)]\n",
    "\n",
    "\n",
    "def product_except_self_const(nums):\n",
    "    \"\"\"Implementation with constant space.\"\"\"\n",
    "    prod = 1\n",
    "    result = [1] * len(nums)\n",
    "    # Left products\n",
    "    for i in range(1, len(nums)):\n",
    "        result[i] = result[i - 1] * nums[i - 1]\n",
    "\n",
    "    r_product = nums[-1]\n",
    "    for i in range(len(nums) - 2, -1, -1):\n",
    "        result[i] *= r_product\n",
    "        r_product *= nums[i]\n",
    "    return result\n",
    "\n",
    "\n",
    "def _product_except_self(nums):\n",
    "    \"\"\"Implementation for testing.\"\"\"\n",
    "    prod = functools.reduce(operator.mul, nums)\n",
    "    return [prod // x for x in nums]\n",
    "\n",
    "\n",
    "def test_product_except_self():\n",
    "    for _ in range(10000):\n",
    "        length = random.randint(2, 16)\n",
    "        nums = np.random.randint(1, 8, size=(length,))\n",
    "        np.random.shuffle(nums)\n",
    "        nums = list(range(1, length + 1))\n",
    "        random.shuffle(nums)\n",
    "        if product_except_self(nums) != _product_except_self(nums):\n",
    "            return False\n",
    "        if product_except_self_const(nums) != _product_except_self(nums):\n",
    "            return False\n",
    "    return True\n",
    "\n",
    "\n",
    "test_product_except_self()"
   ]
  },
  {
   "cell_type": "code",
   "execution_count": null,
   "metadata": {},
   "outputs": [],
   "source": []
  }
 ],
 "metadata": {
  "kernelspec": {
   "display_name": "Python 3",
   "language": "python",
   "name": "python3"
  },
  "language_info": {
   "codemirror_mode": {
    "name": "ipython",
    "version": 3
   },
   "file_extension": ".py",
   "mimetype": "text/x-python",
   "name": "python",
   "nbconvert_exporter": "python",
   "pygments_lexer": "ipython3",
   "version": "3.6.5"
  }
 },
 "nbformat": 4,
 "nbformat_minor": 2
}
