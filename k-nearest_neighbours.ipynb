{
 "cells": [
  {
   "cell_type": "code",
   "execution_count": null,
   "metadata": {},
   "outputs": [],
   "source": [
    "import numpy as np\n",
    "from matplotlib import pyplot as plt"
   ]
  },
  {
   "cell_type": "markdown",
   "metadata": {},
   "source": [
    "**Choose K and N**"
   ]
  },
  {
   "cell_type": "code",
   "execution_count": null,
   "metadata": {},
   "outputs": [],
   "source": [
    "K = 3\n",
    "N = 20"
   ]
  },
  {
   "cell_type": "code",
   "execution_count": null,
   "metadata": {},
   "outputs": [],
   "source": [
    "np.random.RandomState(seed=42)\n",
    "points = np.random.random((2, N))\n",
    "plt.scatter(points[0], points[1], alpha=.5)\n",
    "for i in range(N):\n",
    "    plt.text(points[0][i], points[1][i], str(i))\n",
    "plt.show()"
   ]
  },
  {
   "cell_type": "markdown",
   "metadata": {},
   "source": [
    "**Find pairwise distances**"
   ]
  },
  {
   "cell_type": "code",
   "execution_count": null,
   "metadata": {
    "scrolled": true
   },
   "outputs": [],
   "source": [
    "# My method\n",
    "dist_x = np.subtract.outer(points[0], points[0]) ** 2\n",
    "dist_y = np.subtract.outer(points[1], points[1]) ** 2\n",
    "dist = np.sqrt(dist_x + dist_y)\n",
    "\n",
    "# `Data Science Handbook` method\n",
    "dist = np.sqrt(np.sum((points[:, np.newaxis, :] - points[:, :, np.newaxis]) ** 2, axis=0))\n",
    "\n",
    "dist.shape"
   ]
  },
  {
   "cell_type": "markdown",
   "metadata": {},
   "source": [
    "**Find K nearest neighbours**"
   ]
  },
  {
   "cell_type": "code",
   "execution_count": null,
   "metadata": {},
   "outputs": [],
   "source": [
    "nearest = np.argpartition(dist, kth=K + 1, axis=0)[:K + 1, :].T\n",
    "nearest\n"
   ]
  },
  {
   "cell_type": "markdown",
   "metadata": {},
   "source": [
    "**Mini benchmark**"
   ]
  },
  {
   "cell_type": "code",
   "execution_count": null,
   "metadata": {},
   "outputs": [],
   "source": [
    "def pairwise_dist(points):\n",
    "    x_dist = np.subtract.outer(points[0], points[0]) ** 2\n",
    "    y_dist = np.subtract.outer(points[1], points[1]) ** 2\n",
    "    z_dist = np.subtract.outer(points[2], points[2]) ** 2\n",
    "    return np.sqrt(x_dist + y_dist + z_dist)\n",
    "\n",
    "\n",
    "p = np.random.random((3, 10000))\n",
    "\n",
    "%time dist2 = pairwise_dist(p)\n",
    "%time dist = np.sqrt(np.sum((p[:, :, np.newaxis] - p[:, np.newaxis, :]) ** 2, axis=0))\n"
   ]
  },
  {
   "cell_type": "code",
   "execution_count": null,
   "metadata": {},
   "outputs": [],
   "source": []
  }
 ],
 "metadata": {
  "kernelspec": {
   "display_name": "Python 3",
   "language": "python",
   "name": "python3"
  },
  "language_info": {
   "codemirror_mode": {
    "name": "ipython",
    "version": 3
   },
   "file_extension": ".py",
   "mimetype": "text/x-python",
   "name": "python",
   "nbconvert_exporter": "python",
   "pygments_lexer": "ipython3",
   "version": "3.6.5"
  }
 },
 "nbformat": 4,
 "nbformat_minor": 2
}
