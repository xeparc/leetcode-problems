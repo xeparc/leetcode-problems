{
 "cells": [
  {
   "cell_type": "markdown",
   "metadata": {},
   "source": [
    "Subset Sum Problem\n",
    "=================\n",
    "\n",
    "[https://www.coderbyte.com/algorithm/subset-sum-problem-revised]\n",
    "<br>\n",
    "<br>\n",
    "The subset sum problem is an important problem in computer science. The challenge is to determine if there is some subset of numbers in an array that can sum up to some number S."
   ]
  },
  {
   "cell_type": "code",
   "execution_count": 77,
   "metadata": {},
   "outputs": [
    {
     "name": "stdout",
     "output_type": "stream",
     "text": [
      "{frozenset({1, 3, 5}), frozenset({2, 3, 4}), frozenset({0, 2, 7}), frozenset({0, 1, 3, 5}), frozenset({9}), frozenset({0, 2, 3, 4}), frozenset({2, 7}), frozenset({0, 3, 6}), frozenset({3, 6}), frozenset({0, 4, 5}), frozenset({4, 5}), frozenset({0, 1, 2, 6}), frozenset({0, 1, 8}), frozenset({8, 1}), frozenset({1, 2, 6}), frozenset({0, 9})} \n",
      "\n",
      "\n",
      "{frozenset({9}), frozenset({4, 5}), frozenset({3, 6}), frozenset({8, 1}), frozenset({2, 7}), frozenset({0, 9})} \n",
      "\n",
      "\n"
     ]
    },
    {
     "data": {
      "text/plain": [
       "{frozenset({2, 3}), frozenset({0, 2, 3})}"
      ]
     },
     "execution_count": 77,
     "metadata": {},
     "output_type": "execute_result"
    }
   ],
   "source": [
    "import random\n",
    "import itertools\n",
    "import functools\n",
    "\n",
    "# @functools.lru_cache()\n",
    "def subset_sum(nums, S):\n",
    "    \"\"\"Recursive approach\"\"\"\n",
    "    \n",
    "    nums = frozenset(nums)\n",
    "    result = set()\n",
    "    \n",
    "    # Base case\n",
    "    if S in nums:\n",
    "        result.add(frozenset((S,)))\n",
    "        if 0 in nums:\n",
    "            result.add(frozenset((S, 0)))\n",
    "    \n",
    "    for i in range(1, S):\n",
    "        a = subset_sum(nums, i)\n",
    "        b = subset_sum(nums, S - i)\n",
    "        for x in a:\n",
    "            for y in b:\n",
    "                if sum(x | y) == S:\n",
    "                    result.add(x | y )\n",
    "    return result\n",
    "\n",
    "\n",
    "def subset_sum_topdown(nums, S):\n",
    "    \"\"\"Dynamic programming, top-down approach.\"\"\"\n",
    "    \n",
    "    def _subset_sum(nums_set, S, subsets):\n",
    "        \"\"\"@subsets is a dict\"\"\"\n",
    "        if S in nums_set:\n",
    "            subsets.setdefault(S, set()).add(frozenset((S,)))\n",
    "            if 0 in nums_set:\n",
    "                subsets[S].add(frozenset((0, S)))\n",
    "        for i in range(1, S):\n",
    "            a = subsets.get(i, set()).copy()\n",
    "            b = subsets.get(S - i, set()).copy()\n",
    "            for x in a:\n",
    "                for y in b:\n",
    "                    z = x | y\n",
    "                    subsets.setdefault(sum(z), set()).add(z)\n",
    "        return subsets.get(S, set())\n",
    "    \n",
    "    d = {}\n",
    "    for x in nums:\n",
    "        if x <= S:\n",
    "            d[x] = set((frozenset((x,)),))\n",
    "    return _subset_sum(set(nums), S, d)\n",
    "\n",
    "\n",
    "def subset_sum_bottom_up(nums, S):\n",
    "    \"\"\"Dynamic programming, bottom-up approach.\"\"\"\n",
    "    \n",
    "    subsets = {}\n",
    "    \n",
    "    for x in nums:\n",
    "        if x <= S:\n",
    "            subsets[x] = set((frozenset((x, )), ))\n",
    "    \n",
    "    for _ in range(S):\n",
    "        subsets_instance = subsets.copy()\n",
    "        for i, a in subsets_instance.items():\n",
    "            for j, b in subsets_instance.items():\n",
    "                for x, y in itertools.product(a, b):\n",
    "                    z = x | y\n",
    "                    subsets.setdefault(sum(z), set()).add(frozenset(z))\n",
    "    return subsets.get(S, set())\n",
    "\n",
    "\n",
    "print(subset_sum(frozenset(range(10)), 9), '\\n\\n')\n",
    "print(subset_sum_topdown(range(10), 9), '\\n\\n')\n",
    "subset_sum_bottom_up(range(4), 5)"
   ]
  },
  {
   "cell_type": "code",
   "execution_count": 4,
   "metadata": {},
   "outputs": [
    {
     "data": {
      "text/plain": [
       "{0, 1, 2, 5}"
      ]
     },
     "execution_count": 4,
     "metadata": {},
     "output_type": "execute_result"
    }
   ],
   "source": [
    "a = set(range(3))\n",
    "b = set(range(2, 5))\n",
    "a.add(5)\n",
    "a"
   ]
  },
  {
   "cell_type": "code",
   "execution_count": 65,
   "metadata": {},
   "outputs": [
    {
     "data": {
      "text/plain": [
       "[]"
      ]
     },
     "execution_count": 65,
     "metadata": {},
     "output_type": "execute_result"
    }
   ],
   "source": [
    "list(itertools.product([], [1, 2, 3]))"
   ]
  },
  {
   "cell_type": "code",
   "execution_count": 83,
   "metadata": {},
   "outputs": [
    {
     "name": "stdout",
     "output_type": "stream",
     "text": [
      "   111\n",
      "  1000\n",
      "  1001\n",
      "  1010\n",
      "  1011\n",
      "  1100\n",
      "  1101\n",
      "  1110\n",
      "  1111\n",
      " 10000\n",
      " 10001\n",
      " 10010\n",
      " 10011\n",
      " 10100\n",
      " 10101\n",
      " 10110\n",
      " 10111\n"
     ]
    }
   ],
   "source": [
    "for i in range(7, 24): print('{0:>6}'.format(bin(i)[2:]))"
   ]
  },
  {
   "cell_type": "code",
   "execution_count": null,
   "metadata": {},
   "outputs": [],
   "source": []
  }
 ],
 "metadata": {
  "kernelspec": {
   "display_name": "Python 3",
   "language": "python",
   "name": "python3"
  },
  "language_info": {
   "codemirror_mode": {
    "name": "ipython",
    "version": 3
   },
   "file_extension": ".py",
   "mimetype": "text/x-python",
   "name": "python",
   "nbconvert_exporter": "python",
   "pygments_lexer": "ipython3",
   "version": "3.7.4"
  }
 },
 "nbformat": 4,
 "nbformat_minor": 2
}
