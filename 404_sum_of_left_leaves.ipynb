{
 "cells": [
  {
   "cell_type": "markdown",
   "metadata": {},
   "source": [
    "404 Sum of Left Leaves\n",
    "===\n",
    "***\n",
    "Problem\n",
    "---\n",
    "https://leetcode.com/problems/sum-of-left-leaves/\n",
    "\n",
    "\n",
    "Find the sum of all left leaves in a given binary tree.\n",
    "\n",
    "**Example:**\n",
    "```\n",
    "    3\n",
    "   / \\\n",
    "  9  20\n",
    "    /  \\  \n",
    "   15   7\n",
    "```\n",
    "\n",
    "There are two left leaves in the binary tree, with values 9 and 15 respectively. Return 24."
   ]
  },
  {
   "cell_type": "code",
   "execution_count": 3,
   "metadata": {},
   "outputs": [],
   "source": [
    "# Definition for a binary tree node.\n",
    "# class TreeNode:\n",
    "#     def __init__(self, val=0, left=None, right=None):\n",
    "#         self.val = val\n",
    "#         self.left = left\n",
    "#         self.right = right\n",
    "\n",
    "def sumOfLeftLeaves(root) -> int:\n",
    "    if root is None:\n",
    "        return 0\n",
    "    res = 0\n",
    "    # Check if left branch is a leaf\n",
    "    if root.left is not None and is_leaf(root.left):\n",
    "        res += root.left.val\n",
    "    else:\n",
    "        res += self.sumOfLeftLeaves(root.left) if root.left else 0\n",
    "    res += self.sumOfLeftLeaves(root.right) if root.right else 0\n",
    "    return res\n",
    "            \n",
    "\n",
    "def is_leaf(root):\n",
    "    return root.left is None and root.right is None"
   ]
  },
  {
   "cell_type": "code",
   "execution_count": null,
   "metadata": {},
   "outputs": [],
   "source": []
  }
 ],
 "metadata": {
  "kernelspec": {
   "display_name": "Python 3",
   "language": "python",
   "name": "python3"
  },
  "language_info": {
   "codemirror_mode": {
    "name": "ipython",
    "version": 3
   },
   "file_extension": ".py",
   "mimetype": "text/x-python",
   "name": "python",
   "nbconvert_exporter": "python",
   "pygments_lexer": "ipython3",
   "version": "3.7.6"
  }
 },
 "nbformat": 4,
 "nbformat_minor": 4
}
