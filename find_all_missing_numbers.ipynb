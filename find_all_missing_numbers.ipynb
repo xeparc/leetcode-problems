{
 "cells": [
  {
   "cell_type": "markdown",
   "metadata": {},
   "source": [
    "<h2 style=\"color:black\"><center>Find All Missing Numbers<center></h2>\n",
    "<h3 style=\"color:black\">Problem:</h3>\n",
    "<p>Given an array of integers where 1 <= a[i] <= n (n is the size of the array), some elements appear twice and others appear once.<br>Find all the elements of [1, n] inclusive that do not appear it this array.</p>\n",
    "<p>_Could you do it without extra space and in ${{O}(n)}$ runtime?\n",
    "You may assume the returned list does not count as extra space._</p>"
   ]
  },
  {
   "cell_type": "markdown",
   "metadata": {},
   "source": [
    "<h4 style=\"color:black\">Example:</h4>\n",
    "<p>Input:<br>\n",
    "[4, 3, 2, 7, 8, 2, 3, 1]</p>\n",
    "<p></p>\n",
    "<p>Output<br>\n",
    "[5, 6]</p>\n",
    "\n"
   ]
  },
  {
   "cell_type": "code",
   "execution_count": 20,
   "metadata": {},
   "outputs": [
    {
     "name": "stdout",
     "output_type": "stream",
     "text": [
      ">>> find_all_missing_numbers([4, 3, 2, 7, 8, 2, 3, 1])\n",
      "[5, 6]\n",
      "\n",
      "Test passes!\n"
     ]
    }
   ],
   "source": [
    "import random\n",
    "\n",
    "\n",
    "def find_all_missing_numbers(array):\n",
    "    for x in array:\n",
    "        array[abs(x) - 1] = min(array[abs(x) - 1], -array[abs(x) - 1])\n",
    "    return [i + 1 for i, x in enumerate(array) if x > 0]\n",
    "\n",
    "\n",
    "print('>>> find_all_missing_numbers([4, 3, 2, 7, 8, 2, 3, 1])')\n",
    "print(find_all_missing_numbers([4, 3, 2, 7, 8, 2, 3, 1]))\n",
    "\n",
    "\n",
    "def test_find_all_missing_numbers():\n",
    "    size = 20\n",
    "    population = list(range(1, size + 1))\n",
    "\n",
    "    for _ in range(1000):\n",
    "        array = random.sample(population, size // 2)\n",
    "        array.extend(random.sample(population, size // 2))\n",
    "        missing = [i + 1 for i in range(len(array)) if i + 1 not in array]\n",
    "        test_result = find_all_missing_numbers(array)\n",
    "        if missing != test_result:\n",
    "            return False\n",
    "\n",
    "    return True\n",
    "\n",
    "\n",
    "print()\n",
    "if test_find_all_missing_numbers():\n",
    "    print('Test passes!')\n",
    "else:\n",
    "    print('Test fails :(')\n"
   ]
  },
  {
   "cell_type": "code",
   "execution_count": null,
   "metadata": {},
   "outputs": [],
   "source": []
  }
 ],
 "metadata": {
  "kernelspec": {
   "display_name": "Python 3",
   "language": "python",
   "name": "python3"
  },
  "language_info": {
   "codemirror_mode": {
    "name": "ipython",
    "version": 3
   },
   "file_extension": ".py",
   "mimetype": "text/x-python",
   "name": "python",
   "nbconvert_exporter": "python",
   "pygments_lexer": "ipython3",
   "version": "3.6.5"
  }
 },
 "nbformat": 4,
 "nbformat_minor": 2
}
