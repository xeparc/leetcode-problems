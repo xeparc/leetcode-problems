{
 "cells": [
  {
   "cell_type": "markdown",
   "metadata": {},
   "source": [
    "1103 Distribute Candies to People\n",
    "===\n",
    "***\n",
    "Problem\n",
    "---\n",
    "https://leetcode.com/problems/distribute-candies-to-people/\n",
    "\n",
    "We distribute some number of candies, to a row of n = num_people people in the following way:\n",
    "We then give 1 candy to the first person, 2 candies to the second person, and so on until we give n candies to the last person.\n",
    "\n",
    "Then, we go back to the start of the row, giving n + 1 candies to the first person, n + 2 candies to the second person, and so on until we give 2 * n candies to the last person.\n",
    "\n",
    "This process repeats (with us giving one more candy each time, and moving to the start of the row after we reach the end) until we run out of candies.  The last person will receive all of our remaining candies (not necessarily one more than the previous gift).\n",
    "\n",
    "Return an array (of length num_people and sum candies) that represents the final distribution of candies.\n",
    "\n",
    " \n",
    "\n",
    "**Example 1:**  \n",
    "Input: candies = 7, num_people = 4  \n",
    "Output: [1,2,3,1]  \n",
    "Explanation:  \n",
    "On the first turn, ans[0] += 1, and the array is [1,0,0,0].  \n",
    "On the second turn, ans[1] += 2, and the array is [1,2,0,0].  \n",
    "On the third turn, ans[2] += 3, and the array is [1,2,3,0].  \n",
    "On the fourth turn, ans[3] += 1 (because there is only one candy left), and the final array is [1,2,3,1].  \n",
    "\n",
    "\n",
    "**Example 2:**  \n",
    "Input: candies = 10, num_people = 3  \n",
    "Output: [5,2,3]  \n",
    "Explanation:   \n",
    "On the first turn, ans[0] += 1, and the array is [1,0,0].  \n",
    "On the second turn, ans[1] += 2, and the array is [1,2,0].  \n",
    "On the third turn, ans[2] += 3, and the array is [1,2,3].  \n",
    "On the fourth turn, ans[0] += 4, and the final array is [5,2,3].  \n",
    " \n",
    "\n",
    "**Constraints:**\n",
    "1 <= candies <= 10^9  \n",
    "1 <= num_people <= 1000  "
   ]
  },
  {
   "cell_type": "code",
   "execution_count": 1,
   "metadata": {},
   "outputs": [],
   "source": [
    "def distribute_candies(candies, num_people):\n",
    "    people = [0] * num_people\n",
    "    rows = (int(floor((2 * candies) ** 0.5)) // num_people)\n",
    "    if rows > 1:\n",
    "        for i, c in enumerate(range(1, num_people + 1)):\n",
    "            togive = (rows * (2 * c + num_people * (rows - 1))) // 2\n",
    "            people[i] += togive\n",
    "            candies -= togive\n",
    "        togive = 1 + num_people * rows\n",
    "    else:\n",
    "        togive = 1\n",
    "    i = 0\n",
    "    while candies > 0:\n",
    "        people[i] += min(togive, candies)\n",
    "        candies -= togive\n",
    "        togive += 1\n",
    "        i = i + 1 if i + 1 < num_people else 0\n",
    "    return people"
   ]
  },
  {
   "cell_type": "code",
   "execution_count": null,
   "metadata": {},
   "outputs": [],
   "source": []
  }
 ],
 "metadata": {
  "kernelspec": {
   "display_name": "Python 3",
   "language": "python",
   "name": "python3"
  },
  "language_info": {
   "codemirror_mode": {
    "name": "ipython",
    "version": 3
   },
   "file_extension": ".py",
   "mimetype": "text/x-python",
   "name": "python",
   "nbconvert_exporter": "python",
   "pygments_lexer": "ipython3",
   "version": "3.7.6"
  }
 },
 "nbformat": 4,
 "nbformat_minor": 4
}
