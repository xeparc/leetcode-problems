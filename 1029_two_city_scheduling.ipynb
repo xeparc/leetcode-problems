{
 "cells": [
  {
   "cell_type": "markdown",
   "metadata": {},
   "source": [
    "Two City Scheduling\n",
    "===\n",
    "***\n",
    "Problem\n",
    "---\n",
    "https://leetcode.com/problems/two-city-scheduling/\n",
    "\n",
    "There are 2N people a company is planning to interview. The cost of flying the i-th person to city A is costs[i][0], and the cost of flying the i-th person to city B is costs[i][1].\n",
    "\n",
    "Return the minimum cost to fly every person to a city such that exactly N people arrive in each city.\n",
    "\n",
    " \n",
    "\n",
    "**Example 1:**  \n",
    "\n",
    "Input: [[10,20],[30,200],[400,50],[30,20]]  \n",
    "Output: 110  \n",
    "Explanation:  \n",
    "The first person goes to city A for a cost of 10.  \n",
    "The second person goes to city A for a cost of 30.  \n",
    "The third person goes to city B for a cost of 50.  \n",
    "The fourth person goes to city B for a cost of 20.  \n",
    "  \n",
    "The total minimum cost is 10 + 30 + 50 + 20 = 110 to have half the people interviewing in each city.  \n",
    " \n",
    "\n",
    "**Note:**  \n",
    "\n",
    "1 <= costs.length <= 100  \n",
    "It is guaranteed that costs.length is even.  \n",
    "1 <= costs[i][0], costs[i][1] <= 1000  "
   ]
  },
  {
   "cell_type": "code",
   "execution_count": null,
   "metadata": {},
   "outputs": [],
   "source": [
    "def two_city_cost(costs):\n",
    "    # Fly each person to cheapest city\n",
    "    A, B = [], []\n",
    "    for prices in costs:\n",
    "        if prices[0] < prices[1]:\n",
    "            A.append(prices)\n",
    "        else:\n",
    "            B.append(prices)\n",
    "    # Sort A by savings from flying each person to B\n",
    "    # and move persons to B list\n",
    "    if len(A) > len(B):\n",
    "        A.sort(key=lambda p: p[1] - p[0], reverse=True)\n",
    "        while len(A) != len(B):\n",
    "            B.append(A.pop())\n",
    "    # ... same thing, except for A\n",
    "    elif len(A) < len(B):\n",
    "        B.sort(key=lambda p: p[0] - p[1], reverse=True)\n",
    "        while len(A) != len(B):\n",
    "            A.append(B.pop())\n",
    "    return sum(p[0] for p in A) + sum(p[1] for p in B)"
   ]
  },
  {
   "cell_type": "code",
   "execution_count": null,
   "metadata": {},
   "outputs": [],
   "source": [
    "def two_city_cost(costs)\n",
    "    # Assume that all persons fly to city A\n",
    "    total = sum(p[0] for p in costs)\n",
    "    # Sort `costs` by amount of saving from flying each person to B\n",
    "    # instead\n",
    "    costs.sort(key=lambda p: p[1] - p[0])\n",
    "    return total - sum(p[0] - p[1] for p in costs[:len(costs) // 2])\n",
    "        "
   ]
  }
 ],
 "metadata": {
  "kernelspec": {
   "display_name": "Python 3",
   "language": "python",
   "name": "python3"
  },
  "language_info": {
   "codemirror_mode": {
    "name": "ipython",
    "version": 3
   },
   "file_extension": ".py",
   "mimetype": "text/x-python",
   "name": "python",
   "nbconvert_exporter": "python",
   "pygments_lexer": "ipython3",
   "version": "3.7.6"
  }
 },
 "nbformat": 4,
 "nbformat_minor": 4
}
