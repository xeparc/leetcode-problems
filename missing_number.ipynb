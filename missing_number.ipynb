{
 "cells": [
  {
   "cell_type": "markdown",
   "metadata": {},
   "source": [
    "<h2><center>Missing Number</center></h2>\n",
    "<h3>Problem:</h3>\n",
    "<p>\n",
    "    Given an array containing n distinct numbers taken from 0, 1, 2,..., n,<br>\n",
    "    find the one that is missing from the array. For example,<br>\n",
    "    Given nums = [0, 1, 3] return 2.\n",
    "</p>"
   ]
  },
  {
   "cell_type": "code",
   "execution_count": 14,
   "metadata": {},
   "outputs": [
    {
     "data": {
      "text/plain": [
       "True"
      ]
     },
     "execution_count": 14,
     "metadata": {},
     "output_type": "execute_result"
    }
   ],
   "source": [
    "import functools\n",
    "import operator\n",
    "import random\n",
    "\n",
    "\n",
    "def missing_number(nums):\n",
    "#     N = len(nums) + 1\n",
    "#     total_sum = sum(range(N))\n",
    "#     nums_sum = sum(nums)\n",
    "#     return total_sum - nums_sum\n",
    "    total_sum, nums_sum = (0, 0)\n",
    "    for i, n in enumerate(nums):\n",
    "        total_sum += i\n",
    "        nums_sum += n\n",
    "    return total_sum + len(nums) - nums_sum\n",
    "\n",
    "\n",
    "def missing_number_xor(nums):\n",
    "#     N = len(nums) + 1\n",
    "#     total_xor = functools.reduce(operator.xor, range(N))\n",
    "#     nums_xor = functools.reduce(operator.xor, nums)\n",
    "#     return total_xor ^ nums_xor\n",
    "    result = 0\n",
    "    for i, n in enumerate(nums, 1):\n",
    "        result ^= i ^ n\n",
    "    return result\n",
    "\n",
    "\n",
    "def test_missing_number():\n",
    "    for _ in range(1000):\n",
    "        length = random.randint(2, 20)\n",
    "        nums = list(range(length + 1))\n",
    "        i = random.randint(0, length)\n",
    "        missing = nums[i]\n",
    "        nums[i], nums[-1] = nums[-1], nums[i]\n",
    "        nums.pop()\n",
    "        random.shuffle(nums)\n",
    "        if missing != missing_number(nums):\n",
    "            return False\n",
    "        if missing != missing_number_xor(nums):\n",
    "            return False\n",
    "    return True\n",
    "\n",
    "\n",
    "test_missing_number()"
   ]
  },
  {
   "cell_type": "code",
   "execution_count": null,
   "metadata": {},
   "outputs": [],
   "source": []
  }
 ],
 "metadata": {
  "kernelspec": {
   "display_name": "Python 3",
   "language": "python",
   "name": "python3"
  },
  "language_info": {
   "codemirror_mode": {
    "name": "ipython",
    "version": 3
   },
   "file_extension": ".py",
   "mimetype": "text/x-python",
   "name": "python",
   "nbconvert_exporter": "python",
   "pygments_lexer": "ipython3",
   "version": "3.6.5"
  }
 },
 "nbformat": 4,
 "nbformat_minor": 2
}
