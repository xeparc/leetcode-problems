{
 "cells": [
  {
   "cell_type": "markdown",
   "metadata": {},
   "source": [
    "Patching Array\n",
    "===\n",
    "***\n",
    "Problem\n",
    "---\n",
    "\n",
    "https://leetcode.com/problems/patching-array/\n",
    "\n",
    "Given a sorted positive integer array nums and an integer n, add/patch elements to the array such that any number in range [1, n] inclusive can be formed by the sum of some elements in the array. Return the minimum number of patches required.\n",
    "\n",
    "**Example 1:**  \n",
    "\n",
    "Input: nums = [1,3], n = 6  \n",
    "Output: 1   \n",
    "Explanation:  \n",
    "Combinations of nums are [1], [3], [1,3], which form possible sums of: 1, 3, 4.  \n",
    "Now if we add/patch 2 to nums, the combinations are: [1], [2], [3], [1,3], [2,3], [1,2,3].  \n",
    "Possible sums are 1, 2, 3, 4, 5, 6, which now covers the range [1, 6].  \n",
    "So we only need 1 patch.  \n",
    "\n",
    "\n",
    "**Example 2:**  \n",
    "\n",
    "Input: nums = [1,5,10], n = 20  \n",
    "Output: 2  \n",
    "Explanation: The two patches can be [2, 4].  \n",
    "\n",
    "\n",
    "**Example 3:**  \n",
    "\n",
    "Input: nums = [1,2,2], n = 5  \n",
    "Output: 0  "
   ]
  },
  {
   "cell_type": "code",
   "execution_count": 83,
   "metadata": {},
   "outputs": [],
   "source": [
    "import itertools\n",
    "import random"
   ]
  },
  {
   "cell_type": "markdown",
   "metadata": {},
   "source": [
    "**Brute force solution - \\$O(2^n)\\$**"
   ]
  },
  {
   "cell_type": "code",
   "execution_count": 87,
   "metadata": {},
   "outputs": [],
   "source": [
    "def subsets(arr):\n",
    "    if not arr:\n",
    "        return [tuple()]\n",
    "    first = arr.pop()\n",
    "    rest = subsets(arr)\n",
    "    incl = [(first,) + r for r in rest]\n",
    "    return rest + incl\n",
    "\n",
    "def is_ok(arr, n):\n",
    "    sums = set(range(1, n + 1))\n",
    "    for s in subsets(arr):\n",
    "        sums.discard(sum(s))\n",
    "    return not sums\n",
    "\n",
    "\n",
    "def min_patches_bf(arr, n):\n",
    "    arr = set(arr)\n",
    "    missing = set(range(1, n + 1)) - arr\n",
    "    best = missing\n",
    "    for s in subsets(list(missing)):\n",
    "        if is_ok(list(s) + list(arr), n) and len(s) < len(best):\n",
    "            best = set(s)\n",
    "    return list(best)"
   ]
  },
  {
   "cell_type": "code",
   "execution_count": 134,
   "metadata": {},
   "outputs": [],
   "source": [
    "def min_patches(arr, n):\n",
    "    N = n + 1\n",
    "    \n",
    "    initial = set()\n",
    "    max_here = 0\n",
    "    for x in sorted(arr):\n",
    "        update = set()\n",
    "        for i in initial:\n",
    "            if i + x < N:\n",
    "                update.add(i + x)\n",
    "                max_here = max(max_here, i + x)\n",
    "        if 0 < x < N:\n",
    "            update.add(x)\n",
    "            max_here = max(max_here, x)\n",
    "        initial.update(update)\n",
    "\n",
    "    min_missing = N\n",
    "    for i in range(1, N):\n",
    "        if i not in initial:\n",
    "            min_missing = i\n",
    "            break\n",
    "    \n",
    "    patches = 0\n",
    "    while min_missing < max_here and min_missing < N:\n",
    "        patches += 1\n",
    "        update = set()\n",
    "        for i in initial:\n",
    "            if i + min_missing < N:\n",
    "                update.add(i + min_missing)\n",
    "                max_here = max(max_here, i + min_missing)\n",
    "        update.add(min_missing)\n",
    "        initial.update(update)\n",
    "        min_missing = N\n",
    "        for i in range(1, N):\n",
    "            if i not in initial:\n",
    "                min_missing = i\n",
    "                break\n",
    "    \n",
    "    while min_missing < N:\n",
    "        patches += 1\n",
    "        max_here = 2 * min_missing - 1\n",
    "        min_missing = 2 * min_missing\n",
    "\n",
    "    return patches"
   ]
  },
  {
   "cell_type": "code",
   "execution_count": 132,
   "metadata": {},
   "outputs": [],
   "source": [
    "def min_patches(arr, n):\n",
    "    N = n + 1\n",
    "    mask = [0] * N\n",
    "    for x in sorted(arr):\n",
    "        update = mask[:]\n",
    "        for i in range(1, N):\n",
    "            if mask[i] and i + x < N:\n",
    "                update[i + x] = 1\n",
    "        if 0 < x < N:\n",
    "            update[x] = 1\n",
    "        mask[:] = update\n",
    "\n",
    "    patches = []\n",
    "    while sum(mask) < n:\n",
    "        # Find the minimum missing num\n",
    "        for i in range(1, N):\n",
    "            if not mask[i]:\n",
    "                break\n",
    "        patches.append(i)\n",
    "        update = mask[:]\n",
    "        for j in range(1, N):\n",
    "            if mask[j] and i + j < N:\n",
    "                update[j + i] = 1\n",
    "        update[i] = 1\n",
    "        mask[:] = update\n",
    "    return patches"
   ]
  },
  {
   "cell_type": "markdown",
   "metadata": {},
   "source": [
    "**Greedy solution - \\$O(n)\\$**"
   ]
  },
  {
   "cell_type": "code",
   "execution_count": 222,
   "metadata": {},
   "outputs": [],
   "source": [
    "def smallest_missing(nums):\n",
    "    \"\"\"Returns the smallest positive number that cannot be\n",
    "    represented as a sum of any subset in `nums`\"\"\"\n",
    "    nums.sort()\n",
    "    res = 1\n",
    "    for i in nums:\n",
    "        if i <= res:\n",
    "            res += i\n",
    "        else:\n",
    "            return res\n",
    "    return res\n",
    "\n",
    "\n",
    "def is_ok(nums, n):\n",
    "    return smallest_missing(nums) > n\n",
    "\n",
    "\n",
    "def min_patches(nums, n):\n",
    "    nums.sort()\n",
    "    smallest_missing = 1\n",
    "    patches = []\n",
    "    i, N = 0, len(nums)\n",
    "    while i < N:\n",
    "        x = nums[i]\n",
    "        if smallest_missing > n:\n",
    "            break\n",
    "        if x <= smallest_missing:\n",
    "            smallest_missing += x\n",
    "            i += 1\n",
    "        else:\n",
    "            patches.append(smallest_missing)\n",
    "            smallest_missing *= 2\n",
    "\n",
    "    while smallest_missing <= n:\n",
    "        patches.append(smallest_missing)\n",
    "        smallest_missing *=  2\n",
    "\n",
    "    return patches\n",
    "\n",
    "\n",
    "def min_patches_fast(nums, n):\n",
    "    nums.sort()\n",
    "    smallest_missing = 1\n",
    "    patches = []\n",
    "    i, N = 0, len(nums)\n",
    "    while smallest_missing <= n:\n",
    "        if i < N and nums[i] <= smallest_missing:\n",
    "            smallest_missing += nums[i]\n",
    "            i += 1\n",
    "        else:\n",
    "            patches.append(smallest_missing)\n",
    "            smallest_missing *= 2\n",
    "\n",
    "    return patches"
   ]
  },
  {
   "cell_type": "markdown",
   "metadata": {},
   "source": [
    "**Tests**"
   ]
  },
  {
   "cell_type": "code",
   "execution_count": 220,
   "metadata": {},
   "outputs": [],
   "source": [
    "assert(min_patches([1, 3], 6) == [2])\n",
    "assert(min_patches([], 5) == [1, 2, 4])\n",
    "assert(min_patches([], 1) == [1])\n",
    "assert(min_patches([1], 2) == [2])\n",
    "assert(min_patches([1, 1, 1], 5) == [4])\n",
    "assert(min_patches([2, 2], 8) == [1, 6])\n",
    "assert(min_patches([1, 5, 10], 20) == [2, 4])\n",
    "assert(min_patches([1, 2, 2, 10], 35) == [6, 22])\n",
    "assert(min_patches([0, 3], 7) == [1, 2, 7])\n",
    "\n",
    "\n",
    "arr = list(range(10))\n",
    "for i in range(1, 4):\n",
    "    for test in itertools.combinations(arr, i):\n",
    "        for n in range(1, 100):\n",
    "            res = min_patches_fast(test, n)\n",
    "            assert(is_ok(list(test) + res, n))\n"
   ]
  },
  {
   "cell_type": "code",
   "execution_count": 218,
   "metadata": {},
   "outputs": [
    {
     "name": "stdout",
     "output_type": "stream",
     "text": [
      "18.8 µs ± 29.1 ns per loop (mean ± std. dev. of 7 runs, 100000 loops each)\n"
     ]
    }
   ],
   "source": [
    "%timeit min_patches([random.randint(1, 100) for i in range(10)], 10000)"
   ]
  },
  {
   "cell_type": "code",
   "execution_count": 224,
   "metadata": {},
   "outputs": [
    {
     "name": "stdout",
     "output_type": "stream",
     "text": [
      "19 µs ± 117 ns per loop (mean ± std. dev. of 7 runs, 100000 loops each)\n"
     ]
    }
   ],
   "source": [
    "%timeit min_patches_fast([random.randint(1, 100) for i in range(10)], 10000)"
   ]
  },
  {
   "cell_type": "code",
   "execution_count": null,
   "metadata": {},
   "outputs": [],
   "source": []
  }
 ],
 "metadata": {
  "kernelspec": {
   "display_name": "Python 3",
   "language": "python",
   "name": "python3"
  },
  "language_info": {
   "codemirror_mode": {
    "name": "ipython",
    "version": 3
   },
   "file_extension": ".py",
   "mimetype": "text/x-python",
   "name": "python",
   "nbconvert_exporter": "python",
   "pygments_lexer": "ipython3",
   "version": "3.7.6"
  }
 },
 "nbformat": 4,
 "nbformat_minor": 4
}
