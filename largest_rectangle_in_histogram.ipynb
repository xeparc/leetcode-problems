{
 "cells": [
  {
   "cell_type": "markdown",
   "metadata": {},
   "source": [
    "Largest Rectangle in Histogram\n",
    "===\n",
    "\n",
    "***\n",
    "Problem\n",
    "---\n",
    "\n",
    "Given n non-negative integers representing the histogram's bar height where the width of each bar is 1, find the area of\n",
    "the largest rectangle in the histogram.\n",
    "\n",
    "For example, given heights = [2, 1, 5, 6, 2, 3],\n",
    "return 10"
   ]
  },
  {
   "cell_type": "code",
   "execution_count": null,
   "metadata": {},
   "outputs": [],
   "source": [
    "import random\n",
    "import numpy as np\n",
    "import matplotlib.pyplot as plt\n",
    "import matplotlib as mpl\n",
    "from time import perf_counter\n",
    "\n",
    "mpl.style.use('seaborn-whitegrid')"
   ]
  },
  {
   "cell_type": "markdown",
   "metadata": {},
   "source": [
    "***\n",
    "**Brute force solution - \\$O(n^3)\\$**"
   ]
  },
  {
   "cell_type": "code",
   "execution_count": 6,
   "metadata": {},
   "outputs": [],
   "source": [
    "def largest_rectangle(histogram):\n",
    "    N = len(histogram)\n",
    "    area = 0\n",
    "    for i in range(N):\n",
    "        for j in range(i + 1, N + 1):\n",
    "            h = min(histogram[i:j])\n",
    "            area = max(area, h * (j - i))\n",
    "    return area"
   ]
  },
  {
   "cell_type": "code",
   "execution_count": 9,
   "metadata": {},
   "outputs": [],
   "source": [
    "assert(largest_rectangle([2, 1, 5, 6, 2, 3]) == 10)\n",
    "assert(largest_rectangle([2, 2]) == 4)\n",
    "assert(largest_rectangle([2]) == 2)\n",
    "assert(largest_rectangle([2, 2, 3, 4]) == 8)\n",
    "assert(largest_rectangle([4, 2, 3]) == 6)"
   ]
  },
  {
   "cell_type": "markdown",
   "metadata": {},
   "source": [
    "***\n",
    "**Divide and Conquer solution - \\$O(n lgn)\\$**"
   ]
  },
  {
   "cell_type": "code",
   "execution_count": 47,
   "metadata": {},
   "outputs": [],
   "source": [
    "def largest_rectangle_dq(histogram):\n",
    "    N = len(histogram)\n",
    "    if N == 0:\n",
    "        return 0\n",
    "    elif N == 1:\n",
    "        return histogram[0]\n",
    "    else:\n",
    "        m = N // 2\n",
    "        # Find the largest rectangle contained entirely in left half\n",
    "        left = largest_rectangle_dq(histogram[:m])\n",
    "        # Find the largest rectangle contained entirely in right half\n",
    "        right = largest_rectangle_dq(histogram[m:])\n",
    "        # Find the largest rectangle overlapping the middle split\n",
    "        overlap = 0\n",
    "        i, j = m, m\n",
    "        h = histogram[m]\n",
    "        \n",
    "        # `i` and `j` are inclusive indices \n",
    "        while i >= 0 and j < N:\n",
    "            h = min(h, histogram[j], histogram[i])\n",
    "            overlap = max(overlap, h * (j - i + 1))\n",
    "            if i > 0 and j < N - 1:\n",
    "                if histogram[i - 1] < histogram[j + 1]:\n",
    "                    j += 1\n",
    "                else:\n",
    "                    i -= 1\n",
    "            elif i > 0:\n",
    "                i -= 1\n",
    "            elif j < N:\n",
    "                j += 1\n",
    "            else:\n",
    "                print('what')\n",
    "                break\n",
    "        return max(overlap, right, left)\n"
   ]
  },
  {
   "cell_type": "code",
   "execution_count": 112,
   "metadata": {},
   "outputs": [],
   "source": [
    "assert(largest_rectangle_dq([2, 1, 5, 6, 2, 3]) == 10)\n",
    "assert(largest_rectangle_dq([ 7, 17,  2, 14,  7,  5, 15, 13,  1, 17]) == 26)\n",
    "\n",
    "arr = np.random.randint(1, 20, (100, 10))\n",
    "for hist in arr:\n",
    "    assert(largest_rectangle(hist) == largest_rectangle_dq(hist))"
   ]
  },
  {
   "cell_type": "markdown",
   "metadata": {},
   "source": [
    "***\n",
    "**Linear Time Solution - \\$O(n)\\$**"
   ]
  },
  {
   "cell_type": "code",
   "execution_count": 157,
   "metadata": {},
   "outputs": [],
   "source": [
    "def largest_rectangle_lin(histogram):\n",
    "    leftpoints, heights = [0], [0]\n",
    "    area = 0\n",
    "\n",
    "    for x, y in enumerate(histogram):\n",
    "        if y > heights[-1]:\n",
    "            leftpoints.append(x)\n",
    "            heights.append(y)\n",
    "        else:\n",
    "            while heights and y < heights[-1]:\n",
    "                h = heights.pop()\n",
    "                left = leftpoints.pop()\n",
    "                area = max(area, h * (x - left))\n",
    "            if heights[-1] < y:\n",
    "                heights.append(y)\n",
    "                leftpoints.append(left)\n",
    "\n",
    "    N = len(histogram)\n",
    "    while heights:\n",
    "        h = heights.pop()\n",
    "        left = leftpoints.pop()\n",
    "        area = max(area, h * (N - left))\n",
    "\n",
    "    return area"
   ]
  },
  {
   "cell_type": "code",
   "execution_count": 158,
   "metadata": {},
   "outputs": [],
   "source": [
    "assert(largest_rectangle_lin([2, 1, 5, 6, 2, 3]) == 10)\n",
    "assert(largest_rectangle_lin([ 7, 17,  2, 14,  7,  5, 15, 13,  1, 17]) == 26)\n",
    "\n",
    "arr = np.random.randint(1, 20, (100, 10))\n",
    "for hist in arr:\n",
    "    assert(largest_rectangle(hist) == largest_rectangle_lin(hist))"
   ]
  },
  {
   "cell_type": "markdown",
   "metadata": {},
   "source": [
    "***\n",
    "Benchmarks\n",
    "---"
   ]
  },
  {
   "cell_type": "code",
   "execution_count": 60,
   "metadata": {},
   "outputs": [
    {
     "name": "stdout",
     "output_type": "stream",
     "text": [
      "24.4 ms ± 345 µs per loop (mean ± std. dev. of 7 runs, 10 loops each)\n"
     ]
    }
   ],
   "source": [
    "%timeit largest_rectangle(np.random.randint(0, 100, 100))"
   ]
  },
  {
   "cell_type": "code",
   "execution_count": 61,
   "metadata": {},
   "outputs": [
    {
     "name": "stdout",
     "output_type": "stream",
     "text": [
      "1.04 ms ± 11.4 µs per loop (mean ± std. dev. of 7 runs, 1000 loops each)\n"
     ]
    }
   ],
   "source": [
    "%timeit largest_rectangle_dq(np.random.randint(0, 100, 100))"
   ]
  },
  {
   "cell_type": "code",
   "execution_count": 87,
   "metadata": {},
   "outputs": [],
   "source": [
    "def benchmark(func, *args):\n",
    "    start = perf_counter()\n",
    "    ans = func(*args)\n",
    "    end = perf_counter()\n",
    "    return end - start\n",
    "\n",
    "sizes = np.arange(100, 1000, 100)\n",
    "bf = [benchmark(largest_rectangle, np.random.randint(1, 20, s)) for s in sizes]\n",
    "dq = [benchmark(largest_rectangle_dq, np.random.randint(1, 20, s)) for s in sizes]"
   ]
  },
  {
   "cell_type": "code",
   "execution_count": 91,
   "metadata": {},
   "outputs": [
    {
     "data": {
      "image/png": "[encoded data removed]",
      "text/plain": [
       "<Figure size 720x576 with 1 Axes>"
      ]
     },
     "metadata": {},
     "output_type": "display_data"
    }
   ],
   "source": [
    "plt.plot(sizes, bf, marker='s', label='brute force')\n",
    "plt.plot(sizes, dq, marker='^', label='divide and conquer')\n",
    "plt.legend()\n",
    "plt.setp(plt.gca(), ylabel='seconds', xlabel='N')\n",
    "plt.gcf().set_size_inches(10, 8)"
   ]
  },
  {
   "cell_type": "code",
   "execution_count": 147,
   "metadata": {},
   "outputs": [],
   "source": [
    "sizes = 2 ** np.arange(6, 16)\n",
    "dq = [benchmark(largest_rectangle_dq, np.random.randint(1, 20, s)) for s in sizes]\n",
    "fast = [benchmark(largest_rectangle_lin, np.random.randint(1, 20, s)) for s in sizes]"
   ]
  },
  {
   "cell_type": "code",
   "execution_count": 159,
   "metadata": {},
   "outputs": [
    {
     "data": {
      "image/png": "[encoded data removed]",
      "text/plain": [
       "<Figure size 720x576 with 1 Axes>"
      ]
     },
     "metadata": {},
     "output_type": "display_data"
    }
   ],
   "source": [
    "plt.plot(sizes, fast, marker='s', label='linear')\n",
    "plt.plot(sizes, dq, marker='^', label='divide and conquer')\n",
    "plt.legend()\n",
    "plt.xscale('log')\n",
    "plt.setp(plt.gca(), ylabel='seconds', xlabel='N')\n",
    "plt.gcf().set_size_inches(10, 8)"
   ]
  },
  {
   "cell_type": "code",
   "execution_count": null,
   "metadata": {},
   "outputs": [],
   "source": []
  }
 ],
 "metadata": {
  "kernelspec": {
   "display_name": "Python 3",
   "language": "python",
   "name": "python3"
  },
  "language_info": {
   "codemirror_mode": {
    "name": "ipython",
    "version": 3
   },
   "file_extension": ".py",
   "mimetype": "text/x-python",
   "name": "python",
   "nbconvert_exporter": "python",
   "pygments_lexer": "ipython3",
   "version": "3.6.5"
  }
 },
 "nbformat": 4,
 "nbformat_minor": 4
}
