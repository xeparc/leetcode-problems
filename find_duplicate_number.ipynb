{
 "cells": [
  {
   "cell_type": "markdown",
   "metadata": {},
   "source": [
    "<h2><center>Find the Duplicate Number</center><h2>\n",
    "<h3>Problem:</h3>\n",
    "<p>Given an array containing n + 1 integers where each integer is between 1 and n(inclusive),<br>\n",
    "prove that at least one duplicate number must exist. Assume that there is only one duplicate<br>\n",
    "number, find the duplicate one.</p>\n",
    "<p>Note:\n",
    "<ul>\n",
    "    <i>\n",
    "        <li>You must not modify the list.</li>\n",
    "        <li>You must use constant space</li>\n",
    "        <li>Your runtime complexity should be less than $ O(n) $</li>\n",
    "        <li>There is only one duplicate number, but it may be repeated more than once</li>\n",
    "    </i>\n",
    "</ul>\n",
    "</p>"
   ]
  },
  {
   "cell_type": "code",
   "execution_count": 16,
   "metadata": {
    "scrolled": true
   },
   "outputs": [
    {
     "data": {
      "text/plain": [
       "True"
      ]
     },
     "execution_count": 16,
     "metadata": {},
     "output_type": "execute_result"
    }
   ],
   "source": [
    "import collections\n",
    "import functools\n",
    "import operator\n",
    "import random\n",
    "\n",
    "def find_duplicate_number(arr):\n",
    "    #\n",
    "    # Since [1, n] is subset of @arr\n",
    "    # and only 1 duplicate exists it follows that:\n",
    "    #\n",
    "    #     XOR(@arr) == XOR([1, n]) ^ K\n",
    "    #\n",
    "    # (where K is the duplicated element)\n",
    "    #\n",
    "    # Thus, K == XOR(@arr) ^ XOR([1, n])\n",
    "    #\n",
    "    N = len(arr)\n",
    "    all_xor = functools.reduce(operator.xor, range(1, N))\n",
    "    arr_xor = functools.reduce(operator.xor, arr)\n",
    "    return all_xor ^ arr_xor\n",
    "\n",
    "\n",
    "def test_find_duplicate_number():\n",
    "    lengths = range(10, 100)\n",
    "    for n in lengths:\n",
    "        arr = list(range(1, n + 1))\n",
    "        arr[-1] = arr[random.randint(0, n - 2)]\n",
    "        random.shuffle(arr)\n",
    "        if arr.count(find_duplicate_number(arr)) != 2:\n",
    "            return False\n",
    "    return True\n",
    "\n",
    "\n",
    "test_find_duplicate_number()"
   ]
  }
 ],
 "metadata": {
  "kernelspec": {
   "display_name": "Python 3",
   "language": "python",
   "name": "python3"
  },
  "language_info": {
   "codemirror_mode": {
    "name": "ipython",
    "version": 3
   },
   "file_extension": ".py",
   "mimetype": "text/x-python",
   "name": "python",
   "nbconvert_exporter": "python",
   "pygments_lexer": "ipython3",
   "version": "3.6.5"
  }
 },
 "nbformat": 4,
 "nbformat_minor": 2
}
