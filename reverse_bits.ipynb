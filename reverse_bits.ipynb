{
 "cells": [
  {
   "cell_type": "markdown",
   "metadata": {},
   "source": [
    "# Reverse Bits\n",
    "\n",
    "Reverse bits of a given 32bits unsigned integer. \n",
    "For example, given input represented in binary as 0010011 return 1100100"
   ]
  },
  {
   "cell_type": "code",
   "execution_count": 28,
   "metadata": {},
   "outputs": [
    {
     "data": {
      "text/plain": [
       "True"
      ]
     },
     "execution_count": 28,
     "metadata": {},
     "output_type": "execute_result"
    }
   ],
   "source": [
    "import random\n",
    "\n",
    "def reverse_bits(n):\n",
    "    assert(n < 1 << 32)\n",
    "    result = 0\n",
    "    for i in range(32):\n",
    "        result |= (((1 << i) & n) >> i) << (31 - i) \n",
    "    return result\n",
    "\n",
    "\n",
    "def _reverse_bits(n):\n",
    "    base = bin(n)[2:]\n",
    "    return int(('0' * (32 - len(base)) + base)[::-1], base=2)\n",
    "\n",
    "\n",
    "def test_reverse_bits():\n",
    "    for _ in range(10000):\n",
    "        n = random.randint(0, 1 << 20)\n",
    "        if reverse_bits(n) != _reverse_bits(n):\n",
    "            return False\n",
    "    return True\n",
    "\n",
    "\n",
    "test_reverse_bits()"
   ]
  },
  {
   "cell_type": "code",
   "execution_count": null,
   "metadata": {},
   "outputs": [],
   "source": []
  }
 ],
 "metadata": {
  "kernelspec": {
   "display_name": "Python 3",
   "language": "python",
   "name": "python3"
  },
  "language_info": {
   "codemirror_mode": {
    "name": "ipython",
    "version": 3
   },
   "file_extension": ".py",
   "mimetype": "text/x-python",
   "name": "python",
   "nbconvert_exporter": "python",
   "pygments_lexer": "ipython3",
   "version": "3.7.4"
  }
 },
 "nbformat": 4,
 "nbformat_minor": 2
}
