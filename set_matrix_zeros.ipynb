{
 "cells": [
  {
   "cell_type": "markdown",
   "metadata": {},
   "source": [
    "<h2><center>Set Matrix Zeros</center></h2>\n",
    "<h3>Problem:</h3>\n",
    "<p>\n",
    "    Given an m x n matrix, if an element is 0, set it's entire row and column to 0. Do it in-place.\n",
    "</p>\n",
    "<p>\n",
    "    <strong>Follow up:</strong><br>\n",
    "    <i>Could you device a constant space solution?</i>\n",
    "</p>\n"
   ]
  },
  {
   "cell_type": "code",
   "execution_count": 29,
   "metadata": {
    "scrolled": true
   },
   "outputs": [
    {
     "data": {
      "text/plain": [
       "True"
      ]
     },
     "execution_count": 29,
     "metadata": {},
     "output_type": "execute_result"
    }
   ],
   "source": [
    "import itertools\n",
    "import numpy as np\n",
    "import random\n",
    "\n",
    "\n",
    "def set_matrix_zeros(matrix) -> None:\n",
    "    \"\"\"O(m + n) space solution using NumPy.\"\"\"\n",
    "    zero = np.array([0])\n",
    "    first_row_zero = ~np.all(matrix[0])\n",
    "    first_col_zero = ~np.all(matrix[:, 0])\n",
    "    row_indicators = ~np.logical_and.reduce(matrix, axis=1)\n",
    "    col_indicators = ~np.logical_and.reduce(matrix, axis=0)\n",
    "    row_indicators[0] = False\n",
    "    col_indicators[0] = False\n",
    "    matrix[row_indicators] = zero\n",
    "    matrix.T[col_indicators] = zero\n",
    "    if first_row_zero:\n",
    "        matrix[0] = zero\n",
    "    if first_col_zero:\n",
    "        matrix[:, 0] = zero\n",
    "    return\n",
    "\n",
    "\n",
    "def set_matrix_zeros_const(matrix) -> None:\n",
    "    \"\"\"O(1) space solution.\"\"\"\n",
    "    zero = np.array([0])\n",
    "    first_row_zero = False\n",
    "    first_col_zero = False\n",
    "    m, n = matrix.shape\n",
    "    \n",
    "    for i in range(m):\n",
    "        for j in range(n):\n",
    "            if matrix[i, j] == 0:\n",
    "                if i == 0:\n",
    "                    first_row_zero = True\n",
    "                if j == 0:\n",
    "                    first_col_zero = True\n",
    "                matrix[0, j] = 0\n",
    "                matrix[i, 0] = 0\n",
    "    \n",
    "    for i in range(1, m):\n",
    "        if matrix[i, 0] == 0:\n",
    "            matrix[i] = zero\n",
    "    for j in range(1, n):\n",
    "        if matrix[0, j] == 0:\n",
    "            matrix[:, j] = zero\n",
    "    if first_row_zero:\n",
    "        matrix[0] = zero\n",
    "    if first_col_zero:\n",
    "        matrix[:, 0]= zero\n",
    "    return\n",
    "\n",
    "\n",
    "def _set_matrix_zeros(matrix) -> None:\n",
    "    \"\"\"Implementation for testing.\"\"\"\n",
    "    m, n = matrix.shape\n",
    "    zero_rows = []\n",
    "    zero_cols = []\n",
    "    for i in range(m):\n",
    "        for j in range(n):\n",
    "            if matrix[i][j] == 0:\n",
    "                zero_rows.append(i)\n",
    "                zero_cols.append(j)\n",
    "    for r in zero_rows:\n",
    "        matrix[r] = np.array([0])\n",
    "    for c in zero_cols:\n",
    "        matrix[:, c] = np.array([0])\n",
    "    return\n",
    "\n",
    "\n",
    "def test_set_matrix_zeros():\n",
    "    shapes = itertools.product(range(1, 10), range(1, 10))\n",
    "    for s in shapes:\n",
    "        for _ in range(100):\n",
    "            matrix = np.random.randint(0, 10, size=s)\n",
    "            matrix1 = matrix\n",
    "            matrix2 = matrix.copy()\n",
    "            matrix3 = matrix.copy()\n",
    "            set_matrix_zeros(matrix1)\n",
    "            _set_matrix_zeros(matrix2)\n",
    "            set_matrix_zeros_const(matrix3)\n",
    "            if not np.all(matrix1 == matrix2):\n",
    "                return False\n",
    "            if not np.all(matrix2 == matrix3):\n",
    "                return False\n",
    "    return True\n",
    "\n",
    "\n",
    "test_set_matrix_zeros()"
   ]
  },
  {
   "cell_type": "code",
   "execution_count": 28,
   "metadata": {},
   "outputs": [],
   "source": [
    "a = np.random.randint(0, 10, size=(100, 100))"
   ]
  },
  {
   "cell_type": "code",
   "execution_count": 25,
   "metadata": {},
   "outputs": [
    {
     "name": "stdout",
     "output_type": "stream",
     "text": [
      "46.6 µs ± 509 ns per loop (mean ± std. dev. of 7 runs, 10000 loops each)\n"
     ]
    }
   ],
   "source": [
    "%timeit set_matrix_zeros(a)"
   ]
  },
  {
   "cell_type": "code",
   "execution_count": 26,
   "metadata": {},
   "outputs": [
    {
     "name": "stdout",
     "output_type": "stream",
     "text": [
      "5.73 ms ± 98 µs per loop (mean ± std. dev. of 7 runs, 100 loops each)\n"
     ]
    }
   ],
   "source": [
    "%timeit set_matrix_zeros_const(a)"
   ]
  },
  {
   "cell_type": "code",
   "execution_count": 27,
   "metadata": {},
   "outputs": [
    {
     "name": "stdout",
     "output_type": "stream",
     "text": [
      "28.5 ms ± 446 µs per loop (mean ± std. dev. of 7 runs, 10 loops each)\n"
     ]
    }
   ],
   "source": [
    "%timeit _set_matrix_zeros(a)"
   ]
  }
 ],
 "metadata": {
  "kernelspec": {
   "display_name": "Python 3",
   "language": "python",
   "name": "python3"
  },
  "language_info": {
   "codemirror_mode": {
    "name": "ipython",
    "version": 3
   },
   "file_extension": ".py",
   "mimetype": "text/x-python",
   "name": "python",
   "nbconvert_exporter": "python",
   "pygments_lexer": "ipython3",
   "version": "3.7.4"
  }
 },
 "nbformat": 4,
 "nbformat_minor": 2
}
