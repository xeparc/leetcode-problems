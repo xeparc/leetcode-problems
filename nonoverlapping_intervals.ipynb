{
 "cells": [
  {
   "cell_type": "markdown",
   "metadata": {},
   "source": [
    "Non-overlapping Intervals\n",
    "===\n",
    "***\n",
    "Problem:\n",
    "---\n",
    "\n",
    "https://leetcode.com/problems/non-overlapping-intervals/\n",
    "\n",
    "Given a collection of intervals, find the minimum number of intervals you need to remove to make the rest of the intervals non-overlapping.\n",
    "\n",
    "\n",
    "**Example 1:**\n",
    "\n",
    "Input: [[1,2],[2,3],[3,4],[1,3]]  \n",
    "Output: 1  \n",
    "Explanation: [1,3] can be removed and the rest of intervals are non-overlapping.  \n",
    "\n",
    "\n",
    "**Example 2:**\n",
    "\n",
    "Input: [[1,2],[1,2],[1,2]]  \n",
    "Output: 2  \n",
    "Explanation: You need to remove two [1,2] to make the rest of intervals non-overlapping.  \n",
    "\n",
    "\n",
    "**Example 3:**\n",
    "\n",
    "Input: [[1,2],[2,3]]  \n",
    "Output: 0  \n",
    "Explanation: You don't need to remove any of the intervals since they're already non-overlapping.  \n",
    "  \n",
    "  \n",
    "  \n",
    "Note:\n",
    "\n",
    "You may assume the interval's end point is always bigger than its start point.\n",
    "Intervals like [1,2] and [2,3] have borders \"touching\" but they don't overlap each other."
   ]
  },
  {
   "cell_type": "code",
   "execution_count": 122,
   "metadata": {},
   "outputs": [],
   "source": [
    "import itertools\n",
    "import random\n",
    "\n",
    "def overlap(A, B):\n",
    "    A, B = sorted(A, B)\n",
    "    return A[1] > B[0]"
   ]
  },
  {
   "cell_type": "markdown",
   "metadata": {},
   "source": [
    "**Brute forse solution - \\$O(2^n)\\$**"
   ]
  },
  {
   "cell_type": "code",
   "execution_count": null,
   "metadata": {},
   "outputs": [],
   "source": [
    "def subsets(collection):\n",
    "    res = []\n",
    "    for i in range(1, len(collection) + 1):\n",
    "        yield from itertools.combinations(collection, i)\n",
    "\n",
    "def nonoverlapping_bf(intervals):\n",
    "    max_nonoverlap = 0\n",
    "    for s in subsets(intervals):\n",
    "        s = sorted(s)\n",
    "        for i, j in zip(s, s[1:]):\n",
    "            if overlap(i, j):\n",
    "                break\n",
    "        else:\n",
    "            max_nonoverlap = max(max_nonoverlap, len(s))\n",
    "    return len(intervals) - max_nonoverlap"
   ]
  },
  {
   "cell_type": "markdown",
   "metadata": {},
   "source": [
    "**Recursive solution - \\$O(2^n)\\$ worst case**"
   ]
  },
  {
   "cell_type": "code",
   "execution_count": 128,
   "metadata": {},
   "outputs": [],
   "source": [
    "def nonoverlapping_r(intervals):\n",
    "    \"\"\"Recursive implementation\"\"\"\n",
    "    if not intervals:\n",
    "        return 0\n",
    "    # Find the first 2 intervals that overlap\n",
    "    intervals = sorted(intervals)\n",
    "    N = len(intervals)\n",
    "    for i, j in zip(range(N), range(1, N)):\n",
    "        if overlap(intervals[i], intervals[j]):\n",
    "            break\n",
    "    else:\n",
    "        return 0\n",
    "    \n",
    "    res1 = nonoverlapping(intervals[j:])\n",
    "    res2 = nonoverlapping(intervals[i:j] + intervals[j + 1:])\n",
    "    return 1 + min(res1, res2)"
   ]
  },
  {
   "cell_type": "markdown",
   "metadata": {},
   "source": [
    "**Greedy solution - \\$O(n)\\$**"
   ]
  },
  {
   "cell_type": "code",
   "execution_count": 125,
   "metadata": {},
   "outputs": [],
   "source": [
    "def nonoverlapping(intervals):\n",
    "    \"\"\"Greedy implementation\"\"\"\n",
    "    if not intervals:\n",
    "        return 0\n",
    "    # Sort intervals by righpoints, breaking ties with leftpoints\n",
    "    intervals = sorted(intervals, key=lambda i: i[::-1])\n",
    "    result = 0\n",
    "    last = intervals.pop()\n",
    "    for i in reversed(intervals):\n",
    "        if overlap(i, last):\n",
    "            # Remove the interval with smaller leftpoint\n",
    "            last = max(i, last, key=lambda i: i[0])\n",
    "            result += 1\n",
    "        else:\n",
    "            last = i\n",
    "    return result"
   ]
  },
  {
   "cell_type": "markdown",
   "metadata": {},
   "source": [
    "**Test**"
   ]
  },
  {
   "cell_type": "code",
   "execution_count": 131,
   "metadata": {},
   "outputs": [],
   "source": [
    "# Recursive implementation\n",
    "for i in range(10000):\n",
    "    intervals = [sorted([random.randint(-10, 10), random.randint(-10, 10)]) for _ in range(7)]\n",
    "    assert(nonoverlapping_bf(intervals) == nonoverlapping_r(intervals))\n",
    "    \n",
    "# Greedy implementation\n",
    "for i in range(10000):\n",
    "    intervals = [sorted([random.randint(-10, 10), random.randint(-10, 10)]) for _ in range(7)]\n",
    "    assert(nonoverlapping_bf(intervals) == nonoverlapping(intervals))"
   ]
  },
  {
   "cell_type": "code",
   "execution_count": null,
   "metadata": {},
   "outputs": [],
   "source": []
  }
 ],
 "metadata": {
  "kernelspec": {
   "display_name": "Python 3",
   "language": "python",
   "name": "python3"
  },
  "language_info": {
   "codemirror_mode": {
    "name": "ipython",
    "version": 3
   },
   "file_extension": ".py",
   "mimetype": "text/x-python",
   "name": "python",
   "nbconvert_exporter": "python",
   "pygments_lexer": "ipython3",
   "version": "3.7.6"
  }
 },
 "nbformat": 4,
 "nbformat_minor": 4
}
