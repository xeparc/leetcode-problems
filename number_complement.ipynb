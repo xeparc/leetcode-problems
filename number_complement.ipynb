{
 "cells": [
  {
   "cell_type": "markdown",
   "metadata": {},
   "source": [
    "Number Complement\n",
    "=================\n",
    "\n",
    "Given a positive integer, output it's complement number.<br>\n",
    "\n",
    "*Example:*<br>\n",
    "The binary reprsentation of 5 is 101 so it's compement is 010, which is 2."
   ]
  },
  {
   "cell_type": "code",
   "execution_count": 7,
   "metadata": {},
   "outputs": [
    {
     "data": {
      "text/plain": [
       "2"
      ]
     },
     "execution_count": 7,
     "metadata": {},
     "output_type": "execute_result"
    }
   ],
   "source": [
    "def number_complement(n):\n",
    "    extended_complement = ~n\n",
    "    m = n\n",
    "    while m & (m - 1):\n",
    "        m &= m - 1\n",
    "    return extended_complement & (m - 1)\n",
    "\n",
    "number_complement(5)"
   ]
  }
 ],
 "metadata": {
  "kernelspec": {
   "display_name": "Python 3",
   "language": "python",
   "name": "python3"
  },
  "language_info": {
   "codemirror_mode": {
    "name": "ipython",
    "version": 3
   },
   "file_extension": ".py",
   "mimetype": "text/x-python",
   "name": "python",
   "nbconvert_exporter": "python",
   "pygments_lexer": "ipython3",
   "version": "3.7.4"
  }
 },
 "nbformat": 4,
 "nbformat_minor": 2
}
