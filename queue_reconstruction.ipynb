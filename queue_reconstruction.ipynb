{
 "cells": [
  {
   "cell_type": "markdown",
   "metadata": {},
   "source": [
    "Queue Reconstruction by Height\n",
    "===\n",
    "***\n",
    "Problem\n",
    "---\n",
    "https://leetcode.com/problems/queue-reconstruction-by-height/\n",
    "\n",
    "\n",
    "Suppose you have a random list of people standing in a queue. Each person is described by a pair of integers (h, k), where h is the height of the person and k is the number of people in front of this person who have a height greater than or equal to h. Write an algorithm to reconstruct the queue.\n",
    "\n",
    "Note:\n",
    "The number of people is less than 1,100.  \n",
    "\n",
    " \n",
    "**Example**  \n",
    "\n",
    "Input:\n",
    "[[7,0], [4,4], [7,1], [5,0], [6,1], [5,2]]\n",
    "\n",
    "Output:\n",
    "[[5,0], [7,0], [5,2], [6,1], [4,4], [7,1]]"
   ]
  },
  {
   "cell_type": "code",
   "execution_count": 1,
   "metadata": {},
   "outputs": [],
   "source": [
    "import random"
   ]
  },
  {
   "cell_type": "markdown",
   "metadata": {},
   "source": [
    "**\\$O(n^2)\\$ time solution**"
   ]
  },
  {
   "cell_type": "code",
   "execution_count": 40,
   "metadata": {},
   "outputs": [],
   "source": [
    "def reconstruct(people):\n",
    "    if not people:\n",
    "        return people\n",
    "    people.sort()\n",
    "    N = len(people)\n",
    "    \n",
    "    offsets = [0] * N\n",
    "    last_h, last_k = None, None\n",
    "    count_eq = 0\n",
    "    for i in range(N):\n",
    "        h, k = people[i]\n",
    "        if h == last_h:\n",
    "            count_eq += 1\n",
    "            offsets[i] = k - count_eq\n",
    "        else:\n",
    "            count_eq = 0\n",
    "            offsets[i] = k\n",
    "        last_h, last_k = h, k\n",
    "    \n",
    "    indices = move_right(list(range(N)), offsets)\n",
    "    return [people[i] for i in indices]\n",
    "\n",
    "\n",
    "def move_right(indices, offsets):\n",
    "    for i in range(len(offsets) - 1, -1, -1):\n",
    "        o = offsets[i]\n",
    "        if o:\n",
    "            j = indices[i]\n",
    "            indices[i: i + o] = indices[i + 1: i + 1 + o]\n",
    "            indices[i + o] = j\n",
    "    return indices"
   ]
  },
  {
   "cell_type": "markdown",
   "metadata": {},
   "source": [
    "**Tests**"
   ]
  },
  {
   "cell_type": "code",
   "execution_count": 41,
   "metadata": {},
   "outputs": [],
   "source": [
    "assert(move_right([2, 3, 4, 5, 6], [1, 3, 1, 0, 0]) == [5, 2, 4, 6, 3])\n",
    "assert(reconstruct([[7,0], [4,4], [7,1], [5,0], [6,1], [5,2]]) ==\n",
    "      [[5, 0], [7, 0], [5, 2], [6, 1], [4, 4], [7, 1]])\n",
    "\n",
    "def build_people(arr):\n",
    "    res = [(arr[0], 0)]\n",
    "    for i in range(1, len(arr)):\n",
    "        k = 0\n",
    "        for j in range(i):\n",
    "            if arr[i] <= arr[j]:\n",
    "                k += 1\n",
    "        res.append((arr[i], k))\n",
    "    return res\n",
    "\n",
    "\n",
    "def test(N):\n",
    "    for _ in range(N):\n",
    "        heights = [random.randint(1, 12) for _ in range(12)]\n",
    "        people = build_people(heights)\n",
    "        shuffled = people[:]\n",
    "        random.shuffle(shuffled)\n",
    "        assert(reconstruct(shuffled) == people)\n",
    "        \n",
    "test(10_000)"
   ]
  },
  {
   "cell_type": "code",
   "execution_count": null,
   "metadata": {},
   "outputs": [],
   "source": []
  }
 ],
 "metadata": {
  "kernelspec": {
   "display_name": "Python 3",
   "language": "python",
   "name": "python3"
  },
  "language_info": {
   "codemirror_mode": {
    "name": "ipython",
    "version": 3
   },
   "file_extension": ".py",
   "mimetype": "text/x-python",
   "name": "python",
   "nbconvert_exporter": "python",
   "pygments_lexer": "ipython3",
   "version": "3.7.6"
  }
 },
 "nbformat": 4,
 "nbformat_minor": 4
}
