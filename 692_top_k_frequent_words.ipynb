{
 "cells": [
  {
   "cell_type": "markdown",
   "metadata": {},
   "source": [
    "692 Top K Frequent Words\n",
    "===\n",
    "***\n",
    "Problem\n",
    "---\n",
    "https://leetcode.com/problems/top-k-frequent-words/\n",
    "\n",
    "\n",
    "Given a non-empty list of words, return the k most frequent elements.\n",
    "Your answer should be sorted by frequency from highest to lowest. If two words have the same frequency, then the word with the lower alphabetical order comes first.\n",
    "\n",
    "**Example 1:**\n",
    "Input: [\"i\", \"love\", \"leetcode\", \"i\", \"love\", \"coding\"], k = 2  \n",
    "Output: [\"i\", \"love\"]  \n",
    "Explanation: \"i\" and \"love\" are the two most frequent words.  \n",
    "    Note that \"i\" comes before \"love\" due to a lower alphabetical order.  \n",
    "\n",
    "\n",
    "**Example 2:**\n",
    "Input: [\"the\", \"day\", \"is\", \"sunny\", \"the\", \"the\", \"the\", \"sunny\", \"is\", \"is\"], k = 4  \n",
    "Output: [\"the\", \"is\", \"sunny\", \"day\"]  \n",
    "Explanation: \"the\", \"is\", \"sunny\" and \"day\" are the four most frequent words,  \n",
    "    with the number of occurrence being 4, 3, 2 and 1 respectively.  \n",
    "\n",
    "\n",
    "**Note:**\n",
    "You may assume k is always valid, 1 ≤ k ≤ number of unique elements.  \n",
    "Input words contain only lowercase letters.  \n",
    "\n",
    "\n",
    "**Follow up:** \n",
    "Try to solve it in O(n log k) time and O(n) extra space.  "
   ]
  },
  {
   "cell_type": "code",
   "execution_count": 1,
   "metadata": {},
   "outputs": [],
   "source": [
    "from collections import Counter\n",
    "import heapq\n",
    "import itertools\n",
    "\n",
    "def topKFrequent(words, k):\n",
    "    counts = Counter(words)\n",
    "    inverse_map = [(-freq, w) for w, freq in counts.items()]\n",
    "    heapq.heapify(inverse_map)\n",
    "    return [heapq.heappop(inverse_map)[1] for _ in range(k)]"
   ]
  },
  {
   "cell_type": "code",
   "execution_count": null,
   "metadata": {},
   "outputs": [],
   "source": []
  }
 ],
 "metadata": {
  "kernelspec": {
   "display_name": "Python 3",
   "language": "python",
   "name": "python3"
  },
  "language_info": {
   "codemirror_mode": {
    "name": "ipython",
    "version": 3
   },
   "file_extension": ".py",
   "mimetype": "text/x-python",
   "name": "python",
   "nbconvert_exporter": "python",
   "pygments_lexer": "ipython3",
   "version": "3.7.6"
  }
 },
 "nbformat": 4,
 "nbformat_minor": 4
}
