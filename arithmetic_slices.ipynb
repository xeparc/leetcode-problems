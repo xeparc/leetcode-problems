{
 "cells": [
  {
   "cell_type": "markdown",
   "metadata": {},
   "source": [
    "Arithmetic Slices\n",
    "===\n",
    "***\n",
    "Problem\n",
    "---\n",
    "https://leetcode.com/problems/arithmetic-slices/\n",
    "\n",
    "\n",
    "A sequence of numbers is called arithmetic if it consists of at least three elements and if the difference between any two consecutive elements is the same.\n",
    "\n",
    "\n",
    "For example, these are arithmetic sequences:  \n",
    "\n",
    "1, 3, 5, 7, 9  \n",
    "7, 7, 7, 7  \n",
    "3, -1, -5, -9  \n",
    "\n",
    "\n",
    "The following sequence is not arithmetic.  \n",
    "\n",
    "1, 1, 2, 5, 7\n",
    "\n",
    "A zero-indexed array A consisting of N numbers is given. A slice of that array is any pair of integers (P, Q) such that 0 <= P < Q < N.\n",
    "\n",
    "A slice (P, Q) of the array A is called arithmetic if the sequence:  \n",
    "A[P], A[P + 1], ..., A[Q - 1], A[Q] is arithmetic. In particular, this means that P + 1 < Q.  \n",
    "The function should return the number of arithmetic slices in the array A.  \n",
    "\n",
    "\n",
    "**Example:**  \n",
    "\n",
    "A = [1, 2, 3, 4]  \n",
    "\n",
    "return: 3, for 3 arithmetic slices in A: [1, 2, 3], [2, 3, 4] and [1, 2, 3, 4] itself."
   ]
  },
  {
   "cell_type": "code",
   "execution_count": 5,
   "metadata": {},
   "outputs": [],
   "source": [
    "import itertools\n",
    "import math\n",
    "import operator\n",
    "import random"
   ]
  },
  {
   "cell_type": "markdown",
   "metadata": {},
   "source": [
    "Number of slices that start at 0: \\$ \\lceil{\\frac{n}{2}}\\rceil - 1\\$"
   ]
  },
  {
   "cell_type": "code",
   "execution_count": 13,
   "metadata": {},
   "outputs": [],
   "source": [
    "def arithmetic_slices(N):\n",
    "    if N < 3:\n",
    "        return 0\n",
    "    a = math.ceil(N/2) - 1\n",
    "    return a + 2 * arithmetic_slices(N - 1)"
   ]
  },
  {
   "cell_type": "markdown",
   "metadata": {},
   "source": [
    "**Brute force solution - \\$O(n^3)\\$**"
   ]
  },
  {
   "cell_type": "code",
   "execution_count": 38,
   "metadata": {},
   "outputs": [],
   "source": [
    "def is_arithmetic(arr):\n",
    "    if len(arr) < 3:\n",
    "        return False\n",
    "    diff = arr[1] - arr[0]\n",
    "    for x, y in zip(arr[2:], arr[1:]):\n",
    "        if diff != (x - y):\n",
    "            return False\n",
    "    return True\n",
    "\n",
    "\n",
    "def arithmetic_slices_bf(A):\n",
    "    res = 0\n",
    "    N = len(A)\n",
    "    for i in range(N):\n",
    "        for j in range(i + 3, N + 1):\n",
    "            res += int(is_arithmetic(A[i:j]))\n",
    "    return res"
   ]
  },
  {
   "cell_type": "markdown",
   "metadata": {},
   "source": [
    "Formula for arithmetic slices with minimum length = 3 for sequence of length = n: **\\$\\frac{(n - 1)(n - 2)}{2}\\$**"
   ]
  },
  {
   "cell_type": "markdown",
   "metadata": {},
   "source": [
    "**Linear time solution - \\$O(n)\\$**"
   ]
  },
  {
   "cell_type": "code",
   "execution_count": 42,
   "metadata": {},
   "outputs": [],
   "source": [
    "def num_arithmetic(N):\n",
    "    return (N - 1) * (N - 2) // 2\n",
    "\n",
    "\n",
    "def adjacent_difference(arr):\n",
    "    return list(map(operator.sub, itertools.islice(arr, 1, None), arr))\n",
    "\n",
    "\n",
    "def arithmetic_slices(A):\n",
    "    diff = adjacent_difference(A)\n",
    "    i = 0\n",
    "    result = 0\n",
    "    while i < len(diff):\n",
    "        last = diff[i]\n",
    "        i += 1\n",
    "        k = 1\n",
    "        while i < len(diff) and diff[i] == last:\n",
    "            k += 1\n",
    "            i += 1\n",
    "        result += num_arithmetic(k + 1) if k > 1 else 0\n",
    "    return result\n"
   ]
  },
  {
   "cell_type": "markdown",
   "metadata": {},
   "source": [
    "**\\$O(1)\\$ memory solution**"
   ]
  },
  {
   "cell_type": "code",
   "execution_count": 40,
   "metadata": {},
   "outputs": [],
   "source": [
    "def differences(arr):\n",
    "    return map(operator.sub, itertools.islice(arr, 1, None), arr)\n",
    "\n",
    "\n",
    "def advances(predicate, it):\n",
    "    \"\"\"Returns the number of time `it` is advanced while\n",
    "    `predicate` remains True\"\"\"\n",
    "    adv = 0\n",
    "    while True:\n",
    "        try:\n",
    "            x = next(it)\n",
    "            if not predicate(x):\n",
    "                break\n",
    "            adv += 1\n",
    "        except StopIteration:\n",
    "            break\n",
    "    return adv\n",
    "\n",
    "\n",
    "def arithmetic_slices_fast(A):\n",
    "    it = differences(A)\n",
    "    last_diff = next(it)\n",
    "    result = 0\n",
    "    for d in it:\n",
    "        count = 1\n",
    "        while d == last_diff:\n",
    "            count += 1\n",
    "            try:\n",
    "                d = next(it)\n",
    "            except StopIteration:\n",
    "                break\n",
    "        last_diff = d\n",
    "        result += num_arithmetic(count + 1) if count > 1 else 0\n",
    "    return result"
   ]
  },
  {
   "cell_type": "markdown",
   "metadata": {},
   "source": [
    "**Tests**"
   ]
  },
  {
   "cell_type": "code",
   "execution_count": 41,
   "metadata": {},
   "outputs": [],
   "source": [
    "for _ in range(10000):\n",
    "    A = [random.randint(0, 10) for _ in range(20)]\n",
    "    assert(arithmetic_slices_fast(A) == arithmetic_slices_bf(A))"
   ]
  },
  {
   "cell_type": "code",
   "execution_count": 47,
   "metadata": {},
   "outputs": [
    {
     "name": "stdout",
     "output_type": "stream",
     "text": [
      "4.52 ms ± 26.7 µs per loop (mean ± std. dev. of 7 runs, 100 loops each)\n"
     ]
    }
   ],
   "source": [
    "arr = [random.randint(0, 10) for _ in range(10_000)]\n",
    "%timeit arithmetic_slices(arr)"
   ]
  },
  {
   "cell_type": "code",
   "execution_count": 48,
   "metadata": {},
   "outputs": [
    {
     "name": "stdout",
     "output_type": "stream",
     "text": [
      "1.82 ms ± 6.43 µs per loop (mean ± std. dev. of 7 runs, 1000 loops each)\n"
     ]
    }
   ],
   "source": [
    "%timeit arithmetic_slices_fast(arr)"
   ]
  },
  {
   "cell_type": "code",
   "execution_count": null,
   "metadata": {},
   "outputs": [],
   "source": []
  }
 ],
 "metadata": {
  "kernelspec": {
   "display_name": "Python 3",
   "language": "python",
   "name": "python3"
  },
  "language_info": {
   "codemirror_mode": {
    "name": "ipython",
    "version": 3
   },
   "file_extension": ".py",
   "mimetype": "text/x-python",
   "name": "python",
   "nbconvert_exporter": "python",
   "pygments_lexer": "ipython3",
   "version": "3.7.6"
  }
 },
 "nbformat": 4,
 "nbformat_minor": 4
}
