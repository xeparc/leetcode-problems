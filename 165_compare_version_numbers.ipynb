{
 "metadata": {
  "language_info": {
   "codemirror_mode": {
    "name": "ipython",
    "version": 3
   },
   "file_extension": ".py",
   "mimetype": "text/x-python",
   "name": "python",
   "nbconvert_exporter": "python",
   "pygments_lexer": "ipython3",
   "version": "3.7.6-final"
  },
  "orig_nbformat": 2,
  "kernelspec": {
   "name": "python3",
   "display_name": "Python 3"
  }
 },
 "nbformat": 4,
 "nbformat_minor": 2,
 "cells": [
  {
   "cell_type": "markdown",
   "metadata": {},
   "source": [
    "165 Compare Version Numbers\n",
    "===\n",
    "Problem\n",
    "---\n",
    "https://leetcode.com/problems/compare-version-numbers/\n",
    "\n",
    "\n",
    "Compare two version numbers version1 and version2.\n",
    "If version1 > version2 return 1; if version1 < version2 return -1;otherwise return 0.\n",
    "You may assume that the version strings are non-empty and contain only digits and the . character.\n",
    "The . character does not represent a decimal point and is used to separate number sequences.\n",
    "For instance, 2.5 is not \"two and a half\" or \"half way to version three\", it is the fifth second-level revision of the second first-level revision.\n",
    "You may assume the default revision number for each level of a version number to be 0. For example, version number 3.4 has a revision number of 3 and 4 for its first and second level revision number. Its third and fourth level revision number are both 0.\n",
    "\n",
    " \n",
    "```\n",
    "Example 1:\n",
    "Input: version1 = \"0.1\", version2 = \"1.1\"\n",
    "Output: -1\n",
    "\n",
    "Example 2:\n",
    "Input: version1 = \"1.0.1\", version2 = \"1\"\n",
    "Output: 1\n",
    "\n",
    "Example 3:\n",
    "Input: version1 = \"7.5.2.4\", version2 = \"7.5.3\"\n",
    "Output: -1\n",
    "\n",
    "Example 4:\n",
    "Input: version1 = \"1.01\", version2 = \"1.001\"\n",
    "Output: 0\n",
    "Explanation: Ignoring leading zeroes, both “01” and “001\" represent the same number “1”\n",
    "\n",
    "Example 5:\n",
    "Input: version1 = \"1.0\", version2 = \"1.0.0\"\n",
    "Output: 0\n",
    "Explanation: The first version number does not have a third level revision number,\n",
    "which means its third level revision number is default to \"0\"\n",
    " \n",
    "\n",
    "Note:\n",
    "\n",
    "Version strings are composed of numeric strings separated by dots . and\n",
    "this numeric strings may have leading zeroes.\n",
    "Version strings do not start or end with dots, and they will not be two consecutive dots.\n",
    "```"
   ]
  },
  {
   "cell_type": "code",
   "execution_count": 1,
   "metadata": {},
   "outputs": [],
   "source": [
    "class Solution:\n",
    "    def compareVersion(self, version1: str, version2: str) -> int:\n",
    "        a = version1.split('.')\n",
    "        b = version2.split('.')\n",
    "        i, j = 0, 0\n",
    "        M, N = len(a), len(b)\n",
    "        while i < M or j < N:\n",
    "            p = int(a[i]) if i < M else 0\n",
    "            q = int(b[j]) if j < N else 0\n",
    "            if p < q:\n",
    "                return -1\n",
    "            if p > q:\n",
    "                return 1\n",
    "            i += 1\n",
    "            j += 1\n",
    "        return 0"
   ]
  },
  {
   "cell_type": "code",
   "execution_count": null,
   "metadata": {},
   "outputs": [],
   "source": []
  }
 ]
}