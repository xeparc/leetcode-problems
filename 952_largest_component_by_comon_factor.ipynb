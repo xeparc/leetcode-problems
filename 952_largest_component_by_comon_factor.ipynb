{
 "metadata": {
  "language_info": {
   "codemirror_mode": {
    "name": "ipython",
    "version": 3
   },
   "file_extension": ".py",
   "mimetype": "text/x-python",
   "name": "python",
   "nbconvert_exporter": "python",
   "pygments_lexer": "ipython3",
   "version": "3.7.6-final"
  },
  "orig_nbformat": 2,
  "kernelspec": {
   "name": "python3",
   "display_name": "Python 3"
  }
 },
 "nbformat": 4,
 "nbformat_minor": 2,
 "cells": [
  {
   "cell_type": "code",
   "execution_count": 387,
   "metadata": {},
   "outputs": [],
   "source": [
    "from collections import abc, defaultdict, Counter\n",
    "import random\n",
    "import math\n",
    "from functools import lru_cache"
   ]
  },
  {
   "cell_type": "code",
   "execution_count": 186,
   "metadata": {},
   "outputs": [],
   "source": [
    "class DisjointSetsCollection:\n",
    "\n",
    "    def __init__(self, iterable):\n",
    "        it = iter(iterable)\n",
    "        self.elements = {i:[i, 0] for i in it}\n",
    "\n",
    "    def __getitem__(self, i):\n",
    "        return self.elements[i]\n"
   ]
  },
  {
   "cell_type": "code",
   "execution_count": 287,
   "metadata": {},
   "outputs": [],
   "source": [
    "def largest_component_size(A):\n",
    "    G = {i:[] for i in A}\n",
    "    N = len(A)\n",
    "    for i in range(0, N):\n",
    "        for j in range(i + 1, N):\n",
    "            if gcd(A[i], A[j]) > 1:\n",
    "                G[A[i]].append(A[j])\n",
    "                G[A[j]].append(A[i])\n",
    "    components = connected_components(G)\n",
    "    # print(components)\n",
    "    return max(map(len, components))\n",
    "\n",
    "\n",
    "def gcd(a, b):\n",
    "    if b == 0:\n",
    "        return a\n",
    "    return gcd(b, a % b)\n",
    "\n",
    "\n",
    "def connected_components(G):\n",
    "    visited = set()\n",
    "    components = []\n",
    "    for v in G:\n",
    "        if v not in visited:\n",
    "            c = dfs_visit(G, v)\n",
    "            components.append(c)\n",
    "            visited |= c\n",
    "    return components\n",
    "\n",
    "\n",
    "def dfs_visit(G, start):\n",
    "    def _dfs(G, start, visited):\n",
    "        for v in G[start]:\n",
    "            if v not in visited:\n",
    "                visited.add(v)\n",
    "                visited |= _dfs(G, v, visited)\n",
    "        return visited\n",
    "    return _dfs(G, start, set())\n"
   ]
  },
  {
   "cell_type": "code",
   "execution_count": 388,
   "metadata": {},
   "outputs": [],
   "source": [
    "# x : [parent, rank]\n",
    "def _union(s, x, y):\n",
    "    p1 = compress(s, x)\n",
    "    p2 = compress(s, y)\n",
    "    r1, r2 = s[p1], s[p2]\n",
    "    if r1[0] != r2[0]:\n",
    "        r1[1] += r2[1]\n",
    "        r2[1] = 0\n",
    "    r2[0] = r1[0]\n",
    "    return r1[0]\n",
    "\n",
    "\n",
    "def compress(s, x):\n",
    "    node = s[x]\n",
    "    if node[0] == x:\n",
    "        return x\n",
    "    val = node[1]\n",
    "    node[0] = compress(s, node[0])\n",
    "    s[node[0]][1] += val\n",
    "    node[1] = 0\n",
    "    return node[0]\n",
    "\n",
    "\n",
    "def union(s, nodes):\n",
    "    if len(nodes) < 2:\n",
    "        return compress(s, nodes[0])\n",
    "    x = nodes[0]\n",
    "    for i in range(1, len(nodes)):\n",
    "        x = _union(s, x, nodes[i])\n",
    "    return s[x][0]\n",
    "\n",
    "\n",
    "def primes_to(n):\n",
    "    primes = [2, 3, 5]\n",
    "    for i in range(7, n + 1, 2):\n",
    "        isprime = True\n",
    "        x = math.sqrt(i)\n",
    "        for p in primes:\n",
    "            if p > x:\n",
    "                break\n",
    "            isprime = bool(i % p)\n",
    "            if not isprime:\n",
    "                break\n",
    "        if isprime:\n",
    "            primes.append(i)\n",
    "    return primes\n",
    "\n",
    "PRIMES = primes_to(100_000)\n",
    "\n",
    "\n",
    "def largest_component(A):\n",
    "    primes = PRIMES[:bisect.bisect_left(PRIMES, max(A, default=0)) + 1]\n",
    "    factors = {i:[i, 0] for i in primes}\n",
    "    for a in set(A):\n",
    "        divisors = []\n",
    "        for p in primes:\n",
    "            if p > a:\n",
    "                break\n",
    "            if a % p == 0:\n",
    "                divisors.append(p)\n",
    "        if divisors:\n",
    "            factors[divisors[0]][1] += 1\n",
    "            root = union(factors, divisors)\n",
    "            # print('\\nDivisors to merge:')\n",
    "            # print(divisors)\n",
    "            # print({k:v for k, v in factors.items() if v[1] > 0 or v[0] != k})\n",
    "    res = max(factors.items(), key=lambda x: x[1][1])\n",
    "    return res[1][1]\n",
    "\n",
    "@lru_cache(100_000)\n",
    "def prime_factors(n):\n",
    "    result = []\n",
    "    if n % 2 == 0:\n",
    "        result.append(2)\n",
    "        while n > 1 and n % 2 == 0:\n",
    "            n = n // 2  \n",
    "    while n > 1:\n",
    "        for p in range(3, n + 1, 2):\n",
    "            if n % p == 0:\n",
    "                result.append(p)\n",
    "                while n > 1 and n % p == 0:\n",
    "                    n = n // p\n",
    "                break\n",
    "    return result\n",
    "\n",
    "\n",
    "def largest_component_fast(A):\n",
    "    factors = {}\n",
    "    for a in set(A):\n",
    "        divisors = prime_factors(a)\n",
    "        for d in divisors:\n",
    "            if d not in factors:\n",
    "                factors[d] = [d, 0]\n",
    "        if divisors:\n",
    "            factors[divisors[0]][1] += 1\n",
    "            root = union(factors, divisors)\n",
    "            # print('\\nDivisors to merge:')\n",
    "            # print(divisors)\n",
    "            # print({k:v for k, v in factors.items() if v[1] > 0 or v[0] != k})\n",
    "    res = max(factors.items(), key=lambda x: x[1][1])\n",
    "    return res[1][1]"
   ]
  },
  {
   "cell_type": "code",
   "execution_count": 368,
   "metadata": {},
   "outputs": [
    {
     "output_type": "execute_result",
     "data": {
      "text/plain": "[2, 3, 5, 7, 11]"
     },
     "metadata": {},
     "execution_count": 368
    }
   ],
   "source": [
    "prime_factors(2 * 3 * 5 * 7 * 11)"
   ]
  },
  {
   "cell_type": "code",
   "execution_count": 281,
   "metadata": {},
   "outputs": [],
   "source": [
    "s = {1:[1, 10], 2:[1, 4], 5:[2, 10], 7:[5, 11]}\n",
    "assert(compress(s, 7) == 1)\n",
    "\n",
    "\n",
    "s = {1: [1, 10], 2:[2, 3], 3:[3, 1], 4:[4, 2]}\n",
    "union(s, [1, 2])\n",
    "assert(s == {1: [1, 13], 2:[1, 0], 3:[3, 1], 4:[4, 2]})\n",
    "union(s, [3, 4])\n",
    "assert(s == {1: [1, 13], 2:[1, 0], 3:[3, 3], 4:[3, 0]})\n",
    "union(s, [2, 4])\n",
    "assert(s == {1:[1, 16], 2:[1, 0], 3:[1, 0], 4:[3, 0]})\n",
    "union(s, [4, 3])\n",
    "assert(s == {1:[1, 16], 2:[1, 0], 3:[1, 0], 4:[1, 0]})\n",
    "s[7] = [7, 1]\n",
    "s[8] = [8, 1]\n",
    "union(s, [3, 7])\n",
    "assert(s == {1: [1, 17], 2: [1, 0], 3: [1, 0], 4: [1, 0], 7: [1, 0], 8: [8, 1]})\n",
    "s[9] = [9, 11]\n",
    "union(s, [8, 9])\n",
    "assert(s == {1: [1, 17], 2: [1, 0], 3: [1, 0], 4: [1, 0], 7: [1, 0], 8: [8, 12], 9: [8, 0]})\n",
    "\n",
    "s = {1:[1, 10], 2:[1, 2], 3:[2, 1], 4:[3, 7]}\n",
    "assert(union(s, [4, 3]) == 1)\n",
    "assert(s == {1:[1, 20], 2:[1, 0], 3:[1, 0], 4:[1, 0]})\n",
    "\n",
    "s = {11:[11, 1], 29:[29, 1]}\n",
    "assert(union(s, [11, 29]) == 11)\n",
    "assert(s == {11: [11, 2], 29: [11, 0]})\n"
   ]
  },
  {
   "cell_type": "code",
   "execution_count": 119,
   "metadata": {
    "tags": []
   },
   "outputs": [
    {
     "output_type": "stream",
     "name": "stdout",
     "text": "[{35, 4, 6, 15}]\n[{50, 20}, {9, 63}]\n[{2, 3, 4, 6, 7, 39, 12, 21}]\n"
    },
    {
     "output_type": "execute_result",
     "data": {
      "text/plain": "8"
     },
     "metadata": {},
     "execution_count": 119
    }
   ],
   "source": [
    "largest_component_size([4, 6, 15, 35])\n",
    "largest_component_size([20, 50, 9, 63])\n",
    "largest_component_size([2,3,6,7,4,12,21,39])"
   ]
  },
  {
   "cell_type": "markdown",
   "metadata": {},
   "source": [
    "**Tests**"
   ]
  },
  {
   "cell_type": "code",
   "execution_count": 375,
   "metadata": {
    "tags": []
   },
   "outputs": [],
   "source": [
    "faulty = []\n",
    "for _ in range(100):\n",
    "    for s in range(100, 110):\n",
    "        arr = [random.randint(1, 100_000) for _ in range(s)]\n",
    "        if largest_component(arr) != largest_component_size(arr):\n",
    "            faulty.append(arr)\n",
    "\n",
    "assert(not faulty)\n",
    "assert(largest_component([74583, 83956, 56549, 6535, 25990, 64165, 93365, 60221, 72196, 88897, 38813, 62450, 55048, 12163, 33960, 10568, 39123, 75028, 19608, 76991, 95453, 25988, 19992, 70308, 45210, 14210, 43060, 2051, 41943, 89791, 32111, 40206, 67702, 25941, 56549, 76054]) == 28)"
   ]
  },
  {
   "cell_type": "code",
   "execution_count": 232,
   "metadata": {},
   "outputs": [],
   "source": [
    "arrays = [[random.randint(1, 500) for _ in range(1000)] for _ in range(100)]"
   ]
  },
  {
   "cell_type": "code",
   "execution_count": 229,
   "metadata": {
    "tags": []
   },
   "outputs": [
    {
     "output_type": "stream",
     "name": "stdout",
     "text": "965 ms ± 1.14 ms per loop (mean ± std. dev. of 7 runs, 1 loop each)\n"
    }
   ],
   "source": [
    "%timeit list(map(largest_component, arrays))"
   ]
  },
  {
   "cell_type": "code",
   "execution_count": 382,
   "metadata": {
    "tags": []
   },
   "outputs": [],
   "source": [
    "with open('testcase2.txt') as f:\n",
    "    lines = f.readlines()"
   ]
  },
  {
   "cell_type": "code",
   "execution_count": 384,
   "metadata": {},
   "outputs": [],
   "source": [
    "longlist2 = eval(''.join(lines))"
   ]
  },
  {
   "cell_type": "code",
   "execution_count": null,
   "metadata": {},
   "outputs": [],
   "source": [
    "%load_ext line_profiler"
   ]
  },
  {
   "cell_type": "code",
   "execution_count": 309,
   "metadata": {
    "tags": []
   },
   "outputs": [
    {
     "output_type": "stream",
     "text": "Timer unit: 1e-07 s\n\nTotal time: 123.426 s\nFile: <ipython-input-285-5c2c080e8f2c>\nFunction: largest_component at line 51\n\nLine #      Hits         Time  Per Hit   % Time  Line Contents\n==============================================================\n    51                                           def largest_component(A):\n    52         1       3707.0   3707.0      0.0      primes = PRIMES[:bisect.bisect_left(PRIMES, max(A, default=0)) + 1]\n    53         1      39370.0  39370.0      0.0      factors = {i:[i, 0] for i in primes}\n    54      9515     141079.0     14.8      0.0      for a in set(A):\n    55      9514     136983.0     14.4      0.0          divisors = []\n    56  48230667  382129320.0      7.9     31.0          for p in primes:\n    57  48230666  406862901.0      8.4     33.0              if p > a:\n    58      9513     146762.0     15.4      0.0                  break\n    59  48221153  441497217.0      9.2     35.8              if a % p == 0:\n    60     25472     392957.0     15.4      0.0                  divisors.append(p)\n    61      9514     112161.0     11.8      0.0          if divisors:\n    62      9514     333763.0     35.1      0.0              factors[divisors[0]][1] += 1\n    63      9514    2409947.0    253.3      0.2              root = union(factors, divisors)\n    64                                                       # print('\\nDivisors to merge:')\n    65                                                       # print(divisors)\n    66                                                       # print({k:v for k, v in factors.items() if v[1] > 0 or v[0] != k})\n    67         1      49271.0  49271.0      0.0      res = max(factors.items(), key=lambda x: x[1][1])\n    68         1         25.0     25.0      0.0      return res[1][1]"
    }
   ],
   "source": [
    "%lprun -f largest_component largest_component(longlist)"
   ]
  },
  {
   "cell_type": "code",
   "execution_count": 373,
   "metadata": {},
   "outputs": [
    {
     "output_type": "stream",
     "text": "Timer unit: 1e-07 s\n\nTotal time: 17.2314 s\nFile: <ipython-input-369-0257df48d6c5>\nFunction: largest_component_fast at line 87\n\nLine #      Hits         Time  Per Hit   % Time  Line Contents\n==============================================================\n    87                                           def largest_component_fast(A):\n    88         1    7671647.0 7671647.0      4.5      primes = primes_to(max(A, default=0))\n    89         1         23.0     23.0      0.0      factors = {}\n    90         1          9.0      9.0      0.0      divisors = []\n    91      9515      81141.0      8.5      0.0      for a in set(A):\n    92      9514  162329003.0  17062.1     94.2          divisors = prime_factors(a)\n    93     34986     313598.0      9.0      0.2          for d in divisors:\n    94     25472     201806.0      7.9      0.1              if d not in factors:\n    95      2583      37246.0     14.4      0.0                  factors[d] = [d, 0]\n    96      9514      71967.0      7.6      0.0          if divisors:\n    97      9514     129185.0     13.6      0.1              factors[divisors[0]][1] += 1\n    98      9514    1465135.0    154.0      0.9              root = union(factors, divisors)\n    99                                                       # print('\\nDivisors to merge:')\n   100                                                       # print(divisors)\n   101                                                       # print({k:v for k, v in factors.items() if v[1] > 0 or v[0] != k})\n   102         1      13134.0  13134.0      0.0      res = max(factors.items(), key=lambda x: x[1][1])\n   103         1         16.0     16.0      0.0      return res[1][1]"
    }
   ],
   "source": [
    "%lprun -f largest_component_fast largest_component_fast(longlist)\n"
   ]
  },
  {
   "cell_type": "code",
   "execution_count": 336,
   "metadata": {
    "tags": []
   },
   "outputs": [
    {
     "output_type": "stream",
     "name": "stdout",
     "text": "4.52 s ± 110 ms per loop (mean ± std. dev. of 7 runs, 1 loop each)\n"
    }
   ],
   "source": [
    "%timeit largest_component_fast(longlist)"
   ]
  },
  {
   "cell_type": "code",
   "execution_count": 337,
   "metadata": {
    "tags": []
   },
   "outputs": [
    {
     "output_type": "stream",
     "name": "stdout",
     "text": "4.4 s ± 524 ms per loop (mean ± std. dev. of 7 runs, 1 loop each)\n"
    }
   ],
   "source": [
    "%timeit largest_component(longlist)"
   ]
  },
  {
   "cell_type": "code",
   "execution_count": 351,
   "metadata": {
    "tags": []
   },
   "outputs": [
    {
     "output_type": "stream",
     "name": "stdout",
     "text": "9.82 ms ± 161 µs per loop (mean ± std. dev. of 7 runs, 100 loops each)\n"
    }
   ],
   "source": [
    "%timeit Solution().largestComponentSize(arrays[16])"
   ]
  },
  {
   "cell_type": "code",
   "execution_count": 372,
   "metadata": {
    "tags": []
   },
   "outputs": [
    {
     "output_type": "stream",
     "name": "stdout",
     "text": "4.18 s ± 24.6 ms per loop (mean ± std. dev. of 7 runs, 1 loop each)\n"
    }
   ],
   "source": [
    "%timeit largest_component(longlist)"
   ]
  },
  {
   "cell_type": "code",
   "execution_count": 377,
   "metadata": {
    "tags": []
   },
   "outputs": [
    {
     "output_type": "stream",
     "name": "stdout",
     "text": "2.75 s ± 4.66 ms per loop (mean ± std. dev. of 7 runs, 1 loop each)\n"
    }
   ],
   "source": [
    "%timeit largest_component_fast(longlist2)"
   ]
  },
  {
   "cell_type": "code",
   "execution_count": 389,
   "metadata": {
    "tags": []
   },
   "outputs": [
    {
     "output_type": "stream",
     "name": "stdout",
     "text": "82 ms ± 898 µs per loop (mean ± std. dev. of 7 runs, 1 loop each)\n"
    }
   ],
   "source": [
    "%timeit largest_component_fast(longlist2)"
   ]
  },
  {
   "cell_type": "code",
   "execution_count": 394,
   "metadata": {},
   "outputs": [],
   "source": [
    "from collections import deque\n",
    "class Solution:  # Sieve + BFS \n",
    "    \n",
    "    def largestComponentSize(self, A) -> int:\n",
    "        \n",
    "        def sieve():\n",
    "            i = 2\n",
    "            while i < len(spf):\n",
    "                spf[i] = 2\n",
    "                i += 2\n",
    "            i = 3\n",
    "            while i * i < len(spf):\n",
    "                if spf[i] == i:\n",
    "                    j = i\n",
    "                    while j < len(spf):\n",
    "                        if spf[j] == j:\n",
    "                            spf[j] = i\n",
    "                        j += i\n",
    "                i += 2\n",
    "        \n",
    "        spf, di, factors, visited_nums, visited_factors, ans = [i for i in range(max(A) + 1)], defaultdict(set), defaultdict(set), set(), set(), 1\n",
    "        \n",
    "        sieve()  # 1\n",
    "        \n",
    "        for num in A:\n",
    "            x = num\n",
    "            while x != 1:\n",
    "                di[spf[x]].add(num)\n",
    "                factors[num].add(spf[x])\n",
    "                x //= spf[x]\n",
    "        \n",
    "        for num in A:  # 2\n",
    "            if num in visited_nums:\n",
    "                continue\n",
    "                \n",
    "            visited_nums.add(num)\n",
    "            cur, queue = 1, deque([])\n",
    "            for factor in factors[num]:\n",
    "                queue.append(factor)\n",
    "                \n",
    "            while queue: \n",
    "                factor = queue.popleft()\n",
    "                visited_factors.add(factor)\n",
    "                for next_num in di[factor]:  # 3\n",
    "                    if next_num in visited_nums:\n",
    "                        continue\n",
    "                        \n",
    "                    visited_nums.add(next_num)\n",
    "                    cur += 1\n",
    "                    for next_factor in factors[next_num]:\n",
    "                        if next_factor in visited_factors:\n",
    "                            continue\n",
    "                        \n",
    "                        visited_factors.add(next_factor)\n",
    "                        queue.append(next_factor)\n",
    "                \n",
    "            ans = max(ans, cur)\n",
    "        \n",
    "        return ans"
   ]
  },
  {
   "cell_type": "code",
   "execution_count": 399,
   "metadata": {},
   "outputs": [
    {
     "output_type": "execute_result",
     "data": {
      "text/plain": "8798"
     },
     "metadata": {},
     "execution_count": 399
    }
   ],
   "source": [
    "Solution().largestComponentSize(longlist)"
   ]
  },
  {
   "cell_type": "code",
   "execution_count": 397,
   "metadata": {},
   "outputs": [
    {
     "output_type": "execute_result",
     "data": {
      "text/plain": "18176"
     },
     "metadata": {},
     "execution_count": 397
    }
   ],
   "source": [
    "len(longlist2)"
   ]
  },
  {
   "cell_type": "code",
   "execution_count": 400,
   "metadata": {},
   "outputs": [
    {
     "output_type": "execute_result",
     "data": {
      "text/plain": "300.0"
     },
     "metadata": {},
     "execution_count": 400
    }
   ],
   "source": [
    "90000 ** 0.5"
   ]
  },
  {
   "cell_type": "code",
   "execution_count": 401,
   "metadata": {},
   "outputs": [
    {
     "output_type": "execute_result",
     "data": {
      "text/plain": "16.457637380991763"
     },
     "metadata": {},
     "execution_count": 401
    }
   ],
   "source": [
    "math.log2(90000)"
   ]
  },
  {
   "cell_type": "code",
   "execution_count": 403,
   "metadata": {},
   "outputs": [],
   "source": [
    "class Solution:\n",
    "    def __init__(self):\n",
    "        spf = list(range(100_001))\n",
    "        for i in range(4, 100_001, 2):\n",
    "            spf[i] = 2\n",
    "        for i in range(3, 100_001, 2):\n",
    "            if spf[i] == i:\n",
    "                for j in range(i * i, 100_001, i):\n",
    "                    if spf[j] == j:\n",
    "                        spf[j] = i\n",
    "        self.spf = spf\n",
    "        \n",
    "    def getFactors(self, n):\n",
    "        res = []\n",
    "        spf = self.spf\n",
    "        while n > 1:\n",
    "            p = spf[n]\n",
    "            res.append(p)\n",
    "            n = n // p\n",
    "        return res\n",
    "    \n",
    "    \n",
    "    def largestComponentSize(self, A) -> int:\n",
    "        if not A:\n",
    "            return 0\n",
    "        factors = {}\n",
    "        divisors = []\n",
    "        for a in set(A):\n",
    "            divisors = self.getFactors(a)\n",
    "            for d in divisors:\n",
    "                if d not in factors:\n",
    "                    factors[d] = [d, 0]\n",
    "            if divisors:\n",
    "                factors[divisors[0]][1] += 1\n",
    "                root = union(factors, divisors)\n",
    "        if not factors:\n",
    "            return 1\n",
    "        res = max(factors.items(), key=lambda x: x[1][1])\n",
    "        return res[1][1]\n",
    "    \n",
    "    \n",
    "def _union(s, x, y):\n",
    "    p1 = compress(s, x)\n",
    "    p2 = compress(s, y)\n",
    "    r1, r2 = s[p1], s[p2]\n",
    "    if r1[0] != r2[0]:\n",
    "        r1[1] += r2[1]\n",
    "        r2[1] = 0\n",
    "    r2[0] = r1[0]\n",
    "    return r1[0]\n",
    "\n",
    "\n",
    "def compress(s, x):\n",
    "    node = s[x]\n",
    "    if node[0] == x:\n",
    "        return x\n",
    "    val = node[1]\n",
    "    node[0] = compress(s, node[0])\n",
    "    s[node[0]][1] += val\n",
    "    node[1] = 0\n",
    "    return node[0]\n",
    "\n",
    "\n",
    "def union(s, nodes):\n",
    "    if len(nodes) < 2:\n",
    "        return compress(s, nodes[0])\n",
    "    x = nodes[0]\n",
    "    for i in range(1, len(nodes)):\n",
    "        x = _union(s, x, nodes[i])\n",
    "    return s[x][0]"
   ]
  },
  {
   "cell_type": "code",
   "execution_count": 406,
   "metadata": {},
   "outputs": [
    {
     "output_type": "execute_result",
     "data": {
      "text/plain": "8798"
     },
     "metadata": {},
     "execution_count": 406
    }
   ],
   "source": [
    "Solution().largestComponentSize(longlist)"
   ]
  },
  {
   "cell_type": "code",
   "execution_count": 407,
   "metadata": {},
   "outputs": [],
   "source": [
    "faulty = []\n",
    "solution = Solution()\n",
    "for _ in range(100):\n",
    "    for s in range(100, 110):\n",
    "        arr = [random.randint(1, 100_000) for _ in range(s)]\n",
    "        if solution.largestComponentSize(arr) != largest_component_fast(arr):\n",
    "            faulty.append(arr)\n",
    "\n",
    "assert(not faulty)\n",
    "assert(largest_component([74583, 83956, 56549, 6535, 25990, 64165, 93365, 60221, 72196, 88897, 38813, 62450, 55048, 12163, 33960, 10568, 39123, 75028, 19608, 76991, 95453, 25988, 19992, 70308, 45210, 14210, 43060, 2051, 41943, 89791, 32111, 40206, 67702, 25941, 56549, 76054]) == 28)"
   ]
  },
  {
   "cell_type": "code",
   "execution_count": 408,
   "metadata": {},
   "outputs": [],
   "source": [
    "def choose_between(nums, a, b):\n",
    "    for i in range(b, a - 1, -1):\n",
    "        if i in nums:\n",
    "            del nums[nums.index(i)]\n",
    "            return i\n",
    "    return -1"
   ]
  },
  {
   "cell_type": "code",
   "execution_count": 409,
   "metadata": {},
   "outputs": [],
   "source": [
    "A = [2, 0, 0, 1]"
   ]
  },
  {
   "cell_type": "code",
   "execution_count": 411,
   "metadata": {},
   "outputs": [
    {
     "output_type": "execute_result",
     "data": {
      "text/plain": "2"
     },
     "metadata": {},
     "execution_count": 411
    }
   ],
   "source": [
    "choose_between(A, 0, 2)"
   ]
  },
  {
   "cell_type": "code",
   "execution_count": 412,
   "metadata": {},
   "outputs": [
    {
     "output_type": "execute_result",
     "data": {
      "text/plain": "[0, 0, 1]"
     },
     "metadata": {},
     "execution_count": 412
    }
   ],
   "source": [
    "A"
   ]
  },
  {
   "cell_type": "code",
   "execution_count": 413,
   "metadata": {},
   "outputs": [
    {
     "output_type": "execute_result",
     "data": {
      "text/plain": "1"
     },
     "metadata": {},
     "execution_count": 413
    }
   ],
   "source": [
    "choose_between(A, 0, 3)"
   ]
  },
  {
   "cell_type": "code",
   "execution_count": 414,
   "metadata": {},
   "outputs": [
    {
     "output_type": "execute_result",
     "data": {
      "text/plain": "[0, 0]"
     },
     "metadata": {},
     "execution_count": 414
    }
   ],
   "source": [
    "A"
   ]
  },
  {
   "cell_type": "code",
   "execution_count": 415,
   "metadata": {},
   "outputs": [
    {
     "output_type": "execute_result",
     "data": {
      "text/plain": "0"
     },
     "metadata": {},
     "execution_count": 415
    }
   ],
   "source": [
    "choose_between(A, 0, 5)"
   ]
  },
  {
   "cell_type": "code",
   "execution_count": 416,
   "metadata": {},
   "outputs": [
    {
     "output_type": "execute_result",
     "data": {
      "text/plain": "[0]"
     },
     "metadata": {},
     "execution_count": 416
    }
   ],
   "source": [
    "\n",
    "A"
   ]
  },
  {
   "cell_type": "code",
   "execution_count": 417,
   "metadata": {},
   "outputs": [
    {
     "output_type": "execute_result",
     "data": {
      "text/plain": "0"
     },
     "metadata": {},
     "execution_count": 417
    }
   ],
   "source": [
    "choose_between(A, 0, 9)"
   ]
  },
  {
   "cell_type": "code",
   "execution_count": 418,
   "metadata": {},
   "outputs": [
    {
     "output_type": "execute_result",
     "data": {
      "text/plain": "[]"
     },
     "metadata": {},
     "execution_count": 418
    }
   ],
   "source": [
    "A"
   ]
  },
  {
   "cell_type": "code",
   "execution_count": null,
   "metadata": {},
   "outputs": [],
   "source": []
  }
 ]
}