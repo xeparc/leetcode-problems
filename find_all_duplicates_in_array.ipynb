{
 "cells": [
  {
   "cell_type": "markdown",
   "metadata": {},
   "source": [
    "<h2 style=\"color:black\"><center>Find All Duplicates in Array</center></h2>\n",
    "<h3 style=\"color:black\">Problem</h3>\n",
    "<p>Given an array of integers 1 <= a[i] <= n (n == size of the array), some elements appear twice,\n",
    "other appear once.\n",
    "<br>Find all elements that appear twice in this array.</p>\n",
    "<p><i>Could you do it without extra space and in $O(n)$ time?</i></p>    "
   ]
  },
  {
   "cell_type": "code",
   "execution_count": 28,
   "metadata": {},
   "outputs": [
    {
     "data": {
      "text/plain": [
       "True"
      ]
     },
     "execution_count": 28,
     "metadata": {},
     "output_type": "execute_result"
    }
   ],
   "source": [
    "import collections\n",
    "import random\n",
    "\n",
    "\n",
    "def find_all_duplicates(arr):\n",
    "    duplicates = []\n",
    "    for i, x in enumerate(arr, 1):\n",
    "        if arr[abs(x) - 1] > 0:\n",
    "            arr[abs(x) - 1] *= -1\n",
    "        elif arr[abs(x) - 1] < 0:\n",
    "            duplicates.append(abs(x))\n",
    "    \n",
    "    return duplicates\n",
    "\n",
    "\n",
    "def _find_all_duplicates(arr):\n",
    "    \"\"\"Implementation for testing.\"\"\"\n",
    "    c = collections.Counter(arr)\n",
    "    return [k for k, v in c.items() if v == 2]\n",
    "\n",
    "\n",
    "def test_find_all_duplicates():\n",
    "    half_size = 20\n",
    "    population = list(range(1, 2 * half_size + 1))\n",
    "    for _ in range(1000):\n",
    "        arr = random.sample(population, half_size)\n",
    "        arr.extend(random.sample(population, half_size))\n",
    "        r1 = find_all_duplicates(list(arr))\n",
    "        r2 = _find_all_duplicates(list(arr))\n",
    "        if sorted(r1) != sorted(r2):\n",
    "            return False\n",
    "    return True\n",
    "\n",
    "\n",
    "find_all_duplicates([1, 4, 2, 1])\n",
    "test_find_all_duplicates()"
   ]
  }
 ],
 "metadata": {
  "kernelspec": {
   "display_name": "Python 3",
   "language": "python",
   "name": "python3"
  },
  "language_info": {
   "codemirror_mode": {
    "name": "ipython",
    "version": 3
   },
   "file_extension": ".py",
   "mimetype": "text/x-python",
   "name": "python",
   "nbconvert_exporter": "python",
   "pygments_lexer": "ipython3",
   "version": "3.6.5"
  }
 },
 "nbformat": 4,
 "nbformat_minor": 2
}
