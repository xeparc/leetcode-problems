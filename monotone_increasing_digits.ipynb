{
 "cells": [
  {
   "cell_type": "markdown",
   "metadata": {},
   "source": [
    "Monotone Increasing Digits\n",
    "===\n",
    "***\n",
    "Problem\n",
    "---\n",
    "https://leetcode.com/problems/monotone-increasing-digits/\n",
    "\n",
    "Given a non-negative integer N, find the largest number that is less than or equal to N with monotone increasing digits.\n",
    "(Recall that an integer has monotone increasing digits if and only if each pair of adjacent digits x and y satisfy x <= y.)\n",
    "\n",
    "Example 1:  \n",
    "Input: N = 10  \n",
    "Output: 9  \n",
    "\n",
    "\n",
    "Example 2:  \n",
    "Input: N = 1234  \n",
    "Output: 1234  \n",
    "\n",
    "\n",
    "Example 3:  \n",
    "Input: N = 332  \n",
    "Output: 299  \n",
    "\n",
    "Note: N is an integer in the range [0, 10^9]."
   ]
  },
  {
   "cell_type": "markdown",
   "metadata": {},
   "source": [
    "**Brute force solution - \\$O(n)\\$**"
   ]
  },
  {
   "cell_type": "code",
   "execution_count": 50,
   "metadata": {},
   "outputs": [],
   "source": [
    "def is_increasing(num):\n",
    "    digits = str(num)\n",
    "    for i, j in zip(digits, itertools.islice(digits, 1, None)):\n",
    "        if i > j:\n",
    "            return False\n",
    "    return True\n",
    "\n",
    "\n",
    "def monotone_increasing_bf(num):\n",
    "    while num:\n",
    "        if is_increasing(num):\n",
    "            return num\n",
    "        num -= 1\n",
    "    return num"
   ]
  },
  {
   "cell_type": "markdown",
   "metadata": {},
   "source": [
    "**Greedy solution - \\$O(log_{10}n)\\$**"
   ]
  },
  {
   "cell_type": "code",
   "execution_count": 85,
   "metadata": {},
   "outputs": [],
   "source": [
    "def monotone_increasing(num):\n",
    "    digits = str(num)\n",
    "    # Find the first inversion\n",
    "    N = len(digits)\n",
    "    for i, j in zip(range(N), range(1, N)):\n",
    "        if digits[i] > digits[j]:\n",
    "            break\n",
    "    else:\n",
    "        return int(digits)\n",
    "    lookup = dict(zip('23456789', '12345678'))\n",
    "    d = lookup.get(digits[i], '')\n",
    "    res = digits[:i]\n",
    "    while res and res[-1] > d:\n",
    "        res.pop()\n",
    "        j -= 1\n",
    "    res.append(d)\n",
    "    res.extend('9' * (N - j))\n",
    "    return int(''.join(res))"
   ]
  },
  {
   "cell_type": "markdown",
   "metadata": {},
   "source": [
    "**Optimized Greedy solution - \\$O(log_{10}n)\\$**"
   ]
  },
  {
   "cell_type": "code",
   "execution_count": 129,
   "metadata": {},
   "outputs": [],
   "source": [
    "def to_digits(num):\n",
    "    res = [] if num else [0]\n",
    "    while num:\n",
    "        res.append(num % 10)\n",
    "        num //= 10\n",
    "    return res[::-1]\n",
    "\n",
    "def monotone_increasing_fast(num):\n",
    "    digits = to_digits(num)\n",
    "    N = len(digits)\n",
    "    for i, j in zip(range(N), range(1, N)):\n",
    "        # Find the first inversion\n",
    "        if digits[i] > digits[j]:\n",
    "            # Find the rightmost index of digit that\n",
    "            # can be decreased while retaining the monotone property\n",
    "            # of all digits following it and decrease it\n",
    "            d = digits[i] - 1\n",
    "            j = i - 1\n",
    "            while j >= 0 and digits[j] > d:\n",
    "                j  -= 1\n",
    "            digits[j + 1] -= 1\n",
    "            # Then apppend 9's after the decreased index\n",
    "            for k in range(j + 2, N):\n",
    "                digits[k] = 9\n",
    "            break\n",
    "    res = 0\n",
    "    for d in digits:\n",
    "        res *= 10\n",
    "        res += d\n",
    "    return res"
   ]
  },
  {
   "cell_type": "markdown",
   "metadata": {},
   "source": [
    "**Tests**"
   ]
  },
  {
   "cell_type": "code",
   "execution_count": 125,
   "metadata": {},
   "outputs": [],
   "source": [
    "for d in range(1000):\n",
    "    a = monotone_increasing_bf(d)\n",
    "    b = monotone_increasing_fast(d)\n",
    "    if a != b:\n",
    "        print(d, a, b)"
   ]
  },
  {
   "cell_type": "code",
   "execution_count": 105,
   "metadata": {},
   "outputs": [
    {
     "name": "stdout",
     "output_type": "stream",
     "text": [
      "3.18 µs ± 82.9 ns per loop (mean ± std. dev. of 7 runs, 100000 loops each)\n"
     ]
    }
   ],
   "source": [
    "%timeit to_digits(1453675323414125)"
   ]
  },
  {
   "cell_type": "code",
   "execution_count": 100,
   "metadata": {},
   "outputs": [
    {
     "name": "stdout",
     "output_type": "stream",
     "text": [
      "3.92 µs ± 76.6 ns per loop (mean ± std. dev. of 7 runs, 100000 loops each)\n"
     ]
    }
   ],
   "source": [
    "%timeit [int(c) for c in str(1453675323414125)]"
   ]
  },
  {
   "cell_type": "code",
   "execution_count": 126,
   "metadata": {},
   "outputs": [
    {
     "name": "stdout",
     "output_type": "stream",
     "text": [
      "36.7 ms ± 380 µs per loop (mean ± std. dev. of 7 runs, 10 loops each)\n"
     ]
    }
   ],
   "source": [
    "%timeit [monotone_increasing_fast(n) for n in range(10000)]"
   ]
  },
  {
   "cell_type": "code",
   "execution_count": 127,
   "metadata": {},
   "outputs": [
    {
     "name": "stdout",
     "output_type": "stream",
     "text": [
      "41.1 ms ± 268 µs per loop (mean ± std. dev. of 7 runs, 10 loops each)\n"
     ]
    }
   ],
   "source": [
    "%timeit [monotone_increasing(n) for n in range(10000)]"
   ]
  },
  {
   "cell_type": "code",
   "execution_count": null,
   "metadata": {},
   "outputs": [],
   "source": []
  }
 ],
 "metadata": {
  "kernelspec": {
   "display_name": "Python 3",
   "language": "python",
   "name": "python3"
  },
  "language_info": {
   "codemirror_mode": {
    "name": "ipython",
    "version": 3
   },
   "file_extension": ".py",
   "mimetype": "text/x-python",
   "name": "python",
   "nbconvert_exporter": "python",
   "pygments_lexer": "ipython3",
   "version": "3.7.6"
  }
 },
 "nbformat": 4,
 "nbformat_minor": 4
}
