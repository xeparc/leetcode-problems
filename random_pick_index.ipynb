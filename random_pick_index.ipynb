{
 "cells": [
  {
   "cell_type": "markdown",
   "metadata": {},
   "source": [
    "<h2><center>Random Pick Index</center></h2>\n",
    "<h3>Problem:</h3>\n",
    "<p>Given an array of integers with possible duplicates, randomly output the<br>\n",
    "index of a given target number. You can assume that the given target number<br>\n",
    "must exist in the array.</p>"
   ]
  },
  {
   "cell_type": "markdown",
   "metadata": {},
   "source": [
    "$$ \\Pr(\\text{I is selected}) = \\Pr(\\text{I replaces index}) \\cup \\Pr(\\text{no target index > I replaces I}) $$\n",
    "<br>\n",
    "$$ =\\frac{1}{i} \\cdot \\left( 1 - \\frac{1}{i + 1} \\right) \\left( 1 - \\frac{1}{i + 2} \\right) \\cdot\\cdot\\cdot\n",
    "\\left( 1 - \\frac{1}{k} \\right) $$\n",
    "<br>\n",
    "$$ = \\frac{1}{i} \\cdot \\frac{i}{i+1} \\cdot \\frac{i+1}{i+2} \\cdot\\cdot\\cdot \\frac{k-1}{k} $$\n",
    "<br>\n",
    "$$ = \\frac{1}{k} $$"
   ]
  },
  {
   "cell_type": "code",
   "execution_count": 31,
   "metadata": {},
   "outputs": [
    {
     "name": "stdout",
     "output_type": "stream",
     "text": [
      "\n"
     ]
    },
    {
     "data": {
      "image/png": "[encoded data removed]",
      "text/plain": [
       "<Figure size 432x288 with 1 Axes>"
      ]
     },
     "metadata": {
      "needs_background": "light"
     },
     "output_type": "display_data"
    },
    {
     "name": "stdout",
     "output_type": "stream",
     "text": [
      "index   |   count\n",
      "\n",
      "7       |      20\n",
      "4       |      22\n",
      "2       |      30\n",
      "3       |      28\n"
     ]
    }
   ],
   "source": [
    "import collections\n",
    "from matplotlib import pyplot as plt\n",
    "import random\n",
    "\n",
    "\n",
    "def random_pick_index(arr, target):\n",
    "    total_samples = 0\n",
    "    index = -1\n",
    "    for i, x in enumerate(arr):\n",
    "        if x == target:\n",
    "            total_samples += 1\n",
    "            \n",
    "            if random.randint(1, total_samples) == 1:\n",
    "                index = i\n",
    "    return index\n",
    "\n",
    "\n",
    "def test_random_pick_index():\n",
    "    arr = [1, 2, 3, 3, 3, 4, 5, 3, 6]\n",
    "    picks = []\n",
    "    for _ in range(100):\n",
    "        picks.append(random_pick_index(arr, 3))\n",
    "    \n",
    "    plt.scatter(range(1, len(picks) + 1), picks)\n",
    "    print()\n",
    "    plt.show()\n",
    "    c = collections.Counter(picks)\n",
    "    print('{0:<8}|{1:>8}'.format('index', 'count'))\n",
    "    print()\n",
    "    for k, v in c.items():\n",
    "        print('{0:<8}|{1:>8}'.format(k, v))\n",
    "    return\n",
    "\n",
    "    \n",
    "test_random_pick_index()"
   ]
  }
 ],
 "metadata": {
  "kernelspec": {
   "display_name": "Python 3",
   "language": "python",
   "name": "python3"
  },
  "language_info": {
   "codemirror_mode": {
    "name": "ipython",
    "version": 3
   },
   "file_extension": ".py",
   "mimetype": "text/x-python",
   "name": "python",
   "nbconvert_exporter": "python",
   "pygments_lexer": "ipython3",
   "version": "3.6.5"
  }
 },
 "nbformat": 4,
 "nbformat_minor": 2
}
