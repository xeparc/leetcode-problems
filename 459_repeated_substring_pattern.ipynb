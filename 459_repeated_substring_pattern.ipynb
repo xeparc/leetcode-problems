{
 "metadata": {
  "language_info": {
   "codemirror_mode": {
    "name": "ipython",
    "version": 3
   },
   "file_extension": ".py",
   "mimetype": "text/x-python",
   "name": "python",
   "nbconvert_exporter": "python",
   "pygments_lexer": "ipython3",
   "version": "3.6.5-final"
  },
  "orig_nbformat": 2,
  "kernelspec": {
   "name": "python_defaultSpec_1599166418899",
   "display_name": "Python 3.6.5 64-bit ('base': conda)"
  }
 },
 "nbformat": 4,
 "nbformat_minor": 2,
 "cells": [
  {
   "cell_type": "markdown",
   "metadata": {},
   "source": [
    "459 Repeated Substring Pattern\n",
    "===\n",
    "Problem\n",
    "---\n",
    "https://leetcode.com/problems/repeated-substring-pattern/\n",
    "\n",
    "\n",
    "Given a non-empty string check if it can be constructed by taking a substring of it and appending multiple copies of the substring together. You may assume the given string consists of lowercase English letters only and its length will not exceed 10000.\n",
    "\n",
    " \n",
    "\n",
    "**Example 1:**\n",
    "Input: \"abab\"  \n",
    "Output: True  \n",
    "Explanation: It's the substring \"ab\" twice.  \n",
    "\n",
    "\n",
    "**Example 2:**\n",
    "Input: \"aba\"  \n",
    "Output: False  \n",
    "\n",
    "**Example 3:**\n",
    "Input: \"abcabcabcabc\"  \n",
    "Output: True  \n",
    "Explanation: It's the substring \"abc\" four times. (And the substring \"abcabc\" twice.)  "
   ]
  },
  {
   "cell_type": "code",
   "execution_count": 1,
   "metadata": {},
   "outputs": [],
   "source": [
    "class Solution:\n",
    "    def __init__(self):\n",
    "        N = 10_001\n",
    "        spf = list(range(N))\n",
    "        for i in range(4, N, 2):\n",
    "            spf[i] = 2\n",
    "        for i in range(3, N, 2):\n",
    "            if i == spf[i]:\n",
    "                for j in range(i * i, N, i):\n",
    "                    spf[j] = i\n",
    "        self.spf = spf\n",
    "        \n",
    "    def factors(self, n):\n",
    "        res = []\n",
    "        spf = self.spf\n",
    "        while n > 1:\n",
    "            p = spf[n]\n",
    "            while n % p == 0:\n",
    "                n = n // p\n",
    "            res.append(p)\n",
    "        return res\n",
    "    \n",
    "    def repeatedSubstringPattern(self, s: str) -> bool:\n",
    "        N = len(s)\n",
    "        if N < 2:\n",
    "            return False\n",
    "        c = s[0]\n",
    "        for i in range(1, N):\n",
    "            if c != s[i]:\n",
    "                break\n",
    "        else:\n",
    "            return True\n",
    "        for f in self.factors(N):\n",
    "            if f != len(s) and check_repeated(s[:N // f], s):\n",
    "                return True\n",
    "        return False\n",
    "\n",
    "    \n",
    "def check_repeated(substr, s):\n",
    "    step = len(substr)\n",
    "    for i in range(step, len(s), step):\n",
    "        if s[i: i + step] != substr:\n",
    "            return False\n",
    "    return True"
   ]
  },
  {
   "cell_type": "code",
   "execution_count": null,
   "metadata": {},
   "outputs": [],
   "source": []
  }
 ]
}