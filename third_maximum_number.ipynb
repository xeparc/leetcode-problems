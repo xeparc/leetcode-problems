{
 "cells": [
  {
   "cell_type": "markdown",
   "metadata": {},
   "source": [
    "<h2 style=\"color:black\"><center>Third Maximum Number</center></h2>\n",
    "<h3 style=\"color:black\">Problem:</h3>\n",
    "<p>Given a non-empty array of integers, return the third maximum number in this array.<br>\n",
    "If it does not exists, return the maxium number. The time complexity must be in $O(n)$.</p>"
   ]
  },
  {
   "cell_type": "code",
   "execution_count": 12,
   "metadata": {},
   "outputs": [
    {
     "data": {
      "text/plain": [
       "5"
      ]
     },
     "execution_count": 12,
     "metadata": {},
     "output_type": "execute_result"
    }
   ],
   "source": [
    "import collections\n",
    "import array\n",
    "\n",
    "\n",
    "def third_max_number(arr):\n",
    "    if not array:\n",
    "        return None\n",
    "    \n",
    "    maxelem = arr[0]\n",
    "    seq = array.array('i', [0, 0, 0, 0])\n",
    "    seq_sz = 0\n",
    "    for x in arr:\n",
    "        maxelem = max(maxelem, x)\n",
    "        if x not in seq:\n",
    "            i = seq_sz\n",
    "            while i > 0 and x > seq[i - 1]:\n",
    "                seq[i] = seq[i - 1]\n",
    "                i -= 1\n",
    "            seq[i] = x\n",
    "            seq_sz = min(seq_sz + 1, 3)\n",
    "    \n",
    "    return seq[2] if seq_sz == 3 else maxelem\n",
    "\n",
    "third_max_number([4, 5, 4, 4, 4])"
   ]
  }
 ],
 "metadata": {
  "kernelspec": {
   "display_name": "Python 3",
   "language": "python",
   "name": "python3"
  },
  "language_info": {
   "codemirror_mode": {
    "name": "ipython",
    "version": 3
   },
   "file_extension": ".py",
   "mimetype": "text/x-python",
   "name": "python",
   "nbconvert_exporter": "python",
   "pygments_lexer": "ipython3",
   "version": "3.6.5"
  }
 },
 "nbformat": 4,
 "nbformat_minor": 2
}
