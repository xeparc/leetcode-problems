{
 "cells": [
  {
   "cell_type": "markdown",
   "metadata": {},
   "source": [
    "# Hamming Weight\n",
    "\n",
    "Write a function that takes an unsigned integer and returns the number of 1 bits it has (also known as Hamming weight)."
   ]
  },
  {
   "cell_type": "code",
   "execution_count": 7,
   "metadata": {},
   "outputs": [
    {
     "data": {
      "text/plain": [
       "True"
      ]
     },
     "execution_count": 7,
     "metadata": {},
     "output_type": "execute_result"
    }
   ],
   "source": [
    "import random\n",
    "\n",
    "\n",
    "def hamming_weight(n):\n",
    "    result = 0\n",
    "    while n:\n",
    "        n &= (n - 1)\n",
    "        result += 1\n",
    "    return result\n",
    "\n",
    "\n",
    "def _hamming_weight(n):\n",
    "    \"\"\"For testing\"\"\"\n",
    "    return bin(n)[2:].count('1')\n",
    "\n",
    "\n",
    "def test_hamming_weight():\n",
    "    for _ in range(10000):\n",
    "        n = random.randint(0, 2 << 20)\n",
    "        if hamming_weight(n) != _hamming_weight(n):\n",
    "            return False\n",
    "    return True\n",
    "\n",
    "test_hamming_weight()"
   ]
  },
  {
   "cell_type": "code",
   "execution_count": null,
   "metadata": {},
   "outputs": [],
   "source": []
  }
 ],
 "metadata": {
  "kernelspec": {
   "display_name": "Python 3",
   "language": "python",
   "name": "python3"
  },
  "language_info": {
   "codemirror_mode": {
    "name": "ipython",
    "version": 3
   },
   "file_extension": ".py",
   "mimetype": "text/x-python",
   "name": "python",
   "nbconvert_exporter": "python",
   "pygments_lexer": "ipython3",
   "version": "3.7.4"
  }
 },
 "nbformat": 4,
 "nbformat_minor": 2
}
