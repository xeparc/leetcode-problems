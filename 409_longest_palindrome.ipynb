{
 "cells": [
  {
   "cell_type": "markdown",
   "metadata": {},
   "source": [
    "Longest Palindrome\n",
    "===\n",
    "***\n",
    "Problem\n",
    "---\n",
    "\n",
    "https://leetcode.com/problems/longest-palindrome/\n",
    "\n",
    "Given a string which consists of lowercase or uppercase letters, find the length of the longest palindromes that can be built with those letters. This is case sensitive, for example \"Aa\" is not considered a palindrome here.\n",
    "\n",
    "Note:\n",
    "Assume the length of given string will not exceed 1,010.\n",
    "\n",
    "\n",
    "**Example:**  \n",
    "\n",
    "Input:  \n",
    "\"abccccdd\"  \n",
    "\n",
    "Output:  \n",
    "7  \n",
    "\n",
    "Explanation:  \n",
    "One longest palindrome that can be built is \"dccaccd\", whose length is 7."
   ]
  },
  {
   "cell_type": "code",
   "execution_count": 3,
   "metadata": {},
   "outputs": [],
   "source": [
    "from collections import Counter"
   ]
  },
  {
   "cell_type": "markdown",
   "metadata": {},
   "source": [
    "**Greedy solution - \\$O(n)\\$**"
   ]
  },
  {
   "cell_type": "code",
   "execution_count": 8,
   "metadata": {},
   "outputs": [],
   "source": [
    "def longest_palindrome(seq):\n",
    "    counter = Counter(seq)\n",
    "    single = 0\n",
    "    for k, v in counter.items():\n",
    "        if v % 2:\n",
    "            single = 1\n",
    "        counter[k] = v // 2\n",
    "    return single + 2 * sum(v for k, v in counter.items())"
   ]
  },
  {
   "cell_type": "markdown",
   "metadata": {},
   "source": [
    "**Tests**"
   ]
  },
  {
   "cell_type": "code",
   "execution_count": 12,
   "metadata": {},
   "outputs": [],
   "source": [
    "assert(longest_palindrome('aab') == 3)\n",
    "assert(longest_palindrome('aa') == 2)\n",
    "assert(longest_palindrome('aA') == 1)\n",
    "assert(longest_palindrome('a') == 1)\n",
    "assert(longest_palindrome('a' + 'b' * 5 + 'c' * 7 + 'D' * 3 + 'E' * 1 + 'F' * 1) == 13)\n",
    "assert(longest_palindrome('') == 0)\n",
    "assert(longest_palindrome(\"abccccdd\") == 7)"
   ]
  }
 ],
 "metadata": {
  "kernelspec": {
   "display_name": "Python 3",
   "language": "python",
   "name": "python3"
  },
  "language_info": {
   "codemirror_mode": {
    "name": "ipython",
    "version": 3
   },
   "file_extension": ".py",
   "mimetype": "text/x-python",
   "name": "python",
   "nbconvert_exporter": "python",
   "pygments_lexer": "ipython3",
   "version": "3.7.6"
  }
 },
 "nbformat": 4,
 "nbformat_minor": 4
}
